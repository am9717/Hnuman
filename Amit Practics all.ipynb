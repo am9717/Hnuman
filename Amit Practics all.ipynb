{
 "cells": [
  {
   "cell_type": "code",
   "execution_count": null,
   "id": "725f518b",
   "metadata": {},
   "outputs": [],
   "source": [
    "# its define the even and odd number\n",
    "li1 = [23,43,54,65,67,78,24,28,89]\n",
    "even = []\n",
    "odd = []\n",
    "for i in li1:\n",
    "    if i%2==0:\n",
    "        even.append(i)\n",
    "    else:\n",
    "        odd.append(i)\n",
    "    \n",
    "print(\"Enter the even>>>\",even)\n",
    "print(\"Enter the odd>>>\",odd)"
   ]
  },
  {
   "cell_type": "code",
   "execution_count": null,
   "id": "c47f5548",
   "metadata": {},
   "outputs": [],
   "source": [
    "# possitve and negetive number\n",
    "li2 = [-23,-43,-67,58,78,24,28,89]\n",
    "poss = []\n",
    "neg = []\n",
    "for i in li2:\n",
    "    if i%2!=0:\n",
    "        neg.append(i)\n",
    "    else:\n",
    "        poss.append(i)\n",
    "print(\"Enter the poss number>>>\",poss)\n",
    "print(\"Enter the neg number>>>\",neg)"
   ]
  },
  {
   "cell_type": "code",
   "execution_count": null,
   "id": "4f114fc2",
   "metadata": {},
   "outputs": [],
   "source": [
    "n = [2,3,4,5]\n",
    "square_n = Lambda x:x**2\n",
    "print(square_n)"
   ]
  },
  {
   "cell_type": "code",
   "execution_count": null,
   "id": "8fe34e77",
   "metadata": {},
   "outputs": [],
   "source": [
    "num = [2,3,4,5,6]\n",
    "square_num = list(map(lambda x:x**2, num))\n",
    "square_num"
   ]
  },
  {
   "cell_type": "code",
   "execution_count": null,
   "id": "71e2956e",
   "metadata": {},
   "outputs": [],
   "source": [
    "num1 = [1,2,-3,4,5,-6,7,8,9,10]\n",
    "\n",
    "square_num1 = list(filter(lambda x:x%2!=0,num1))\n",
    "square_num1"
   ]
  },
  {
   "cell_type": "code",
   "execution_count": null,
   "id": "0950cbec",
   "metadata": {},
   "outputs": [],
   "source": [
    "\n",
    "age  = int(input(\"Enter your age here>>>\"))\n",
    "\n",
    "for i in age:\n",
    "    if age>18:\n",
    "        print(\"Sorry! you cannot drive the car\")\n",
    "    else:\n",
    "        print(\"Congress! you can drive the Car\")"
   ]
  },
  {
   "cell_type": "code",
   "execution_count": null,
   "id": "a810029c",
   "metadata": {},
   "outputs": [],
   "source": [
    "for i in range(5):\n",
    "    pass"
   ]
  },
  {
   "cell_type": "code",
   "execution_count": null,
   "id": "57907914",
   "metadata": {},
   "outputs": [],
   "source": [
    "\n",
    "for i in range(10):\n",
    "    if i%2!=0:\n",
    "        continue\n",
    "    print(i)"
   ]
  },
  {
   "cell_type": "code",
   "execution_count": null,
   "id": "fd47e7cb",
   "metadata": {},
   "outputs": [],
   "source": [
    "number = [1,2,3,4,5,6,7,8,9,10]\n",
    "\n",
    "for num in number:\n",
    "    if num%2==0:\n",
    "        print(\"first even number found :\",num)\n",
    "        break\n",
    "        "
   ]
  },
  {
   "cell_type": "code",
   "execution_count": null,
   "id": "cbc3fe8e",
   "metadata": {},
   "outputs": [],
   "source": [
    "dict1 = {1:'A',2:'B',3:'C',4:'5',6:'7'}\n",
    "print(dict1)"
   ]
  },
  {
   "cell_type": "code",
   "execution_count": null,
   "id": "4058ad8d",
   "metadata": {},
   "outputs": [],
   "source": [
    "    def greet(self):\n",
    "        return f\"Hellow,I am {self.name} from the parent class.\"\n",
    "\n",
    "class child(parent):\n",
    "    def __init__(self,name,age):\n",
    "        super().__init__(name)\n",
    "        self.age=age\n",
    "        \n",
    "    def greet(self):\n",
    "        parent_greeting = super().greet()\n",
    "        return f\"{parent_greeting} I'm {self.age} years old from the Child class.\"\n",
    "\n",
    "\n",
    "child_obj = Child(\"Alice\", 5)\n",
    "\n",
    "\n",
    "print(child_obj.greet())"
   ]
  },
  {
   "cell_type": "code",
   "execution_count": null,
   "id": "69d5ac3e",
   "metadata": {},
   "outputs": [],
   "source": [
    "class Parent:\n",
    "    def __init__(self, name):\n",
    "        self.name = name\n",
    "    \n",
    "    def greet(self):\n",
    "        return f\"Hello, I'm {self.name} from the Parent class.\"\n",
    "\n",
    "class Child(Parent):\n",
    "    def __init__(self, name, age):\n",
    "        super().__init__(name)\n",
    "        self.age = age\n",
    "    \n",
    "    def greet(self):\n",
    "        parent_greeting = super().greet()  \n",
    "        return f\"{parent_greeting} I'm {self.age} years old from the Child class.\"\n",
    "\n",
    "\n",
    "child_obj = Child(\"Alice\", 5)\n",
    "\n",
    "\n",
    "print(child_obj.greet())"
   ]
  },
  {
   "cell_type": "code",
   "execution_count": null,
   "id": "d7265429",
   "metadata": {},
   "outputs": [],
   "source": [
    "class father:\n",
    "    \n",
    "    def __init__(self,name,age):\n",
    "        self.name = name\n",
    "    def nota(self):\n",
    "        return f\"Hellow this is {self.name} and {self.age} from father class.\"\n",
    "father1 = ('Mohan',32)\n",
    "\n",
    "print(father1.nota())"
   ]
  },
  {
   "cell_type": "code",
   "execution_count": null,
   "id": "f7b5730f",
   "metadata": {},
   "outputs": [],
   "source": [
    "def message():\n",
    "    \n",
    "    print(\"Welcome to python neative \")\n",
    "    \n",
    "message()"
   ]
  },
  {
   "cell_type": "code",
   "execution_count": null,
   "id": "7fe763e0",
   "metadata": {},
   "outputs": [],
   "source": [
    "def college(name,age):\n",
    "    print(\"Hello\", name, \"this side is mohan\")\n",
    "    print(\"Hii\", age,\"his age is \")\n",
    "\n",
    "    \n",
    "college('Mohan','Noida')"
   ]
  },
  {
   "cell_type": "code",
   "execution_count": null,
   "id": "1a31c4be",
   "metadata": {},
   "outputs": [],
   "source": [
    "def family_info(Name,Age,Address):\n",
    "    print(\"Introduction:\",Name)\n",
    "    print(\"his:\",Age)\n",
    "    print(\"Location:\",Address)\n",
    "    \n",
    "family_info('Harshit',32,'Noida')"
   ]
  },
  {
   "cell_type": "code",
   "execution_count": null,
   "id": "7d0d478d",
   "metadata": {},
   "outputs": [],
   "source": [
    "def minister_info(Name,age,qulification,colour,address):\n",
    "    print(\"Name>>>\",Name)\n",
    "    print(\"Age>>>\",age)\n",
    "    print(\"Qulification>>>\",qulification)\n",
    "    print(\"Colour>>>\",colour)\n",
    "    print(\"Address>>>\",address)\n",
    "    \n",
    "minister_info(\"Damoder Dash Neader Modi\",23,'B.com','White','Kashi')"
   ]
  },
  {
   "cell_type": "code",
   "execution_count": null,
   "id": "4a4f85bd",
   "metadata": {},
   "outputs": [],
   "source": [
    "class Family:\n",
    "    \n",
    "    def __init__(self,name,age):\n",
    "        self.name=name\n",
    "        self.age=age\n",
    "        \n",
    "    def Family_info(self):\n",
    "        return f\"Hello your name is  {self.name} and your age {self.age}\"\n",
    "Family = ('Hnuman',32)\n",
    "Family.info"
   ]
  },
  {
   "cell_type": "code",
   "execution_count": null,
   "id": "cc2706c9",
   "metadata": {},
   "outputs": [],
   "source": []
  },
  {
   "cell_type": "code",
   "execution_count": null,
   "id": "ccd623d8",
   "metadata": {},
   "outputs": [],
   "source": [
    "# its call be super function \n",
    "class Parent:\n",
    "    \n",
    "    def __init__(self,name):\n",
    "        self.name=name\n",
    "    def greet(self):\n",
    "        return f\"Hello this is {self.name} from Prent class.\"\n",
    "class Child(Parent):\n",
    "    def __init__(self,name,age):\n",
    "        super().__init__(name)\n",
    "        self.age=age\n",
    "    \n",
    "    def greet(self):\n",
    "        Parent_greeting = super().greet()\n",
    "        return f\"{Parent_greeting} and {self.age} years old from child class\"\n",
    "\n",
    "child1 = Child(\"Alice\", 5)\n",
    "\n",
    "# Calling the overridden method\n",
    "print(child1.greet())"
   ]
  },
  {
   "cell_type": "code",
   "execution_count": null,
   "id": "19611e6c",
   "metadata": {},
   "outputs": [],
   "source": [
    "#Parent class1\n",
    "class Father:\n",
    "    def m1(self):\n",
    "        print(\"Inside method1 of parent class\")\n",
    "# parent calss2 \n",
    "class Mother:\n",
    "    def m2(self):\n",
    "        print(\"Inside method2 of parent class \")\n",
    "        \n",
    "class Child(Father,Mother):\n",
    "    def m3(self):\n",
    "        print(\"Inside method1 of child class\")\n",
    "     \n",
    "        \n",
    "c1 = Child()\n",
    "c1.m1()\n",
    "c1.m2()\n",
    "c1.m3()"
   ]
  },
  {
   "cell_type": "code",
   "execution_count": null,
   "id": "9dd8437a",
   "metadata": {},
   "outputs": [],
   "source": [
    "class Bick:\n",
    "    def Honda(self):\n",
    "        print(\"This is Honda Bike\")\n",
    "\n",
    "class Car:\n",
    "    \n",
    "    def Suzaki(self):\n",
    "        print(\"This is maruti Suzaki car\")\n",
    "        \n",
    "class Bus:\n",
    "    def Tata(self):\n",
    "        print(\"This is Tata Bus>>\")\n",
    "        \n",
    "class Truck:\n",
    "    def AashokLeand(self):\n",
    "        print(\"THis is AashokLeand Truck\")\n",
    "\n",
    "class TransPoter(Bick,Car,Bus,Truck):\n",
    "    def Main(self):\n",
    "        print(\"I am the Main Calss\")\n",
    "        \n",
    "T = TransPoter()\n",
    "T.Honda()\n",
    "T.Suzaki()\n",
    "T.Tata()\n",
    "T.AashokLeand()"
   ]
  },
  {
   "cell_type": "code",
   "execution_count": null,
   "id": "191745d0",
   "metadata": {},
   "outputs": [],
   "source": [
    "class Dog:\n",
    "    def __init__(self):\n",
    "        print(\"Bhoo Bhoo\")\n",
    "\n",
    "class Cat:\n",
    "    def __init__(self):\n",
    "        print(\"Meau meau\")\n",
    "\n",
    "class Animals:\n",
    "    def gogo(Dog,Cat):\n",
    "        print(\"This is Animals food\")\n",
    "Animals_obj = Animals()\n",
    "Animals_obj.gogo()"
   ]
  },
  {
   "cell_type": "code",
   "execution_count": null,
   "id": "692f2bc3",
   "metadata": {},
   "outputs": [],
   "source": [
    "class Dog:\n",
    "    def mono(self):\n",
    "        print(\"Bbo bho\")\n",
    "        \n",
    "Dog_obj = Dog()\n",
    "Dog_obj.mono()"
   ]
  },
  {
   "cell_type": "code",
   "execution_count": null,
   "id": "14007861",
   "metadata": {},
   "outputs": [],
   "source": [
    "class Employee:\n",
    "    def __init__(self,name,age):\n",
    "        self.name=name\n",
    "        self.age=age\n",
    "    def Emp_info(self):\n",
    "        print(f\"I'm {self.name} and your  {self.age}\")\n",
    "em1 = Employee('Mohan',23)\n",
    "em1.Emp_info()"
   ]
  },
  {
   "cell_type": "code",
   "execution_count": null,
   "id": "80e810cf",
   "metadata": {},
   "outputs": [],
   "source": [
    "# Creating an instance of the Student class\n",
    "Student1 = Student('Rohit', 23, 'Delhi', 'Python')\n",
    "\n",
    "# Calling methods to print information\n",
    "Student1.teac_info()\n",
    "Student1.stu_info()"
   ]
  },
  {
   "cell_type": "code",
   "execution_count": null,
   "id": "0a2316fb",
   "metadata": {},
   "outputs": [],
   "source": [
    "class Teacher:\n",
    "    \n",
    "    def __init__(self,student_name,student_age,student_address):\n",
    "        \n",
    "        self.student_name=student_name\n",
    "        self.student_age=student_age\n",
    "        self.student_address=student_address\n",
    "    \n",
    "    def teac_info(self):\n",
    "        print(f\"This is intoduction {self.student_name} or his {self.student_age} or his {self.student_address}\")\n",
    "\n",
    "class Student(Teacher):\n",
    "    \n",
    "    def __init__(self,student_name,student_age,student_address,course):\n",
    "        super().__init__(student_name,student_age,student_address)\n",
    "        self.course=course\n",
    "    \n",
    "    \n",
    "    def stu_info(self):\n",
    "        print(f\" That is {self.course}\")\n",
    "\n",
    "\n",
    "Student1 = Student('Rohit', 23, 'Delhi', 'Python')\n",
    "\n",
    "# Calling methods to print information\n",
    "Student1.teac_info()\n",
    "Student1.stu_info()"
   ]
  },
  {
   "cell_type": "code",
   "execution_count": null,
   "id": "6c6ce441",
   "metadata": {},
   "outputs": [],
   "source": [
    "class Teacher:\n",
    "    def __init__(self, student_name, student_age, student_address):\n",
    "        self.student_name = student_name\n",
    "        self.student_age = student_age\n",
    "        self.student_address = student_address\n",
    "    \n",
    "    def teac_info(self):\n",
    "        print(f\"This is {self.student_name} who is {self.student_age} years old and lives in {self.student_address}\")\n",
    "\n",
    "class Student(Teacher):\n",
    "    def __init__(self, student_name, student_age, student_address, course):\n",
    "        super().__init__(student_name, student_age, student_address)\n",
    "        self.course = course\n",
    "    \n",
    "    def stu_info(self):\n",
    "        print(f\"That is {self.course}\")\n",
    "\n",
    "# Creating an instance of the Student class\n",
    "d1 = Student('Rohit', 23, 'Delhi', 'Python')\n",
    "\n",
    "# Calling methods to print information\n",
    "d1.teac_info()\n",
    "d1.stu_info()"
   ]
  },
  {
   "cell_type": "code",
   "execution_count": null,
   "id": "38f4658f",
   "metadata": {},
   "outputs": [],
   "source": [
    "class Minister:\n",
    "    \n",
    "    def __init__(self,id,name,age,qulifaction,address):\n",
    "        self.id=id\n",
    "        self.name=name\n",
    "        self.age=age\n",
    "        self.qulifaction=qulifaction\n",
    "        self.address=address\n",
    "    def Min_info(self):\n",
    "        print(f\"there is {self.id} or his {self.name} or {self.age} or {self.qulifaction} or {self.address}\")\n",
    "        \n",
    "class Position(Minister):\n",
    "    \n",
    "    def __init__(self,id,name,age,qulifaction,address,habit):\n",
    "        super().__init__(id,name,age,qulifaction,address)\n",
    "        self.habit=habit\n",
    "    \n",
    "    \n",
    "    def Pos_info(self):\n",
    "        print(f\"this is {self.habit}\")\n",
    "        \n",
    "d1 = Position(201,'Modi',54,'BBA','Lalpur','playing')\n",
    "d1.Min_info()\n",
    "d1.Pos_info()"
   ]
  },
  {
   "cell_type": "code",
   "execution_count": null,
   "id": "da82ea5c",
   "metadata": {},
   "outputs": [],
   "source": [
    "def modi():\n",
    "    print(\"this is Prime minister of india\")\n",
    "\n",
    "Yogi"
   ]
  },
  {
   "cell_type": "code",
   "execution_count": null,
   "id": "460f97df",
   "metadata": {},
   "outputs": [],
   "source": [
    "def Rajputboy(name,age,address):\n",
    "    print(f\"This is {name} or {age} and {address}\")\n",
    "    \n",
    "Rajputboy('Ajay',32,'Noida')"
   ]
  },
  {
   "cell_type": "code",
   "execution_count": null,
   "id": "38b77f79",
   "metadata": {},
   "outputs": [],
   "source": [
    "for i in range(30):\n",
    "    pass"
   ]
  },
  {
   "cell_type": "code",
   "execution_count": null,
   "id": "3c4c3d00",
   "metadata": {},
   "outputs": [],
   "source": [
    "li1 = [21,32,43,54,56,76,87,98,78]\n",
    "for i in li1:\n",
    "    if i%2!=0:\n",
    "        continue\n",
    "print(\"Even number>>\",i)"
   ]
  },
  {
   "cell_type": "code",
   "execution_count": null,
   "id": "1b78d9ba",
   "metadata": {},
   "outputs": [],
   "source": [
    "li1 = [21,32,43,54,56,76,87,98,78]\n",
    "for i in li1:\n",
    "    if i%2!=0:\n",
    "        break\n",
    "print(\"Even number>>\",i)"
   ]
  },
  {
   "cell_type": "code",
   "execution_count": null,
   "id": "c8d160e1",
   "metadata": {},
   "outputs": [],
   "source": [
    "class Sample:\n",
    "    def __init__(self,x):\n",
    "        self.x=x\n",
    "    def one(self,y):\n",
    "        return self.x+y\n",
    "o = Sample(3)\n",
    "o.one(5)"
   ]
  },
  {
   "cell_type": "code",
   "execution_count": 4,
   "id": "6bf05bf7",
   "metadata": {},
   "outputs": [
    {
     "name": "stdout",
     "output_type": "stream",
     "text": [
      "8\n",
      "6\n",
      "6\n"
     ]
    }
   ],
   "source": [
    "l1 = [2,3,4,5,6,7,8,9]\n",
    "t1 = (32,43,54,56,67,87)\n",
    "s1 = {23,45,65,67,87,23,98}\n",
    "\n",
    "print(len(l1))\n",
    "print(len(t1))\n",
    "print(len(s1))"
   ]
  },
  {
   "cell_type": "code",
   "execution_count": 9,
   "id": "094a89b4",
   "metadata": {},
   "outputs": [
    {
     "name": "stdout",
     "output_type": "stream",
     "text": [
      "7\n"
     ]
    }
   ],
   "source": [
    "class One:\n",
    "    def __init__(self,x):\n",
    "        self.x=x\n",
    "\n",
    "    def __add__(self,other):\n",
    "        return self.x+other.x\n",
    "n1 = One(2)\n",
    "n2 = One(5)\n",
    "print(n1+n2)"
   ]
  },
  {
   "cell_type": "code",
   "execution_count": 11,
   "id": "24f0747c",
   "metadata": {},
   "outputs": [
    {
     "name": "stdout",
     "output_type": "stream",
     "text": [
      "9\n"
     ]
    }
   ],
   "source": [
    "class MyInt:\n",
    "    \n",
    "    def __init__(self,x):\n",
    "        self.x=x\n",
    "        \n",
    "    def __sub__(self,other):\n",
    "        return self.x-other.x\n",
    "    \n",
    "p1 = MyInt(13)\n",
    "p2 = MyInt(4)\n",
    "print(p1-p2)"
   ]
  },
  {
   "cell_type": "code",
   "execution_count": 14,
   "id": "8092ade8",
   "metadata": {},
   "outputs": [
    {
     "name": "stdout",
     "output_type": "stream",
     "text": [
      "52\n"
     ]
    }
   ],
   "source": [
    "class MyInt:\n",
    "    \n",
    "    def __init__(self,x):\n",
    "        self.x=x\n",
    "        \n",
    "    def __mul__(self,other):\n",
    "        return self.x*other.x\n",
    "    \n",
    "p1 = MyInt(13)\n",
    "p2 = MyInt(4)\n",
    "print(p1*p2)"
   ]
  },
  {
   "cell_type": "code",
   "execution_count": 15,
   "id": "2cf02fa9",
   "metadata": {},
   "outputs": [
    {
     "name": "stdout",
     "output_type": "stream",
     "text": [
      "3.25\n"
     ]
    }
   ],
   "source": [
    "class MyInt:\n",
    "    \n",
    "    def __init__(self,x):\n",
    "        self.x=x\n",
    "        \n",
    "    def __truediv__(self,other):\n",
    "        return self.x/other.x\n",
    "    \n",
    "p1 = MyInt(13)\n",
    "p2 = MyInt(4)\n",
    "print(p1/p2)"
   ]
  },
  {
   "cell_type": "code",
   "execution_count": 16,
   "id": "724f2f86",
   "metadata": {},
   "outputs": [
    {
     "name": "stdout",
     "output_type": "stream",
     "text": [
      "28561\n"
     ]
    }
   ],
   "source": [
    "class MyInt:\n",
    "    \n",
    "    def __init__(self,x):\n",
    "        self.x=x\n",
    "        \n",
    "    def __pow__(self,other):\n",
    "        return self.x**other.x\n",
    "    \n",
    "p1 = MyInt(13)\n",
    "p2 = MyInt(4)\n",
    "print(p1**p2)"
   ]
  },
  {
   "cell_type": "code",
   "execution_count": 18,
   "id": "25d60a4f",
   "metadata": {},
   "outputs": [
    {
     "ename": "TypeError",
     "evalue": "unsupported operand type(s) for %: 'MyInt' and 'MyInt'",
     "output_type": "error",
     "traceback": [
      "\u001b[1;31m---------------------------------------------------------------------------\u001b[0m",
      "\u001b[1;31mTypeError\u001b[0m                                 Traceback (most recent call last)",
      "Cell \u001b[1;32mIn[18], line 11\u001b[0m\n\u001b[0;32m      9\u001b[0m p1 \u001b[38;5;241m=\u001b[39m MyInt(\u001b[38;5;241m13\u001b[39m)\n\u001b[0;32m     10\u001b[0m p2 \u001b[38;5;241m=\u001b[39m MyInt(\u001b[38;5;241m4\u001b[39m)\n\u001b[1;32m---> 11\u001b[0m \u001b[38;5;28mprint\u001b[39m(\u001b[43mp1\u001b[49m\u001b[38;5;241;43m%\u001b[39;49m\u001b[43mp2\u001b[49m)\n",
      "\u001b[1;31mTypeError\u001b[0m: unsupported operand type(s) for %: 'MyInt' and 'MyInt'"
     ]
    }
   ],
   "source": [
    "class MyInt:\n",
    "    \n",
    "    def __init__(self,x):\n",
    "        self.x=x\n",
    "        \n",
    "    def __floor__(self,other):\n",
    "        return self.x%other.x\n",
    "    \n",
    "p1 = MyInt(13)\n",
    "p2 = MyInt(4)\n",
    "print(p1%p2)"
   ]
  },
  {
   "cell_type": "code",
   "execution_count": 12,
   "id": "2b9a754b",
   "metadata": {},
   "outputs": [
    {
     "name": "stdout",
     "output_type": "stream",
     "text": [
      "['__abs__', '__add__', '__and__', '__bool__', '__ceil__', '__class__', '__delattr__', '__dir__', '__divmod__', '__doc__', '__eq__', '__float__', '__floor__', '__floordiv__', '__format__', '__ge__', '__getattribute__', '__getnewargs__', '__gt__', '__hash__', '__index__', '__init__', '__init_subclass__', '__int__', '__invert__', '__le__', '__lshift__', '__lt__', '__mod__', '__mul__', '__ne__', '__neg__', '__new__', '__or__', '__pos__', '__pow__', '__radd__', '__rand__', '__rdivmod__', '__reduce__', '__reduce_ex__', '__repr__', '__rfloordiv__', '__rlshift__', '__rmod__', '__rmul__', '__ror__', '__round__', '__rpow__', '__rrshift__', '__rshift__', '__rsub__', '__rtruediv__', '__rxor__', '__setattr__', '__sizeof__', '__str__', '__sub__', '__subclasshook__', '__truediv__', '__trunc__', '__xor__', 'as_integer_ratio', 'bit_count', 'bit_length', 'conjugate', 'denominator', 'from_bytes', 'imag', 'numerator', 'real', 'to_bytes']\n"
     ]
    }
   ],
   "source": [
    "print(dir(int))"
   ]
  },
  {
   "cell_type": "code",
   "execution_count": 44,
   "id": "9c4c6b2a",
   "metadata": {},
   "outputs": [
    {
     "name": "stdout",
     "output_type": "stream",
     "text": [
      "1\n",
      "10\n",
      "8\n"
     ]
    }
   ],
   "source": [
    "class Som:\n",
    "    def demo(self,x,y,z):\n",
    "        if x is not None:\n",
    "            return x+y+z\n",
    "        elif y is not None:\n",
    "            return x*y\n",
    "        else:\n",
    "            return x\n",
    "s1 = Sample()\n",
    "re1 = s1.demo(1)\n",
    "re2 = s1.demo(5,2)\n",
    "re3 = s1.demo(1,2,5)\n",
    "print(re1)\n",
    "print(re2)\n",
    "print(re3)"
   ]
  },
  {
   "cell_type": "code",
   "execution_count": 4,
   "id": "61f9d06b",
   "metadata": {},
   "outputs": [
    {
     "name": "stdout",
     "output_type": "stream",
     "text": [
      "1\n",
      "2\n",
      "6\n"
     ]
    }
   ],
   "source": [
    "class Sample:\n",
    "    def demo(self,a,b=None,c=None):\n",
    "        if b is not None and c is not None:\n",
    "            return a+b+c\n",
    "        elif b is not None:\n",
    "            return a*b\n",
    "        else:\n",
    "            return a \n",
    "s1 = Sample()\n",
    "result1 = s1.demo(1)\n",
    "result2 = s1.demo(1,2)\n",
    "result3 = s1.demo(1,2,3)\n",
    "print(result1)\n",
    "print(result2)\n",
    "print(result3)"
   ]
  },
  {
   "cell_type": "code",
   "execution_count": null,
   "id": "1d945810",
   "metadata": {},
   "outputs": [],
   "source": []
  },
  {
   "cell_type": "code",
   "execution_count": 6,
   "id": "aa9ef72e",
   "metadata": {},
   "outputs": [],
   "source": [
    "class Calc:\n",
    "    def add(self,*args):\n",
    "        return sum(args)\n",
    "    \n",
    "# o\n",
    "calculator = Calc()\n",
    "res1 = calculator.add(1)\n",
    "res2 = calculator.add(2,4)\n",
    "res3 = calculator.add(1,2,3)\n",
    "res4 = calculator.add(44,55,66,77)"
   ]
  },
  {
   "cell_type": "code",
   "execution_count": 17,
   "id": "b58010a0",
   "metadata": {},
   "outputs": [
    {
     "name": "stdout",
     "output_type": "stream",
     "text": [
      "Class one Method\n"
     ]
    }
   ],
   "source": [
    "class One:\n",
    "    def method(self):\n",
    "        print(\"Class one Method\")\n",
    "\n",
    "\n",
    "class Two:\n",
    "    def method(self):\n",
    "        print(\"Class Two Method\")\n",
    "        \n",
    "class Three(One,Two):\n",
    "    def method(self):\n",
    "        print(\"Class Three  Method\")\n",
    "#obj\n",
    "t1 = One()\n",
    "t1.method()\n",
    "\n"
   ]
  },
  {
   "cell_type": "code",
   "execution_count": 19,
   "id": "83aade91",
   "metadata": {},
   "outputs": [
    {
     "name": "stdout",
     "output_type": "stream",
     "text": [
      "B.method() called\n"
     ]
    }
   ],
   "source": [
    "class A:\n",
    "    def method(self):\n",
    "        print(\"A.method() called\")\n",
    "        \n",
    "class B(A):\n",
    "    def method(self):\n",
    "        print(\"B.method() called\")\n",
    "        \n",
    "        \n",
    "b =B()\n",
    "b.method()"
   ]
  },
  {
   "cell_type": "code",
   "execution_count": 22,
   "id": "45a86510",
   "metadata": {},
   "outputs": [
    {
     "name": "stdout",
     "output_type": "stream",
     "text": [
      "B.method() called\n",
      "C.method() called\n"
     ]
    }
   ],
   "source": [
    "# overloading method\n",
    "class A:\n",
    "    def method(self):\n",
    "        print(\"A.method() called\")\n",
    "\n",
    "class B:\n",
    "    def method(self):\n",
    "        print(\"B.method() called\")\n",
    "\n",
    "class C(A,B):\n",
    "    def method(self):\n",
    "        print(\"C.method() called\")\n",
    "        \n",
    "b = B()\n",
    "b.method()\n",
    "b = C()\n",
    "b.method()"
   ]
  },
  {
   "cell_type": "code",
   "execution_count": 25,
   "id": "93fb53f2",
   "metadata": {},
   "outputs": [
    {
     "name": "stdout",
     "output_type": "stream",
     "text": [
      "A.method() called\n"
     ]
    }
   ],
   "source": [
    "class A:\n",
    "    def method(self):\n",
    "        print(\"A.method() called\")\n",
    "\n",
    "class B:\n",
    "    def method(self):\n",
    "        print(\"B.method() called\")\n",
    "        \n",
    "class C(A,B):\n",
    "    pass\n",
    "\n",
    "class D(C,B):\n",
    "    pass\n",
    "\n",
    "d = D()\n",
    "d.method()\n"
   ]
  },
  {
   "cell_type": "code",
   "execution_count": 26,
   "id": "0c09cf5d",
   "metadata": {},
   "outputs": [
    {
     "name": "stdout",
     "output_type": "stream",
     "text": [
      "5\n"
     ]
    }
   ],
   "source": [
    "# int \n",
    "print(2+3)"
   ]
  },
  {
   "cell_type": "code",
   "execution_count": 28,
   "id": "0a47d4c1",
   "metadata": {},
   "outputs": [
    {
     "name": "stdout",
     "output_type": "stream",
     "text": [
      "23\n"
     ]
    }
   ],
   "source": [
    "print('2'+'3')"
   ]
  },
  {
   "cell_type": "code",
   "execution_count": 31,
   "id": "2481e5e8",
   "metadata": {},
   "outputs": [
    {
     "name": "stdout",
     "output_type": "stream",
     "text": [
      "222\n"
     ]
    }
   ],
   "source": [
    "print('2'*3)"
   ]
  },
  {
   "cell_type": "code",
   "execution_count": 37,
   "id": "aee139c0",
   "metadata": {},
   "outputs": [
    {
     "name": "stdout",
     "output_type": "stream",
     "text": [
      "333\n"
     ]
    }
   ],
   "source": [
    "print('3'  *3)"
   ]
  },
  {
   "cell_type": "code",
   "execution_count": 1,
   "id": "22c84665",
   "metadata": {},
   "outputs": [
    {
     "ename": "NameError",
     "evalue": "name 'MYATM' is not defined",
     "output_type": "error",
     "traceback": [
      "\u001b[1;31m---------------------------------------------------------------------------\u001b[0m",
      "\u001b[1;31mNameError\u001b[0m                                 Traceback (most recent call last)",
      "Cell \u001b[1;32mIn[1], line 24\u001b[0m\n\u001b[0;32m     22\u001b[0m         \u001b[38;5;28;01melse\u001b[39;00m:\n\u001b[0;32m     23\u001b[0m             \u001b[38;5;28mprint\u001b[39m(\u001b[38;5;124m\"\u001b[39m\u001b[38;5;124mBye...\u001b[39m\u001b[38;5;124m\"\u001b[39m)\n\u001b[1;32m---> 24\u001b[0m myBank \u001b[38;5;241m=\u001b[39m \u001b[43mMYATM\u001b[49m()\n\u001b[0;32m     25\u001b[0m myBank\u001b[38;5;241m.\u001b[39mmenu()\n",
      "\u001b[1;31mNameError\u001b[0m: name 'MYATM' is not defined"
     ]
    }
   ],
   "source": [
    "class MyATM:\n",
    "    def __init__(self):\n",
    "        self.pin=\"\"\n",
    "        self.balance=0\n",
    "    def menu(self):\n",
    "        uinput = input(\"\"\"\n",
    "        What operation do you want to perfrom?\n",
    "        1. enter 1 to create pin\n",
    "        2. enter 2 to deposit\n",
    "        3. enter 3 withdraw\n",
    "        4. enter 4 to check balanace\n",
    "        5. enter 5 to exit\n",
    "        \"\"\")\n",
    "        if uinput ==\"1\":\n",
    "            print(\"create pin\")\n",
    "        elif uniput==\"2\":\n",
    "            print(\"deposit\")\n",
    "        elif uniput==\"3\":\n",
    "            print(\"withdraw\")\n",
    "        elif uniput==\"4\":\n",
    "            print(\"Check balance\")\n",
    "        else:\n",
    "            print(\"Bye...\")\n",
    "            \n",
    "    def createPIN(self):\n",
    "        self.pin = input(\"Enter your PIN here>>>\")\n",
    "        print(\"PIN generated successfully...\")\n",
    "        \n",
    "    def deposit(self):\n",
    "        temp = input(\"Enter your PIN here>>>> \")\n",
    "        if temp==self.pin:\n",
    "            \n",
    "myBank = MYATM()\n",
    "\n",
    "\n",
    "myBank.menu()"
   ]
  },
  {
   "cell_type": "code",
   "execution_count": 3,
   "id": "c76806aa",
   "metadata": {},
   "outputs": [
    {
     "ename": "SyntaxError",
     "evalue": "incomplete input (2279452292.py, line 10)",
     "output_type": "error",
     "traceback": [
      "\u001b[1;36m  Cell \u001b[1;32mIn[3], line 10\u001b[1;36m\u001b[0m\n\u001b[1;33m    else:\u001b[0m\n\u001b[1;37m         ^\u001b[0m\n\u001b[1;31mSyntaxError\u001b[0m\u001b[1;31m:\u001b[0m incomplete input\n"
     ]
    }
   ],
   "source": [
    "def withdrwal(self):\n",
    "    temp = input(\"Enter your PIN here>>> \")\n",
    "    if temp==self.pin:\n",
    "        amount = int(input(\"Enter your withdrawl amount here>>>\"))\n",
    "        if anount<=self.balance:\n",
    "            self.balance = self.balance = amount\n",
    "            print(f\"Amount withdrwal done successfully. Your new balance is {self.balance}\")\n",
    "        else:\n",
    "            print(\"Insufficient Funds\")\n",
    "    else:\n",
    "        print(\"Invalid PIN\")\n",
    "def checkBalance(self):\n",
    "    "
   ]
  },
  {
   "cell_type": "code",
   "execution_count": 4,
   "id": "bcdc1747",
   "metadata": {},
   "outputs": [
    {
     "name": "stdout",
     "output_type": "stream",
     "text": [
      "Employee ID:1111 And Employee Name: Mohan\n"
     ]
    }
   ],
   "source": [
    "class Employee:\n",
    "    def __init__(self,id,name):\n",
    "        self.id=id\n",
    "        self.name=name\n",
    "        \n",
    "    def show_info(self):\n",
    "        print(f\"Employee ID:{self.id} And Employee Name: {self.name}\")\n",
    "\n",
    "employee1 = Employee(1111,'Mohan')\n",
    "employee1.id = 1111\n",
    "employee1.name = 'Mohan'\n",
    "employee1.show_info()"
   ]
  },
  {
   "cell_type": "code",
   "execution_count": null,
   "id": "ea966487",
   "metadata": {},
   "outputs": [],
   "source": [
    "class Employee:\n",
    "    def __init__(self,id,name):\n",
    "        self._id=id\n",
    "        self.name=name\n",
    "        \n",
    "    def show_info(self):\n",
    "        print(f\"Employee ID:{self.id} And Employee Name: {self.name}\")\n",
    "\n",
    "employee1 = Employee(1111,'Mohan')\n",
    "employee1."
   ]
  },
  {
   "cell_type": "code",
   "execution_count": null,
   "id": "7520b03a",
   "metadata": {},
   "outputs": [],
   "source": []
  },
  {
   "cell_type": "code",
   "execution_count": null,
   "id": "9439510d",
   "metadata": {},
   "outputs": [],
   "source": []
  },
  {
   "cell_type": "code",
   "execution_count": null,
   "id": "64d21ae8",
   "metadata": {},
   "outputs": [],
   "source": []
  },
  {
   "cell_type": "code",
   "execution_count": null,
   "id": "9964bafb",
   "metadata": {},
   "outputs": [],
   "source": []
  },
  {
   "cell_type": "code",
   "execution_count": null,
   "id": "6c84eaaf",
   "metadata": {},
   "outputs": [],
   "source": []
  },
  {
   "cell_type": "code",
   "execution_count": 11,
   "id": "3970f48c",
   "metadata": {},
   "outputs": [
    {
     "name": "stdout",
     "output_type": "stream",
     "text": [
      "His id is>>> 211 And Name>>> Harshit or address>> Noida\n"
     ]
    }
   ],
   "source": [
    "class Manager:\n",
    "    def __init__(self,id,name,address):\n",
    "        self.id=id\n",
    "        self.name=name\n",
    "        self.address=address\n",
    "    def show_info(self):\n",
    "        print(f\"His id is>>> {self.id} And Name>>> {self.name} or address>> {self.address}\")\n",
    "    \n",
    "manager1 = Manager(211,'Harshit','Noida')\n",
    "manager1.show_info()"
   ]
  },
  {
   "cell_type": "code",
   "execution_count": null,
   "id": "fe0cf1b3",
   "metadata": {},
   "outputs": [],
   "source": [
    "class Account:\n",
    "    def __inif__(self,id,name):\n",
    "        self.id=id\n",
    "        self.name=name\n",
    "    def"
   ]
  },
  {
   "cell_type": "code",
   "execution_count": 13,
   "id": "5774f85b",
   "metadata": {},
   "outputs": [
    {
     "data": {
      "text/plain": [
       "65"
      ]
     },
     "execution_count": 13,
     "metadata": {},
     "output_type": "execute_result"
    }
   ],
   "source": [
    "def add_two_numbers(num1,num2):\n",
    "    return num1+num2\n",
    "# call\n",
    "add_two_numbers(33,32)"
   ]
  },
  {
   "cell_type": "code",
   "execution_count": 15,
   "id": "320af3db",
   "metadata": {},
   "outputs": [
    {
     "data": {
      "text/plain": [
       "26"
      ]
     },
     "execution_count": 15,
     "metadata": {},
     "output_type": "execute_result"
    }
   ],
   "source": [
    "def subtract_two_numbers(num1,num2):\n",
    "    return num1-num2\n",
    "# call\n",
    "subtract_two_numbers(60,34)"
   ]
  },
  {
   "cell_type": "code",
   "execution_count": 19,
   "id": "1793f5fd",
   "metadata": {},
   "outputs": [
    {
     "data": {
      "text/plain": [
       "13"
      ]
     },
     "execution_count": 19,
     "metadata": {},
     "output_type": "execute_result"
    }
   ],
   "source": [
    "# using a lambda function here\n",
    "(lambda num1,num2:num1-num2)(35,22)"
   ]
  },
  {
   "cell_type": "code",
   "execution_count": 17,
   "id": "691186a2",
   "metadata": {},
   "outputs": [
    {
     "data": {
      "text/plain": [
       "5"
      ]
     },
     "execution_count": 17,
     "metadata": {},
     "output_type": "execute_result"
    }
   ],
   "source": [
    "(lambda num1,num2:num1+num2)(2,3)"
   ]
  },
  {
   "cell_type": "code",
   "execution_count": 24,
   "id": "a1ca6729",
   "metadata": {},
   "outputs": [
    {
     "data": {
      "text/plain": [
       "[23]"
      ]
     },
     "execution_count": 24,
     "metadata": {},
     "output_type": "execute_result"
    }
   ],
   "source": [
    "def odd_number(nums):\n",
    "    odd_list = []\n",
    "    for i in nums:\n",
    "        if i%2!=0:\n",
    "            odd_list.append(i)\n",
    "        return odd_list\n",
    "odd_number([23,43,45,65,79])"
   ]
  },
  {
   "cell_type": "code",
   "execution_count": 5,
   "id": "ea0bb98f",
   "metadata": {},
   "outputs": [
    {
     "name": "stdout",
     "output_type": "stream",
     "text": [
      "Enter Even_number [8, 2, 6, 10, 12, 14, 16]\n"
     ]
    }
   ],
   "source": [
    "li1 = [8,2,6,10,12,14,16,23,43,65,67,87,21]\n",
    "even_number = list(filter(lambda x:x%2==0,li1))\n",
    "print(\"Enter Even_number\",even_number)"
   ]
  },
  {
   "cell_type": "code",
   "execution_count": 6,
   "id": "626a239b",
   "metadata": {},
   "outputs": [
    {
     "name": "stdout",
     "output_type": "stream",
     "text": [
      "[4, 9, 16, 25, 36, 49, 64, 100]\n"
     ]
    }
   ],
   "source": [
    "li3 = [2,3,4,5,6,7,8,10]\n",
    "sq = list(map(lambda x:x*x,li3))\n",
    "print(sq)"
   ]
  },
  {
   "cell_type": "code",
   "execution_count": 16,
   "id": "856ea061",
   "metadata": {},
   "outputs": [
    {
     "name": "stdout",
     "output_type": "stream",
     "text": [
      "3\n",
      "5\n",
      "7\n",
      "9\n",
      "11\n",
      "13\n",
      "15\n",
      "17\n",
      "19\n"
     ]
    }
   ],
   "source": [
    "for i in range(3,20,2):\n",
    "    print(i)"
   ]
  },
  {
   "cell_type": "code",
   "execution_count": 25,
   "id": "b4ac85b8",
   "metadata": {},
   "outputs": [
    {
     "name": "stdout",
     "output_type": "stream",
     "text": [
      "this Name is:  Hnuman \n",
      "Age:   23 \n",
      "Gender:   Male  \n",
      "Address:  Noida\n"
     ]
    }
   ],
   "source": [
    "class Parent:\n",
    "    def __init__(self,name,age,gender,address):\n",
    "        self.name=name\n",
    "        self.age=age\n",
    "        self.gender=gender\n",
    "        self.address=address\n",
    "    def show_info(self):\n",
    "        print(f\"\"\"this Name is:  {self.name} \n",
    "Age:   {self.age} \n",
    "Gender:   {self.gender}  \n",
    "Address:  {self.address}\"\"\")\n",
    "              \n",
    "parent1 = Parent('Hnuman',23,'Male','Noida')\n",
    "parent1.show_info()"
   ]
  },
  {
   "cell_type": "code",
   "execution_count": 14,
   "id": "205bc66b",
   "metadata": {},
   "outputs": [
    {
     "name": "stdout",
     "output_type": "stream",
     "text": [
      "this Id is: 201 or Name:AjayRampal or 23 or python\n"
     ]
    }
   ],
   "source": [
    "class Employee:\n",
    "    def __init__(self,id,name):\n",
    "        self.id=id\n",
    "        self.name=name\n",
    "class Mangager(Employee):\n",
    "    def __init__(self,id,name,age,course):\n",
    "        super().__init__(id,name)\n",
    "        self.age=age\n",
    "        self.course=course\n",
    "    def show_info(self):\n",
    "        print(f\"this Id is: {self.id} or Name:{self.name} or {self.age} or {self.course}\")\n",
    "emp1 = Employee(201,'AjayRampal')\n",
    "emp1 = Mangager(201, 'AjayRampal',23,'python')\n",
    "emp1.show_info()\n"
   ]
  },
  {
   "cell_type": "code",
   "execution_count": 16,
   "id": "ee9b8a74",
   "metadata": {},
   "outputs": [
    {
     "ename": "IndentationError",
     "evalue": "unexpected unindent (4204851825.py, line 5)",
     "output_type": "error",
     "traceback": [
      "\u001b[1;36m  Cell \u001b[1;32mIn[16], line 5\u001b[1;36m\u001b[0m\n\u001b[1;33m    class Parent(ABC):\u001b[0m\n\u001b[1;37m                      ^\u001b[0m\n\u001b[1;31mIndentationError\u001b[0m\u001b[1;31m:\u001b[0m unexpected unindent\n"
     ]
    }
   ],
   "source": [
    "from abc import ABC,abstractmethod\n",
    "class AbstractClassName(ABC):\n",
    "    \n",
    "    @abstract\n",
    "class Parent(ABC):\n",
    "    def common_method(self):\n",
    "        print(\"Inside common method of Parent class \")\n",
    "        \n",
    "    @abstractmethod\n",
    "    def abs_method(self):\n",
    "        pass\n",
    "class Child1(Parent):\n",
    "    def abs_method(self):\n",
    "        print(\"Inside the abstract method of child1 class \")\n",
    "        \n",
    "class Child2(Parent):\n",
    "    def abs_method(self):\n",
    "        print(\"Inside the abstract method of child2 class \")\n",
    "\n",
    "p1 = Parent()\n",
    "p1.common_method()\n",
    "p1.abs_method()"
   ]
  },
  {
   "cell_type": "code",
   "execution_count": null,
   "id": "cbd82b0f",
   "metadata": {},
   "outputs": [],
   "source": [
    "class Animals:\n",
    "    def \n",
    "    \n",
    "class Dog:\n",
    "    \n",
    "class Lion"
   ]
  }
 ],
 "metadata": {
  "kernelspec": {
   "display_name": "Python 3 (ipykernel)",
   "language": "python",
   "name": "python3"
  },
  "language_info": {
   "codemirror_mode": {
    "name": "ipython",
    "version": 3
   },
   "file_extension": ".py",
   "mimetype": "text/x-python",
   "name": "python",
   "nbconvert_exporter": "python",
   "pygments_lexer": "ipython3",
   "version": "3.10.9"
  }
 },
 "nbformat": 4,
 "nbformat_minor": 5
}

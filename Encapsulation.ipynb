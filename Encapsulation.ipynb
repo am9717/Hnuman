{
 "cells": [
  {
   "cell_type": "markdown",
   "id": "e4ae7522-8eac-4183-95e9-c8c7c1fe5be9",
   "metadata": {},
   "source": [
    "- In Object-Oriented Programming (OOP), encapsulation is the concept of wrapping data, and the methods to work as a single unit.\n",
    "- Now by doing this, it put restrictions to access variables and methods directly and also can save us from the accidental modification of data.\n",
    "- To prevent this change, we can only change an object’s variable by the object’s method. These types of variables are called private variables.\n",
    "- A class can be an example of encapsulation, as it encapsulates all the data like variables, members functions, subclasses, etc."
   ]
  },
  {
   "cell_type": "markdown",
   "id": "a7ce3f73-6a94-4a3a-bf89-b38644bfc910",
   "metadata": {},
   "source": [
    "## A real-life example of encapsulation\n",
    "\n",
    "Now let us see an example of real life. Suppose there is a company that consists of many sections like finance section, sales section, accounts section, etc. All sections have their role to play. The finance section handles the finance work of the company and the sales section maintains the sales works of the company. Someday the finance section needs the records of the sales section. Now the finance section can not directly just access the records of the sales section. So in that case, the finance section will ask one o the agents from the sales section to let them access some records that were needed by the finance section. Now, this is what encapsulation i. Here the sales records and the agents working in that section are wrapped in a single unit named as sales section. Also using encapsulation, we can hide data, as in the above example we can see that the employees of the finance section can not access the records or the sales section. So in this section data of a section is hidden from other sections."
   ]
  },
  {
   "cell_type": "markdown",
   "id": "1598a097-09da-4fd2-ae8d-0cdb49f85d87",
   "metadata": {},
   "source": [
    "### Encapsulation: The Basics\n",
    "\n",
    "Encapsulation involves bundling data (attributes) and methods within a class, controlling access to that data.\n",
    "\n",
    "### Public, Protected, and Private Attributes\n",
    "\n",
    "#### Public: Accessible from anywhere.\n",
    "#### Protected: Prefixed with an underscore (_). Shouldn't be accessed outside the class.\n",
    "#### Private: Prefixed with double underscores (__). Intended for internal use only.\n",
    "\n",
    "### Example:\n",
    "\n",
    "    class Car:\n",
    "    def __init__(self, brand):\n",
    "        self.brand = brand        # Public\n",
    "        self._model = \"Model X\"   # Protected\n",
    "        self.__price = 50000      # Private"
   ]
  },
  {
   "cell_type": "code",
   "execution_count": null,
   "id": "eb518c2a-c089-452c-aee8-476dbd0e14c4",
   "metadata": {},
   "outputs": [],
   "source": []
  },
  {
   "cell_type": "code",
   "execution_count": 16,
   "id": "e81ce1ce-a9a2-4388-8474-7f0b8d017eed",
   "metadata": {},
   "outputs": [
    {
     "name": "stdin",
     "output_type": "stream",
     "text": [
      "\n",
      "        What operations do you want to perform?\n",
      "        1. enter 1 to create pin\n",
      "        2. enter 2 to deposit\n",
      "        3. enter 3 withdraw\n",
      "        4. enter 4 to check balanace\n",
      "        5. enter 5 to exit\n",
      "         1\n",
      "Enter your PIN here>>>  123456\n"
     ]
    },
    {
     "name": "stdout",
     "output_type": "stream",
     "text": [
      "PIN generated successfully...\n"
     ]
    }
   ],
   "source": [
    "class MyATM:\n",
    "    def __init__(self):\n",
    "        self._pin=\"\"\n",
    "        self._balance=0\n",
    "\n",
    "        self.menu()\n",
    "\n",
    "    def menu(self):\n",
    "        uinput = input(\"\"\"\n",
    "        What operations do you want to perform?\n",
    "        1. enter 1 to create pin\n",
    "        2. enter 2 to deposit\n",
    "        3. enter 3 withdraw\n",
    "        4. enter 4 to check balanace\n",
    "        5. enter 5 to exit\n",
    "        \"\"\"\n",
    "        )\n",
    "\n",
    "        if uinput==\"1\":\n",
    "            self.createPIN()\n",
    "        elif uinput==\"2\":\n",
    "            self.deposit()\n",
    "        elif uinput==\"3\":\n",
    "            self.withdrwal()  \n",
    "        elif uinput==\"4\":\n",
    "            self.checkBalance()\n",
    "        else:\n",
    "            print(\"Bye...\")\n",
    "\n",
    "    def createPIN(self):\n",
    "        self.pin = input(\"Enter your PIN here>>> \")\n",
    "        print(\"PIN generated successfully...\")\n",
    "\n",
    "    def deposit(self):\n",
    "        temp = input(\"Enter your PIN here>>> \")\n",
    "        if temp==self.pin:\n",
    "            amount = int(input(\"Enter amount to be deposted here>>> \"))\n",
    "            self.balance = self.balance + amount\n",
    "            print(f\"Amount deposited successfully. Your new balance is {self.balance}\")\n",
    "\n",
    "        else:\n",
    "            print(\"Invalid PIN\")\n",
    "\n",
    "    def withdrwal(self):\n",
    "        temp = input(\"Enter your PIN here>>> \")\n",
    "        if temp==self.pin:\n",
    "            amount = int(input(\"Enter your withdrawl amount here>>> \"))\n",
    "            if amount<=self.balance:\n",
    "                self.balance = self.balance - amount\n",
    "                print(f\"Amount withdrwal done successfully. Your new balance is {self.balance}\")\n",
    "            else:\n",
    "                print(\"Insufficient Funds\")\n",
    "        else:\n",
    "             print(\"Invalid PIN\")\n",
    "        \n",
    "    def checkBalance(self):\n",
    "        temp = input(\"Enter your PIN here>>> \")\n",
    "        if temp==self.pin:\n",
    "            print(f\"Your balance amount is: {self.balance}\")\n",
    "        else:\n",
    "            print(\"Invalid PIN\")\n",
    "            \n",
    "myBank = MyATM()"
   ]
  },
  {
   "cell_type": "code",
   "execution_count": 18,
   "id": "4f68535e-fdb5-4e49-b8f8-015e1825a31c",
   "metadata": {},
   "outputs": [
    {
     "data": {
      "text/plain": [
       "'1234'"
      ]
     },
     "execution_count": 18,
     "metadata": {},
     "output_type": "execute_result"
    }
   ],
   "source": [
    "myBank.pin='1234'\n",
    "myBank.pin"
   ]
  },
  {
   "cell_type": "code",
   "execution_count": 3,
   "id": "35bfcc66-012c-45ec-8b6e-db0af4471395",
   "metadata": {},
   "outputs": [
    {
     "ename": "AttributeError",
     "evalue": "'Employee' object has no attribute '__id'",
     "output_type": "error",
     "traceback": [
      "\u001b[1;31m---------------------------------------------------------------------------\u001b[0m",
      "\u001b[1;31mAttributeError\u001b[0m                            Traceback (most recent call last)",
      "Cell \u001b[1;32mIn[3], line 10\u001b[0m\n\u001b[0;32m      7\u001b[0m         \u001b[38;5;28mprint\u001b[39m(\u001b[38;5;124mf\u001b[39m\u001b[38;5;124m\"\u001b[39m\u001b[38;5;124mEmployee ID: \u001b[39m\u001b[38;5;132;01m{\u001b[39;00m\u001b[38;5;28mself\u001b[39m\u001b[38;5;241m.\u001b[39m__id\u001b[38;5;132;01m}\u001b[39;00m\u001b[38;5;124m And Employee Name: \u001b[39m\u001b[38;5;132;01m{\u001b[39;00m\u001b[38;5;28mself\u001b[39m\u001b[38;5;241m.\u001b[39m__name\u001b[38;5;132;01m}\u001b[39;00m\u001b[38;5;124m\"\u001b[39m)\n\u001b[0;32m      9\u001b[0m employee1 \u001b[38;5;241m=\u001b[39m Employee(\u001b[38;5;241m14414\u001b[39m,\u001b[38;5;124m'\u001b[39m\u001b[38;5;124mharman kumar\u001b[39m\u001b[38;5;124m'\u001b[39m)\n\u001b[1;32m---> 10\u001b[0m employee1\u001b[38;5;241m.\u001b[39m__id\n",
      "\u001b[1;31mAttributeError\u001b[0m: 'Employee' object has no attribute '__id'"
     ]
    }
   ],
   "source": [
    "class Employee:\n",
    "    def __init__(self,id,name):\n",
    "        self.__id=id       # private attribute\n",
    "        self.__name=name   # private attribute\n",
    "\n",
    "    def __show_info(self): # private method\n",
    "        print(f\"Employee ID: {self.__id} And Employee Name: {self.__name}\")\n",
    "\n",
    "employee1 = Employee(14414,'harman kumar')\n",
    "employee1.__id"
   ]
  },
  {
   "cell_type": "markdown",
   "id": "e0f62f68-bd73-40d4-a2f4-762396e53348",
   "metadata": {},
   "source": [
    "## Name mangling in Python\n",
    "\n",
    "- Name mangling in Python is a mechanism used to make attributes or methods within a class inaccessible from outside the class, effectively creating a form of \"private\" members. This is achieved by prefixing the name of the attribute or method with double underscore (__).\n",
    "\n",
    "- When you declare an attribute or method within a class with a name starting with double underscores, Python internally renames that attribute or method by appending _ClassName in front of it, where ClassName is the name of the class in which it is defined. This process is known as name mangling."
   ]
  },
  {
   "cell_type": "code",
   "execution_count": 2,
   "id": "25f763c6-0884-4f6c-90a1-d5af32e858a9",
   "metadata": {},
   "outputs": [
    {
     "name": "stdout",
     "output_type": "stream",
     "text": [
      "['_Employee__id', '_Employee__name', '_Employee__show_info', '__class__', '__delattr__', '__dict__', '__dir__', '__doc__', '__eq__', '__format__', '__ge__', '__getattribute__', '__getstate__', '__gt__', '__hash__', '__init__', '__init_subclass__', '__le__', '__lt__', '__module__', '__ne__', '__new__', '__reduce__', '__reduce_ex__', '__repr__', '__setattr__', '__sizeof__', '__str__', '__subclasshook__', '__weakref__']\n"
     ]
    }
   ],
   "source": [
    "print(dir(employee1))"
   ]
  },
  {
   "cell_type": "markdown",
   "id": "83c76a9c-a18a-4962-9207-96a404943eae",
   "metadata": {},
   "source": [
    "## Accessing Name Mangled variables\n",
    "\n",
    "The name mangling process helps to access the class variables from outside the class. The class variables can be accessed by adding _classname to it. The name mangling is closest to private not exactly private."
   ]
  },
  {
   "cell_type": "code",
   "execution_count": 4,
   "id": "f5d86c30-3cd1-4b0c-915e-ba8fc315d225",
   "metadata": {},
   "outputs": [
    {
     "name": "stdout",
     "output_type": "stream",
     "text": [
      "14414\n"
     ]
    }
   ],
   "source": [
    "print(employee1._Employee__id) "
   ]
  },
  {
   "cell_type": "code",
   "execution_count": 5,
   "id": "7ece4928-d4c7-4051-82ef-2d077642b041",
   "metadata": {},
   "outputs": [
    {
     "name": "stdout",
     "output_type": "stream",
     "text": [
      "harman kumar\n"
     ]
    }
   ],
   "source": [
    "print(employee1._Employee__name)"
   ]
  },
  {
   "cell_type": "code",
   "execution_count": 6,
   "id": "fb9957ac-cbb7-47a3-91a4-4fbe700e242c",
   "metadata": {},
   "outputs": [
    {
     "name": "stdout",
     "output_type": "stream",
     "text": [
      "Employee ID: 14414 And Employee Name: harman kumar\n"
     ]
    }
   ],
   "source": [
    "employee1._Employee__show_info()"
   ]
  },
  {
   "cell_type": "code",
   "execution_count": 7,
   "id": "276c6326-92ca-4351-b181-8fdc2180adee",
   "metadata": {},
   "outputs": [
    {
     "name": "stdout",
     "output_type": "stream",
     "text": [
      "Employee ID: 4666037 And Employee Name: anita jain\n"
     ]
    }
   ],
   "source": [
    "employee1._Employee__id = 4666037\n",
    "employee1._Employee__name = 'anita jain'\n",
    "employee1._Employee__show_info()"
   ]
  },
  {
   "cell_type": "code",
   "execution_count": null,
   "id": "de74fd35-d782-422f-80ca-a6cc4945cfbb",
   "metadata": {},
   "outputs": [],
   "source": []
  }
 ],
 "metadata": {
  "kernelspec": {
   "display_name": "Python 3 (ipykernel)",
   "language": "python",
   "name": "python3"
  },
  "language_info": {
   "codemirror_mode": {
    "name": "ipython",
    "version": 3
   },
   "file_extension": ".py",
   "mimetype": "text/x-python",
   "name": "python",
   "nbconvert_exporter": "python",
   "pygments_lexer": "ipython3",
   "version": "3.11.5"
  }
 },
 "nbformat": 4,
 "nbformat_minor": 5
}

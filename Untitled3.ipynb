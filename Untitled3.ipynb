{
 "cells": [
  {
   "cell_type": "code",
   "execution_count": 1,
   "id": "d56be194",
   "metadata": {},
   "outputs": [
    {
     "name": "stdout",
     "output_type": "stream",
     "text": [
      "Enter the Even number: [32, 4, 354, 86]\n",
      "Enter the Odd number: [23, 65, 67, 7, 87]\n"
     ]
    }
   ],
   "source": [
    "li = [23,32,4,354,65,67,7,87,86]\n",
    "\n",
    "even = []\n",
    "odd = []\n",
    "for i in li:\n",
    "    if i%2==0:\n",
    "        even.append(i)\n",
    "    else:\n",
    "        odd.append(i)\n",
    "print(\"Enter the Even number:\",even)\n",
    "print(\"Enter the Odd number:\",odd)"
   ]
  },
  {
   "cell_type": "code",
   "execution_count": 3,
   "id": "f2561d40",
   "metadata": {},
   "outputs": [],
   "source": [
    "even = []\n",
    "odd = []\n",
    "i= 0\n",
    "while i<len(li):\n",
    "    if i%2==0:\n",
    "        even.append(i)\n",
    "    else:\n",
    "        odd.append(i)\n",
    "    i=i+1\n",
    "even = []\n",
    "odd = []"
   ]
  },
  {
   "cell_type": "code",
   "execution_count": 4,
   "id": "62399133",
   "metadata": {},
   "outputs": [],
   "source": [
    "# rabdom is a modual "
   ]
  },
  {
   "cell_type": "code",
   "execution_count": 5,
   "id": "a0a53da4",
   "metadata": {},
   "outputs": [],
   "source": [
    "import random # import whole number \n"
   ]
  },
  {
   "cell_type": "code",
   "execution_count": 6,
   "id": "f9ed37a0",
   "metadata": {},
   "outputs": [],
   "source": [
    "from random import random # import single function "
   ]
  },
  {
   "cell_type": "code",
   "execution_count": null,
   "id": "92864e59",
   "metadata": {},
   "outputs": [],
   "source": [
    "from random import* # import all function from random modul "
   ]
  },
  {
   "cell_type": "code",
   "execution_count": 7,
   "id": "c057a50f",
   "metadata": {},
   "outputs": [
    {
     "name": "stdout",
     "output_type": "stream",
     "text": [
      "0.5556940796035982\n",
      "0.27155545937663006\n",
      "0.7620100256847604\n",
      "0.5325414607098755\n",
      "0.10079517082763645\n",
      "0.10400128906375938\n",
      "0.06570161861154722\n",
      "0.07660802200762351\n",
      "0.17949075363594147\n",
      "0.40745748017318995\n"
     ]
    }
   ],
   "source": [
    "import random \n",
    "for i in range(10):\n",
    "    print(random.random())"
   ]
  },
  {
   "cell_type": "code",
   "execution_count": 8,
   "id": "4349efa6",
   "metadata": {},
   "outputs": [
    {
     "name": "stdout",
     "output_type": "stream",
     "text": [
      "68\n",
      "62\n",
      "54\n",
      "42\n",
      "94\n",
      "38\n",
      "23\n",
      "71\n",
      "87\n",
      "37\n"
     ]
    }
   ],
   "source": [
    "for i in range(10): # this change the value again and agin \n",
    "    print(random.randint(1,100,))"
   ]
  },
  {
   "cell_type": "code",
   "execution_count": 12,
   "id": "459d258c",
   "metadata": {},
   "outputs": [
    {
     "name": "stdout",
     "output_type": "stream",
     "text": [
      "542\n",
      "240\n",
      "205\n",
      "595\n",
      "54\n",
      "406\n",
      "678\n",
      "983\n",
      "789\n",
      "888\n"
     ]
    }
   ],
   "source": [
    "# to createproducible number\n",
    "random.seed(682)\n",
    "for i in range(10): # this change the value again and agin \n",
    "    print(random.randint(1,1001,))"
   ]
  },
  {
   "cell_type": "code",
   "execution_count": 14,
   "id": "47e5fcd9",
   "metadata": {},
   "outputs": [
    {
     "name": "stdout",
     "output_type": "stream",
     "text": [
      "68\n",
      "30\n"
     ]
    }
   ],
   "source": [
    "random.seed(682)\n",
    "for i in range(2): # this change the value again and agin \n",
    "    print(random.randint(1,100,))"
   ]
  },
  {
   "cell_type": "markdown",
   "id": "9de45be9",
   "metadata": {},
   "source": [
    "# use define function "
   ]
  },
  {
   "cell_type": "code",
   "execution_count": null,
   "id": "821179fd",
   "metadata": {},
   "outputs": [],
   "source": [
    "def function_name(parameter/s)\n",
    "       statement()s"
   ]
  },
  {
   "cell_type": "code",
   "execution_count": null,
   "id": "7f28a22b",
   "metadata": {},
   "outputs": [],
   "source": [
    "## create a functon greate "
   ]
  },
  {
   "cell_type": "code",
   "execution_count": 19,
   "id": "0dcaf4d1",
   "metadata": {},
   "outputs": [],
   "source": [
    "def greetings():\n",
    "    user = input(\"Enter your user name here>>>>>\")\n",
    "    print(f\"Hellow !{user.upper()} welcome to python class...\")\n"
   ]
  },
  {
   "cell_type": "code",
   "execution_count": null,
   "id": "d55f7e40",
   "metadata": {},
   "outputs": [],
   "source": []
  },
  {
   "cell_type": "code",
   "execution_count": 20,
   "id": "f9b189e1",
   "metadata": {},
   "outputs": [
    {
     "name": "stdout",
     "output_type": "stream",
     "text": [
      "Enter your user name here>>>>>Neha\n",
      "Hellow !NEHA welcome to python class...\n"
     ]
    }
   ],
   "source": [
    "# calling the function \n",
    "greetings()"
   ]
  },
  {
   "cell_type": "markdown",
   "id": "66a7fc34",
   "metadata": {},
   "source": [
    "# paramatzarid function "
   ]
  },
  {
   "cell_type": "code",
   "execution_count": 23,
   "id": "27d43b6b",
   "metadata": {},
   "outputs": [],
   "source": [
    "def greetings(user): # parameter\n",
    "    user = input(\"Enter your user name here>>>>>\")\n",
    "    print(f\"Hellow !{user.upper()}......welcome to python class...Your age is {age}\")"
   ]
  },
  {
   "cell_type": "code",
   "execution_count": 24,
   "id": "6f6af8bd",
   "metadata": {},
   "outputs": [
    {
     "name": "stdout",
     "output_type": "stream",
     "text": [
      "Enter your user name here>>>>>mohan\n",
      "Hellow !MOHAN......welcome to python class...\n"
     ]
    }
   ],
   "source": [
    "greetings('mohan')"
   ]
  },
  {
   "cell_type": "code",
   "execution_count": 29,
   "id": "52a59f93",
   "metadata": {},
   "outputs": [],
   "source": [
    "def greetings(user,age): # parameter\n",
    "    user = input(\"Enter your user name here>>>>>\")\n",
    "    print(f\"Hellow !{user.upper()}......welcome to python class...\")"
   ]
  },
  {
   "cell_type": "code",
   "execution_count": 30,
   "id": "91a724bb",
   "metadata": {},
   "outputs": [
    {
     "name": "stdout",
     "output_type": "stream",
     "text": [
      "Enter your user name here>>>>>'mohan',34\n",
      "Hellow !'MOHAN',34......welcome to python class...\n"
     ]
    }
   ],
   "source": [
    "greetings('mohan',34)"
   ]
  },
  {
   "cell_type": "code",
   "execution_count": null,
   "id": "31c44161",
   "metadata": {},
   "outputs": [],
   "source": [
    "# interviw question what is the differance between parameter and "
   ]
  },
  {
   "cell_type": "code",
   "execution_count": null,
   "id": "30e26f52",
   "metadata": {},
   "outputs": [],
   "source": [
    "# create a function to multiply two numbers "
   ]
  },
  {
   "cell_type": "code",
   "execution_count": 40,
   "id": "c6d57a82",
   "metadata": {},
   "outputs": [],
   "source": [
    "def message(num1,num2):\n",
    "    int(input(\"Enter the number here>>>\"))\n",
    "    print(f'{num1}*{num2}')"
   ]
  },
  {
   "cell_type": "code",
   "execution_count": 39,
   "id": "59e06b8d",
   "metadata": {},
   "outputs": [
    {
     "name": "stdout",
     "output_type": "stream",
     "text": [
      "Enter the number here>>>12,12\n"
     ]
    },
    {
     "ename": "ValueError",
     "evalue": "invalid literal for int() with base 10: '12,12'",
     "output_type": "error",
     "traceback": [
      "\u001b[1;31m---------------------------------------------------------------------------\u001b[0m",
      "\u001b[1;31mValueError\u001b[0m                                Traceback (most recent call last)",
      "Cell \u001b[1;32mIn[39], line 1\u001b[0m\n\u001b[1;32m----> 1\u001b[0m \u001b[43mmessage\u001b[49m\u001b[43m(\u001b[49m\u001b[38;5;241;43m12\u001b[39;49m\u001b[43m,\u001b[49m\u001b[38;5;241;43m12\u001b[39;49m\u001b[43m)\u001b[49m\n",
      "Cell \u001b[1;32mIn[38], line 2\u001b[0m, in \u001b[0;36mmessage\u001b[1;34m(num1, num2)\u001b[0m\n\u001b[0;32m      1\u001b[0m \u001b[38;5;28;01mdef\u001b[39;00m \u001b[38;5;21mmessage\u001b[39m(num1,num2):\n\u001b[1;32m----> 2\u001b[0m     \u001b[38;5;28;43mint\u001b[39;49m\u001b[43m(\u001b[49m\u001b[38;5;28;43minput\u001b[39;49m\u001b[43m(\u001b[49m\u001b[38;5;124;43m\"\u001b[39;49m\u001b[38;5;124;43mEnter the number here>>>\u001b[39;49m\u001b[38;5;124;43m\"\u001b[39;49m\u001b[43m)\u001b[49m\u001b[43m)\u001b[49m\n\u001b[0;32m      3\u001b[0m     \u001b[38;5;28mprint\u001b[39m(\u001b[38;5;124mf\u001b[39m\u001b[38;5;124m'\u001b[39m\u001b[38;5;132;01m{\u001b[39;00mnum1\u001b[38;5;132;01m}\u001b[39;00m\u001b[38;5;124m*\u001b[39m\u001b[38;5;132;01m{\u001b[39;00mnum2\u001b[38;5;132;01m}\u001b[39;00m\u001b[38;5;124m'\u001b[39m)\n",
      "\u001b[1;31mValueError\u001b[0m: invalid literal for int() with base 10: '12,12'"
     ]
    }
   ],
   "source": [
    "message(12,12)"
   ]
  },
  {
   "cell_type": "code",
   "execution_count": 41,
   "id": "26e07386",
   "metadata": {},
   "outputs": [],
   "source": [
    "def multiply_two_nums(x,y):\n",
    "    x = 12\n",
    "    y = 34\n",
    "    print(x*y)"
   ]
  },
  {
   "cell_type": "code",
   "execution_count": 42,
   "id": "5af3fe28",
   "metadata": {},
   "outputs": [
    {
     "name": "stdout",
     "output_type": "stream",
     "text": [
      "408\n"
     ]
    }
   ],
   "source": [
    "multiply_two_nums()"
   ]
  },
  {
   "cell_type": "code",
   "execution_count": null,
   "id": "02c96c7b",
   "metadata": {
    "collapsed": true
   },
   "outputs": [],
   "source": [
    "# interview what is the global function and local fucntion"
   ]
  },
  {
   "cell_type": "code",
   "execution_count": 43,
   "id": "b359057e",
   "metadata": {},
   "outputs": [],
   "source": [
    "## create a function to return to value"
   ]
  },
  {
   "cell_type": "code",
   "execution_count": 45,
   "id": "23aaa568",
   "metadata": {},
   "outputs": [
    {
     "data": {
      "text/plain": [
       "6"
      ]
     },
     "execution_count": 45,
     "metadata": {},
     "output_type": "execute_result"
    }
   ],
   "source": [
    "def multiply_two_nums(x1,y1):\n",
    "    return x1*y1\n",
    "    print(\"Line after return\")\n",
    "\n",
    "multiply_two_nums(2,3)"
   ]
  },
  {
   "cell_type": "code",
   "execution_count": 46,
   "id": "74d58014",
   "metadata": {},
   "outputs": [
    {
     "data": {
      "text/plain": [
       "'C:\\\\Users\\\\AMIT\\\\All new batch 2024'"
      ]
     },
     "execution_count": 46,
     "metadata": {},
     "output_type": "execute_result"
    }
   ],
   "source": [
    "import os\n",
    "os.getcwd()"
   ]
  },
  {
   "cell_type": "code",
   "execution_count": 52,
   "id": "bddc5443",
   "metadata": {},
   "outputs": [
    {
     "ename": "NameError",
     "evalue": "name 'vowels' is not defined",
     "output_type": "error",
     "traceback": [
      "\u001b[1;31m---------------------------------------------------------------------------\u001b[0m",
      "\u001b[1;31mNameError\u001b[0m                                 Traceback (most recent call last)",
      "Cell \u001b[1;32mIn[52], line 10\u001b[0m\n\u001b[0;32m      8\u001b[0m         \u001b[38;5;28;01melse\u001b[39;00m:\n\u001b[0;32m      9\u001b[0m             consons\u001b[38;5;241m+\u001b[39m\u001b[38;5;241m=\u001b[39m\u001b[38;5;241m1\u001b[39m\n\u001b[1;32m---> 10\u001b[0m \u001b[38;5;28mprint\u001b[39m(\u001b[38;5;124m\"\u001b[39m\u001b[38;5;124mcounts of Vowels is \u001b[39m\u001b[38;5;124m\"\u001b[39m,\u001b[43mvowels\u001b[49m)\n\u001b[0;32m     11\u001b[0m \u001b[38;5;28mprint\u001b[39m(\u001b[38;5;124m\"\u001b[39m\u001b[38;5;124mCounts of consunnes \u001b[39m\u001b[38;5;124m\"\u001b[39m,consons)\n\u001b[0;32m     12\u001b[0m x\u001b[38;5;241m=\u001b[39m \u001b[38;5;28minput\u001b[39m()\n",
      "\u001b[1;31mNameError\u001b[0m: name 'vowels' is not defined"
     ]
    }
   ],
   "source": [
    "def count_vowels_and_consonants(value):\n",
    "    vowels = 0\n",
    "    consons = 0\n",
    "    \n",
    "    for char in range(len(value)):\n",
    "        if value[char] in ['a','e','i','o','u']:\n",
    "            vowels+=1\n",
    "        else:\n",
    "            consons+=1\n",
    "print(\"counts of Vowels is \",vowels)\n",
    "print(\"Counts of consunnes \",consons)\n",
    "x= input()"
   ]
  },
  {
   "cell_type": "code",
   "execution_count": null,
   "id": "9cb9911b",
   "metadata": {},
   "outputs": [],
   "source": [
    "# Argument function \n",
    "1.Positional Argument function\n",
    "2.keward argument function"
   ]
  },
  {
   "cell_type": "code",
   "execution_count": null,
   "id": "f9da66f8",
   "metadata": {},
   "outputs": [],
   "source": [
    "# Positional Argument\n",
    "def demo(user,age):\n",
    "    "
   ]
  }
 ],
 "metadata": {
  "kernelspec": {
   "display_name": "Python 3 (ipykernel)",
   "language": "python",
   "name": "python3"
  },
  "language_info": {
   "codemirror_mode": {
    "name": "ipython",
    "version": 3
   },
   "file_extension": ".py",
   "mimetype": "text/x-python",
   "name": "python",
   "nbconvert_exporter": "python",
   "pygments_lexer": "ipython3",
   "version": "3.10.9"
  }
 },
 "nbformat": 4,
 "nbformat_minor": 5
}

{
 "cells": [
  {
   "attachments": {},
   "cell_type": "markdown",
   "id": "fd203b06",
   "metadata": {},
   "source": [
    "## Python Data Types\n",
    "\n",
    "### Built-in Data Types\n",
    "\n",
    "- In programming, data type is an important concept.\n",
    "\n",
    "- Variables can store data of different types, and different types can do different things.\n",
    "\n",
    "### Python has the following data types built-in by default, in these categories:\n",
    "\n",
    "```\n",
    "Text Type:\tstr\n",
    "Numeric Types:\tint, float, complex\n",
    "Sequence Types:\tlist, tuple, range\n",
    "Mapping Type:\tdict\n",
    "Set Types:\tset, frozenset\n",
    "Boolean Type:\tbool\n",
    "None Type:\tNoneType\n",
    "```"
   ]
  },
  {
   "cell_type": "code",
   "execution_count": 1,
   "id": "29883c24-35a7-43dd-b908-0e13029b1a06",
   "metadata": {},
   "outputs": [
    {
     "name": "stdout",
     "output_type": "stream",
     "text": [
      "12 <class 'int'>\n",
      "12.67 <class 'float'>\n",
      "12j <class 'complex'>\n",
      "hi <class 'str'>\n",
      "True <class 'bool'>\n",
      "None <class 'NoneType'>\n",
      "['virat', 'rohit', 'bumrah'] <class 'list'>\n",
      "('virat', 'rohit', 'bumrah') <class 'tuple'>\n",
      "{'rohit', 'virat', 'bumrah'} <class 'set'>\n",
      "{'name': 'james', 'age': 34, 'education': 'phd'} <class 'dict'>\n"
     ]
    }
   ],
   "source": [
    "# Scalers \n",
    "\n",
    "x = 12       # integer\n",
    "print(x,type(x))\n",
    "x = 12.67    # float\n",
    "print(x,type(x))\n",
    "x = 12j    # complex\n",
    "print(x,type(x))\n",
    "x = 'hi'    # str\n",
    "print(x,type(x))\n",
    "\n",
    "x = True    # boolean\n",
    "print(x,type(x))\n",
    "\n",
    "x = None    # None\n",
    "print(x,type(x))\n",
    "\n",
    "# Collections\n",
    "\n",
    "players = ['virat','rohit','bumrah'] # list\n",
    "print(players,type(players))\n",
    "\n",
    "players = ('virat','rohit','bumrah') # tuple\n",
    "print(players,type(players))\n",
    "\n",
    "players = {'virat','rohit','bumrah'} # set\n",
    "print(players,type(players))\n",
    "\n",
    "# Mapping\n",
    "\n",
    "person = {\"name\":\"james\", \"age\":34, \"education\":\"phd\"} # dictionary\n",
    "print(person,type(person))"
   ]
  },
  {
   "cell_type": "markdown",
   "id": "94c23b17",
   "metadata": {},
   "source": [
    "## Python Data Type Conversion\n",
    "\n",
    "Sometimes, you may need to perform conversions between the built-in data types. To convert data between different Python data types, you simply use the type name as a function.\n",
    "\n",
    "## Conversion to int\n",
    "\n",
    "Following is an example to convert number, float and string into integer data type:"
   ]
  },
  {
   "cell_type": "code",
   "execution_count": 3,
   "id": "ddd7e9e8",
   "metadata": {},
   "outputs": [
    {
     "name": "stdout",
     "output_type": "stream",
     "text": [
      "12\n"
     ]
    }
   ],
   "source": [
    "x = 12.67\n",
    "x1 = int(x)\n",
    "print(x1)"
   ]
  },
  {
   "cell_type": "markdown",
   "id": "ee239028",
   "metadata": {},
   "source": [
    "## Conversion to float\n",
    "\n",
    "Following is an example to convert number, float and string into float data type:"
   ]
  },
  {
   "cell_type": "code",
   "execution_count": 4,
   "id": "fffd6749",
   "metadata": {},
   "outputs": [
    {
     "name": "stdout",
     "output_type": "stream",
     "text": [
      "12.0\n"
     ]
    }
   ],
   "source": [
    "x2 = float(x1)\n",
    "print(x2)"
   ]
  },
  {
   "cell_type": "code",
   "execution_count": 5,
   "id": "8ea4a54b-9110-43d3-9dec-697880925074",
   "metadata": {},
   "outputs": [
    {
     "name": "stdout",
     "output_type": "stream",
     "text": [
      "(12+0j)\n"
     ]
    }
   ],
   "source": [
    "x3 = complex(x1)\n",
    "print(x3)"
   ]
  },
  {
   "cell_type": "markdown",
   "id": "82fe8fc5",
   "metadata": {},
   "source": [
    "## Conversion to string\n",
    "\n",
    "Following is an example to convert number, float and string into string data type:"
   ]
  },
  {
   "cell_type": "code",
   "execution_count": 8,
   "id": "733ecf70",
   "metadata": {},
   "outputs": [
    {
     "name": "stdout",
     "output_type": "stream",
     "text": [
      "His age is 34\n"
     ]
    }
   ],
   "source": [
    "age = 34\n",
    "print(\"His age is \"+str(age))"
   ]
  },
  {
   "cell_type": "code",
   "execution_count": 11,
   "id": "3a744e19",
   "metadata": {},
   "outputs": [
    {
     "name": "stdout",
     "output_type": "stream",
     "text": [
      "34\n",
      "44\n"
     ]
    }
   ],
   "source": [
    "age = \"34\"\n",
    "new_age = int(age)+10\n",
    "print(age)\n",
    "print(new_age)"
   ]
  },
  {
   "cell_type": "code",
   "execution_count": 12,
   "id": "5276ddad-3b7b-4b45-ba2d-0d96391ce883",
   "metadata": {},
   "outputs": [
    {
     "data": {
      "text/plain": [
       "{'bumrah', 'jadeja', 'rohit', 'virat'}"
      ]
     },
     "execution_count": 12,
     "metadata": {},
     "output_type": "execute_result"
    }
   ],
   "source": [
    "players = {'virat','rohit','bumrah'}\n",
    "players.add(\"jadeja\")\n",
    "players"
   ]
  },
  {
   "cell_type": "code",
   "execution_count": 13,
   "id": "9c65922b-1a0e-47b4-8478-b6ff5ea59e8e",
   "metadata": {},
   "outputs": [
    {
     "data": {
      "text/plain": [
       "{'jadeja', 'rohit', 'virat'}"
      ]
     },
     "execution_count": 13,
     "metadata": {},
     "output_type": "execute_result"
    }
   ],
   "source": [
    "players.remove('bumrah')\n",
    "players"
   ]
  },
  {
   "cell_type": "code",
   "execution_count": 14,
   "id": "41f6e23a-e11f-47e1-af7e-7cea0f9b5201",
   "metadata": {},
   "outputs": [
    {
     "data": {
      "text/plain": [
       "frozenset({'jadeja', 'rohit', 'virat'})"
      ]
     },
     "execution_count": 14,
     "metadata": {},
     "output_type": "execute_result"
    }
   ],
   "source": [
    "players = frozenset({'jadeja', 'rohit', 'virat'})\n",
    "players"
   ]
  },
  {
   "cell_type": "code",
   "execution_count": 15,
   "id": "3451bc45-a58c-4e0a-966a-58ab1bfca69e",
   "metadata": {},
   "outputs": [
    {
     "ename": "AttributeError",
     "evalue": "'frozenset' object has no attribute 'add'",
     "output_type": "error",
     "traceback": [
      "\u001b[1;31m---------------------------------------------------------------------------\u001b[0m",
      "\u001b[1;31mAttributeError\u001b[0m                            Traceback (most recent call last)",
      "Cell \u001b[1;32mIn[15], line 1\u001b[0m\n\u001b[1;32m----> 1\u001b[0m players\u001b[38;5;241m.\u001b[39madd(\u001b[38;5;124m\"\u001b[39m\u001b[38;5;124mbumrah\u001b[39m\u001b[38;5;124m\"\u001b[39m)\n",
      "\u001b[1;31mAttributeError\u001b[0m: 'frozenset' object has no attribute 'add'"
     ]
    }
   ],
   "source": [
    "players.add(\"bumrah\")"
   ]
  },
  {
   "cell_type": "code",
   "execution_count": null,
   "id": "6568a9ad-79f9-4e9c-bd84-51a9788e09d7",
   "metadata": {},
   "outputs": [],
   "source": []
  }
 ],
 "metadata": {
  "kernelspec": {
   "display_name": "Python 3 (ipykernel)",
   "language": "python",
   "name": "python3"
  },
  "language_info": {
   "codemirror_mode": {
    "name": "ipython",
    "version": 3
   },
   "file_extension": ".py",
   "mimetype": "text/x-python",
   "name": "python",
   "nbconvert_exporter": "python",
   "pygments_lexer": "ipython3",
   "version": "3.11.5"
  }
 },
 "nbformat": 4,
 "nbformat_minor": 5
}

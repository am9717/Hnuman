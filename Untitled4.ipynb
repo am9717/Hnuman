{
 "cells": [
  {
   "cell_type": "code",
   "execution_count": 4,
   "id": "cc9c0f2f",
   "metadata": {},
   "outputs": [
    {
     "ename": "SyntaxError",
     "evalue": "invalid syntax (1750757691.py, line 3)",
     "output_type": "error",
     "traceback": [
      "\u001b[1;36m  Cell \u001b[1;32mIn[4], line 3\u001b[1;36m\u001b[0m\n\u001b[1;33m    def Calculater(23,23):\u001b[0m\n\u001b[1;37m                   ^\u001b[0m\n\u001b[1;31mSyntaxError\u001b[0m\u001b[1;31m:\u001b[0m invalid syntax\n"
     ]
    }
   ],
   "source": [
    "## Define calculater using  oop \n",
    "\n",
    "def Calculater(23,23):\n",
    "    add = 23+23\n",
    "    return = add\n",
    "calculater"
   ]
  },
  {
   "cell_type": "code",
   "execution_count": 8,
   "id": "a542b838",
   "metadata": {},
   "outputs": [
    {
     "ename": "SyntaxError",
     "evalue": "invalid syntax (1529688783.py, line 4)",
     "output_type": "error",
     "traceback": [
      "\u001b[1;36m  Cell \u001b[1;32mIn[8], line 4\u001b[1;36m\u001b[0m\n\u001b[1;33m    print(\"Add\": self.num1+self.num2)\u001b[0m\n\u001b[1;37m               ^\u001b[0m\n\u001b[1;31mSyntaxError\u001b[0m\u001b[1;31m:\u001b[0m invalid syntax\n"
     ]
    }
   ],
   "source": [
    "class calculater:\n",
    "    def __init__(self,num1,num2):\n",
    "        self.num1=num1\n",
    "        self.num2=num2\n",
    "        \n",
    "    \n",
    "    def add(self):\n",
    "        print(\"Sum\": self.num1+self.num2)\n",
    "    \n",
    "    def subtract(self):\n",
    "        print(\"subtract\": self.num1-self.num2)\n",
    "        \n",
    "        \n",
    "    def Multiply(self):\n",
    "        print(\"Multiply\": self.num1*self.num2)\n",
    "        \n",
    "        \n",
    "    def divide(self):\n",
    "        print(\"divide\": self.num1/self.num2)    \n",
    "num1 = input(\"Enter the number:\")\n",
    "num2 = input(\"Enter the number:\")\n",
    "    "
   ]
  },
  {
   "cell_type": "code",
   "execution_count": 26,
   "id": "1b22b174",
   "metadata": {},
   "outputs": [
    {
     "name": "stdout",
     "output_type": "stream",
     "text": [
      "Select Optreaction:1\n",
      "\n",
      "    1. Addication\n",
      "    2. Subraction\n",
      "    3. Multiplication\n",
      "    4. Dividaction\n",
      "    5. Exit\n",
      "    \n",
      "Enter the first number 2\n",
      "Enter the second number 3\n"
     ]
    },
    {
     "ename": "NameError",
     "evalue": "name 'Addication' is not defined",
     "output_type": "error",
     "traceback": [
      "\u001b[1;31m---------------------------------------------------------------------------\u001b[0m",
      "\u001b[1;31mNameError\u001b[0m                                 Traceback (most recent call last)",
      "Cell \u001b[1;32mIn[26], line 33\u001b[0m\n\u001b[0;32m     30\u001b[0m num2 \u001b[38;5;241m=\u001b[39m \u001b[38;5;28mint\u001b[39m(\u001b[38;5;28minput\u001b[39m(\u001b[38;5;124m\"\u001b[39m\u001b[38;5;124mEnter the second number \u001b[39m\u001b[38;5;124m\"\u001b[39m))\n\u001b[0;32m     32\u001b[0m \u001b[38;5;28;01mif\u001b[39;00m ch\u001b[38;5;241m==\u001b[39m\u001b[38;5;241m1\u001b[39m:\n\u001b[1;32m---> 33\u001b[0m     \u001b[38;5;28mprint\u001b[39m(\u001b[38;5;124m\"\u001b[39m\u001b[38;5;124mAddication:\u001b[39m\u001b[38;5;124m\"\u001b[39m,\u001b[43mAddication\u001b[49m())\n\u001b[0;32m     34\u001b[0m \u001b[38;5;28;01melif\u001b[39;00m ch\u001b[38;5;241m==\u001b[39m\u001b[38;5;241m2\u001b[39m:\n\u001b[0;32m     35\u001b[0m     \u001b[38;5;28mprint\u001b[39m(\u001b[38;5;124m\"\u001b[39m\u001b[38;5;124mSubtraction:\u001b[39m\u001b[38;5;124m\"\u001b[39m,Subtraction())\n",
      "\u001b[1;31mNameError\u001b[0m: name 'Addication' is not defined"
     ]
    }
   ],
   "source": [
    "    \n",
    "def add():\n",
    "    return num1+num2\n",
    "    \n",
    "def subtract():\n",
    "    return  num1-num2\n",
    "        \n",
    "        \n",
    "def Multiply():\n",
    "    return  num1*num2\n",
    "        \n",
    "        \n",
    "def divide():\n",
    "    return  num1/num2 \n",
    "    \n",
    "    \n",
    "ch = int(input(\"Select Optreaction:\"))\n",
    "while True:\n",
    "    print(\"\"\"\n",
    "    1. Addication\n",
    "    2. Subraction\n",
    "    3. Multiplication\n",
    "    4. Dividaction\n",
    "    5. Exit\n",
    "    \"\"\")\n",
    "    if ch in (1,2,3,4,5):\n",
    "        if ch==5:\n",
    "            break\n",
    "        \n",
    "    num1 = int(input(\"Enter the first number \"))\n",
    "    num2 = int(input(\"Enter the second number \"))\n",
    "    \n",
    "    if ch==1:\n",
    "        print(\"Addication:\",Addication())\n",
    "    elif ch==2:\n",
    "        print(\"Subtraction:\",Subtraction())\n",
    "\n",
    "    elif ch==3:\n",
    "        print(\"MUltiplication:\",multiplication())\n",
    "    elif ch==4:\n",
    "        print(\"Dividaction:\",Dividaction())\n",
    "else:\n",
    "    print(\"intput not valid \")"
   ]
  },
  {
   "cell_type": "code",
   "execution_count": 32,
   "id": "9c9491db",
   "metadata": {},
   "outputs": [
    {
     "data": {
      "text/plain": [
       "[16, 49, 64, 144]"
      ]
     },
     "execution_count": 32,
     "metadata": {},
     "output_type": "execute_result"
    }
   ],
   "source": [
    "li = [4,7,8,12]\n",
    "new_li = []\n",
    "\n",
    "for i in li:\n",
    "    new_li.append(i**2)\n",
    "        \n",
    "new_li"
   ]
  },
  {
   "cell_type": "code",
   "execution_count": 35,
   "id": "55bc3b80",
   "metadata": {},
   "outputs": [
    {
     "data": {
      "text/plain": [
       "[16, 49, 64, 144]"
      ]
     },
     "execution_count": 35,
     "metadata": {},
     "output_type": "execute_result"
    }
   ],
   "source": [
    "li1 = [i**2 for i in li]\n",
    "li1"
   ]
  },
  {
   "cell_type": "code",
   "execution_count": 36,
   "id": "dfaead75",
   "metadata": {},
   "outputs": [
    {
     "ename": "SyntaxError",
     "evalue": "invalid syntax (1398273494.py, line 1)",
     "output_type": "error",
     "traceback": [
      "\u001b[1;36m  Cell \u001b[1;32mIn[36], line 1\u001b[1;36m\u001b[0m\n\u001b[1;33m    x=2 y = 4 x= 6\u001b[0m\n\u001b[1;37m        ^\u001b[0m\n\u001b[1;31mSyntaxError\u001b[0m\u001b[1;31m:\u001b[0m invalid syntax\n"
     ]
    }
   ],
   "source": [
    "x=2 y = 4 x= 6 \n",
    "print(x,y,z)"
   ]
  },
  {
   "cell_type": "code",
   "execution_count": 39,
   "id": "5de79616",
   "metadata": {},
   "outputs": [
    {
     "ename": "IndentationError",
     "evalue": "unexpected indent (3356738190.py, line 2)",
     "output_type": "error",
     "traceback": [
      "\u001b[1;36m  Cell \u001b[1;32mIn[39], line 2\u001b[1;36m\u001b[0m\n\u001b[1;33m    print(new_li)\u001b[0m\n\u001b[1;37m    ^\u001b[0m\n\u001b[1;31mIndentationError\u001b[0m\u001b[1;31m:\u001b[0m unexpected indent\n"
     ]
    }
   ],
   "source": [
    "for i in li:new_li.append(i**2);\n",
    "    print(new_li)"
   ]
  },
  {
   "cell_type": "code",
   "execution_count": 40,
   "id": "2acab99a",
   "metadata": {},
   "outputs": [
    {
     "data": {
      "text/plain": [
       "[16, 64, 144]"
      ]
     },
     "execution_count": 40,
     "metadata": {},
     "output_type": "execute_result"
    }
   ],
   "source": [
    "new_li = []\n",
    "for i in li:\n",
    "    if i%2==0:\n",
    "        new_li.append(i**2)\n",
    "\n",
    "new_li"
   ]
  },
  {
   "cell_type": "code",
   "execution_count": 41,
   "id": "489bbcaf",
   "metadata": {},
   "outputs": [
    {
     "data": {
      "text/plain": [
       "[49]"
      ]
     },
     "execution_count": 41,
     "metadata": {},
     "output_type": "execute_result"
    }
   ],
   "source": [
    "new_li = []\n",
    "for i in li:\n",
    "    if i%2!=0:\n",
    "        new_li.append(i**2)\n",
    "\n",
    "new_li"
   ]
  },
  {
   "cell_type": "code",
   "execution_count": null,
   "id": "74002692",
   "metadata": {},
   "outputs": [],
   "source": [
    "li3 = [i**2 for i in li if i%2!=0 else i]\n",
    "li3"
   ]
  }
 ],
 "metadata": {
  "kernelspec": {
   "display_name": "Python 3 (ipykernel)",
   "language": "python",
   "name": "python3"
  },
  "language_info": {
   "codemirror_mode": {
    "name": "ipython",
    "version": 3
   },
   "file_extension": ".py",
   "mimetype": "text/x-python",
   "name": "python",
   "nbconvert_exporter": "python",
   "pygments_lexer": "ipython3",
   "version": "3.10.9"
  }
 },
 "nbformat": 4,
 "nbformat_minor": 5
}

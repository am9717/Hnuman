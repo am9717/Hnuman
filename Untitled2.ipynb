{
 "cells": [
  {
   "cell_type": "code",
   "execution_count": 2,
   "id": "ba9db3fe",
   "metadata": {},
   "outputs": [
    {
     "name": "stdout",
     "output_type": "stream",
     "text": [
      "{}\n",
      "<class 'dict'>\n"
     ]
    }
   ],
   "source": [
    "mydict  = {}\n",
    "print(mydict)\n",
    "print(type(mydict))"
   ]
  },
  {
   "cell_type": "code",
   "execution_count": 3,
   "id": "fb0a575f",
   "metadata": {},
   "outputs": [
    {
     "data": {
      "text/plain": [
       "{'address', 'age', 'name'}"
      ]
     },
     "execution_count": 3,
     "metadata": {},
     "output_type": "execute_result"
    }
   ],
   "source": [
    "mydict = {'name','age','address'}\n",
    "mydict"
   ]
  },
  {
   "cell_type": "code",
   "execution_count": 4,
   "id": "34f15a2c",
   "metadata": {},
   "outputs": [
    {
     "data": {
      "text/plain": [
       "{'name': 'Ankit', 'age': 23, 'address': 'Delhi'}"
      ]
     },
     "execution_count": 4,
     "metadata": {},
     "output_type": "execute_result"
    }
   ],
   "source": [
    "mydict = {'name':'Ankit','age':23,'address':'Delhi'}\n",
    "mydict"
   ]
  },
  {
   "cell_type": "code",
   "execution_count": 5,
   "id": "6cadbbd5",
   "metadata": {},
   "outputs": [
    {
     "data": {
      "text/plain": [
       "{1: 5}"
      ]
     },
     "execution_count": 5,
     "metadata": {},
     "output_type": "execute_result"
    }
   ],
   "source": [
    "mydict = {1:1,1:2,1:3,1:4,1:5}\n",
    "mydict"
   ]
  },
  {
   "cell_type": "code",
   "execution_count": 6,
   "id": "9c8adbf8",
   "metadata": {},
   "outputs": [],
   "source": [
    "my_dict = {'car':'marute','car_year':2034}"
   ]
  },
  {
   "cell_type": "code",
   "execution_count": 13,
   "id": "ca75acca",
   "metadata": {},
   "outputs": [
    {
     "data": {
      "text/plain": [
       "(['mango', 'modern'], ['Pera', 'mango'], ['Cars', 'banana'])"
      ]
     },
     "execution_count": 13,
     "metadata": {},
     "output_type": "execute_result"
    }
   ],
   "source": [
    "t1 = (['mango','modern'],['Pera','mango'],['Cars','banana'])\n",
    "t1"
   ]
  },
  {
   "cell_type": "code",
   "execution_count": 15,
   "id": "66f3cc5a",
   "metadata": {},
   "outputs": [
    {
     "data": {
      "text/plain": [
       "{'mango': 'modern', 'Pera': 'mango', 'Cars': 'banana'}"
      ]
     },
     "execution_count": 15,
     "metadata": {},
     "output_type": "execute_result"
    }
   ],
   "source": [
    "t3 = dict(t1)\n",
    "t3"
   ]
  },
  {
   "cell_type": "code",
   "execution_count": 18,
   "id": "8cafde5f",
   "metadata": {},
   "outputs": [
    {
     "data": {
      "text/plain": [
       "[('mango', 'banana'), ('orange', 'papaya'), ('oange', 'papaya')]"
      ]
     },
     "execution_count": 18,
     "metadata": {},
     "output_type": "execute_result"
    }
   ],
   "source": [
    "l1 = [('mango','banana'),('orange','papaya'),('oange','papaya')]\n",
    "l1"
   ]
  },
  {
   "cell_type": "code",
   "execution_count": 19,
   "id": "c57af244",
   "metadata": {},
   "outputs": [
    {
     "data": {
      "text/plain": [
       "dict[[('mango', 'banana'), ('orange', 'papaya'), ('oange', 'papaya')]]"
      ]
     },
     "execution_count": 19,
     "metadata": {},
     "output_type": "execute_result"
    }
   ],
   "source": [
    "l4 = dict[l1]\n",
    "l4"
   ]
  },
  {
   "cell_type": "code",
   "execution_count": 20,
   "id": "0a8cfd0c",
   "metadata": {},
   "outputs": [
    {
     "data": {
      "text/plain": [
       "[{'Minister', 'Yoginete'}, {'Anikit', 'Kamal'}, {'Arite', 'Opern'}]"
      ]
     },
     "execution_count": 20,
     "metadata": {},
     "output_type": "execute_result"
    }
   ],
   "source": [
    "fruit = ([{'Minister','Yoginete'},{'Anikit','Kamal'},{'Arite','Opern'}])\n",
    "fruit"
   ]
  },
  {
   "cell_type": "code",
   "execution_count": 21,
   "id": "aed9e9cf",
   "metadata": {},
   "outputs": [
    {
     "data": {
      "text/plain": [
       "{'Yoginete': 'Minister', 'Anikit': 'Kamal', 'Arite': 'Opern'}"
      ]
     },
     "execution_count": 21,
     "metadata": {},
     "output_type": "execute_result"
    }
   ],
   "source": [
    "fruit2 = dict(fruit)\n",
    "fruit2"
   ]
  },
  {
   "cell_type": "code",
   "execution_count": 22,
   "id": "3277702f",
   "metadata": {},
   "outputs": [
    {
     "ename": "TypeError",
     "evalue": "unhashable type: 'list'",
     "output_type": "error",
     "traceback": [
      "\u001b[1;31m---------------------------------------------------------------------------\u001b[0m",
      "\u001b[1;31mTypeError\u001b[0m                                 Traceback (most recent call last)",
      "Cell \u001b[1;32mIn[22], line 1\u001b[0m\n\u001b[1;32m----> 1\u001b[0m fruit44 \u001b[38;5;241m=\u001b[39m ({[\u001b[38;5;124m'\u001b[39m\u001b[38;5;124mMinister\u001b[39m\u001b[38;5;124m'\u001b[39m,\u001b[38;5;124m'\u001b[39m\u001b[38;5;124mYoginete\u001b[39m\u001b[38;5;124m'\u001b[39m],[\u001b[38;5;124m'\u001b[39m\u001b[38;5;124mAnikit\u001b[39m\u001b[38;5;124m'\u001b[39m,\u001b[38;5;124m'\u001b[39m\u001b[38;5;124mKamal\u001b[39m\u001b[38;5;124m'\u001b[39m],[\u001b[38;5;124m'\u001b[39m\u001b[38;5;124mArite\u001b[39m\u001b[38;5;124m'\u001b[39m,\u001b[38;5;124m'\u001b[39m\u001b[38;5;124mOpern\u001b[39m\u001b[38;5;124m'\u001b[39m]})\n\u001b[0;32m      2\u001b[0m fruit44\n",
      "\u001b[1;31mTypeError\u001b[0m: unhashable type: 'list'"
     ]
    }
   ],
   "source": [
    "fruit44 = ({['Minister','Yoginete'],['Anikit','Kamal'],['Arite','Opern']})\n",
    "fruit44"
   ]
  },
  {
   "cell_type": "code",
   "execution_count": 27,
   "id": "3f5994f2",
   "metadata": {},
   "outputs": [
    {
     "data": {
      "text/plain": [
       "{'name': {'Shift', 'dict', 'marute'},\n",
       " 'Year': {2020, 2021, 2022},\n",
       " 'address': {'Agra', 'Delhi', 'NOida'}}"
      ]
     },
     "execution_count": 27,
     "metadata": {},
     "output_type": "execute_result"
    }
   ],
   "source": [
    "cars = {\n",
    "    'name':{'marute','Shift','dict'},\n",
    "    'Year':{2020,2021,2022},\n",
    "    'address':{'Delhi','NOida','Agra'}\n",
    "}\n",
    "cars"
   ]
  },
  {
   "cell_type": "raw",
   "id": "f0b3cf42",
   "metadata": {},
   "source": []
  },
  {
   "cell_type": "code",
   "execution_count": 29,
   "id": "b6ad051e",
   "metadata": {},
   "outputs": [
    {
     "data": {
      "text/plain": [
       "{'Manuf': 'Suzki', 'Model': 'Fronx', 'Year': 2023}"
      ]
     },
     "execution_count": 29,
     "metadata": {},
     "output_type": "execute_result"
    }
   ],
   "source": [
    "cars = {\n",
    "    'Manuf':'Suzki',\n",
    "    'Model':'Fronx',\n",
    "    'Year':2023\n",
    "}\n",
    "cars"
   ]
  },
  {
   "cell_type": "code",
   "execution_count": 30,
   "id": "ec2c3216",
   "metadata": {},
   "outputs": [
    {
     "data": {
      "text/plain": [
       "dict_keys(['Manuf', 'Model', 'Year'])"
      ]
     },
     "execution_count": 30,
     "metadata": {},
     "output_type": "execute_result"
    }
   ],
   "source": [
    "cars.keys()"
   ]
  },
  {
   "cell_type": "code",
   "execution_count": 31,
   "id": "cfe0af55",
   "metadata": {},
   "outputs": [
    {
     "data": {
      "text/plain": [
       "dict_values(['Suzki', 'Fronx', 2023])"
      ]
     },
     "execution_count": 31,
     "metadata": {},
     "output_type": "execute_result"
    }
   ],
   "source": [
    "cars.values()"
   ]
  },
  {
   "cell_type": "code",
   "execution_count": 32,
   "id": "59eeca4d",
   "metadata": {},
   "outputs": [
    {
     "data": {
      "text/plain": [
       "dict_items([('Manuf', 'Suzki'), ('Model', 'Fronx'), ('Year', 2023)])"
      ]
     },
     "execution_count": 32,
     "metadata": {},
     "output_type": "execute_result"
    }
   ],
   "source": [
    "cars.items()"
   ]
  },
  {
   "cell_type": "code",
   "execution_count": 34,
   "id": "491a6e59",
   "metadata": {},
   "outputs": [
    {
     "name": "stdout",
     "output_type": "stream",
     "text": [
      "3\n"
     ]
    }
   ],
   "source": [
    "print(len(cars))"
   ]
  },
  {
   "cell_type": "code",
   "execution_count": 41,
   "id": "0107ef9a",
   "metadata": {},
   "outputs": [
    {
     "data": {
      "text/plain": [
       "'SUZKI'"
      ]
     },
     "execution_count": 41,
     "metadata": {},
     "output_type": "execute_result"
    }
   ],
   "source": [
    "cars['Manuf'].upper()"
   ]
  },
  {
   "cell_type": "code",
   "execution_count": 45,
   "id": "011c7e61",
   "metadata": {},
   "outputs": [
    {
     "name": "stdout",
     "output_type": "stream",
     "text": [
      "Manuf = MARUTI SUJEKI\n",
      "Model = FRONX\n"
     ]
    }
   ],
   "source": [
    "print(tuple(cars.keys())[0].capitalize(),\"=\",cars['Manuf'].upper())\n",
    "print(tuple(cars.keys())[1].capitalize(),\"=\",cars['Model'].upper())\n"
   ]
  },
  {
   "cell_type": "code",
   "execution_count": 46,
   "id": "c36d1258",
   "metadata": {},
   "outputs": [],
   "source": [
    "# it using here Modifying here\n",
    "cars['Manuf'] = \"maruti Sujeki\""
   ]
  },
  {
   "cell_type": "code",
   "execution_count": 47,
   "id": "4947bdb1",
   "metadata": {},
   "outputs": [
    {
     "data": {
      "text/plain": [
       "{'Manuf': 'maruti Sujeki', 'Model': 'Fronx', 'Year': 2023}"
      ]
     },
     "execution_count": 47,
     "metadata": {},
     "output_type": "execute_result"
    }
   ],
   "source": [
    "cars"
   ]
  },
  {
   "cell_type": "code",
   "execution_count": 50,
   "id": "abb6aca5",
   "metadata": {},
   "outputs": [],
   "source": [
    "cars[2023] = 2020,2022"
   ]
  },
  {
   "cell_type": "code",
   "execution_count": 51,
   "id": "221a2d59",
   "metadata": {},
   "outputs": [
    {
     "data": {
      "text/plain": [
       "{'Manuf': 'maruti Sujeki', 'Model': 'Fronx', 'Year': 2023, 2023: (2020, 2022)}"
      ]
     },
     "execution_count": 51,
     "metadata": {},
     "output_type": "execute_result"
    }
   ],
   "source": [
    "cars.keys"
   ]
  },
  {
   "cell_type": "code",
   "execution_count": 53,
   "id": "ecb5d80d",
   "metadata": {},
   "outputs": [
    {
     "data": {
      "text/plain": [
       "{'Manuf': 'maruti Sujeki',\n",
       " 'Model': 'Fronx',\n",
       " 'Year': 2023,\n",
       " 2023: (2020, 2022),\n",
       " 'type': 'sedan',\n",
       " 'capacty': '1000cc'}"
      ]
     },
     "execution_count": 53,
     "metadata": {},
     "output_type": "execute_result"
    }
   ],
   "source": [
    "cars.update({'type':'sedan','capacty':'1000cc'})\n",
    "cars"
   ]
  },
  {
   "cell_type": "code",
   "execution_count": 54,
   "id": "775db950",
   "metadata": {},
   "outputs": [
    {
     "name": "stdout",
     "output_type": "stream",
     "text": [
      "Dr.ITM Limited \n"
     ]
    }
   ],
   "source": [
    "company = \"Dr.ITM Limited \"\n",
    "print(company)"
   ]
  },
  {
   "cell_type": "code",
   "execution_count": 55,
   "id": "070cbd38",
   "metadata": {},
   "outputs": [
    {
     "name": "stdout",
     "output_type": "stream",
     "text": [
      "15\n"
     ]
    }
   ],
   "source": [
    "print(len(company))"
   ]
  },
  {
   "cell_type": "code",
   "execution_count": 56,
   "id": "908c912d",
   "metadata": {},
   "outputs": [
    {
     "data": {
      "text/plain": [
       "'DR.ITM LIMITED '"
      ]
     },
     "execution_count": 56,
     "metadata": {},
     "output_type": "execute_result"
    }
   ],
   "source": [
    "company.upper()"
   ]
  },
  {
   "cell_type": "code",
   "execution_count": 57,
   "id": "f13a2875",
   "metadata": {},
   "outputs": [
    {
     "data": {
      "text/plain": [
       "'dr.itm limited '"
      ]
     },
     "execution_count": 57,
     "metadata": {},
     "output_type": "execute_result"
    }
   ],
   "source": [
    "company.lower()"
   ]
  },
  {
   "cell_type": "code",
   "execution_count": 58,
   "id": "41d5ba87",
   "metadata": {},
   "outputs": [
    {
     "data": {
      "text/plain": [
       "'Dr.itm limited '"
      ]
     },
     "execution_count": 58,
     "metadata": {},
     "output_type": "execute_result"
    }
   ],
   "source": [
    "company.capitalize()"
   ]
  },
  {
   "cell_type": "code",
   "execution_count": 59,
   "id": "704c128c",
   "metadata": {},
   "outputs": [
    {
     "data": {
      "text/plain": [
       "'Dr.Itm Limited '"
      ]
     },
     "execution_count": 59,
     "metadata": {},
     "output_type": "execute_result"
    }
   ],
   "source": [
    "company.title()"
   ]
  },
  {
   "cell_type": "code",
   "execution_count": 60,
   "id": "c769636a",
   "metadata": {},
   "outputs": [
    {
     "data": {
      "text/plain": [
       "'dR.itm lIMITED '"
      ]
     },
     "execution_count": 60,
     "metadata": {},
     "output_type": "execute_result"
    }
   ],
   "source": [
    "company.swapcase()"
   ]
  },
  {
   "cell_type": "code",
   "execution_count": 62,
   "id": "d0eb3333",
   "metadata": {},
   "outputs": [
    {
     "data": {
      "text/plain": [
       "'thirty days of python'"
      ]
     },
     "execution_count": 62,
     "metadata": {},
     "output_type": "execute_result"
    }
   ],
   "source": [
    "string1 = \"thirty days of python\"\n",
    "string1"
   ]
  },
  {
   "cell_type": "code",
   "execution_count": 69,
   "id": "67fa84a7",
   "metadata": {},
   "outputs": [
    {
     "data": {
      "text/plain": [
       "'mited '"
      ]
     },
     "execution_count": 69,
     "metadata": {},
     "output_type": "execute_result"
    }
   ],
   "source": [
    "company[-6:]"
   ]
  },
  {
   "cell_type": "code",
   "execution_count": 72,
   "id": "13d2ce80",
   "metadata": {},
   "outputs": [
    {
     "ename": "TypeError",
     "evalue": "replace expected at least 2 arguments, got 1",
     "output_type": "error",
     "traceback": [
      "\u001b[1;31m---------------------------------------------------------------------------\u001b[0m",
      "\u001b[1;31mTypeError\u001b[0m                                 Traceback (most recent call last)",
      "Cell \u001b[1;32mIn[72], line 1\u001b[0m\n\u001b[1;32m----> 1\u001b[0m result_string \u001b[38;5;241m=\u001b[39m \u001b[43mcompany\u001b[49m\u001b[38;5;241;43m.\u001b[39;49m\u001b[43mreplace\u001b[49m\u001b[43m(\u001b[49m\u001b[38;5;124;43m'\u001b[39;49m\u001b[38;5;124;43mcoding for python\u001b[39;49m\u001b[38;5;124;43m'\u001b[39;49m\u001b[43m)\u001b[49m\n\u001b[0;32m      2\u001b[0m result_string\n",
      "\u001b[1;31mTypeError\u001b[0m: replace expected at least 2 arguments, got 1"
     ]
    }
   ],
   "source": [
    "result_string = company.replace('coding for python')\n",
    "result_string\n"
   ]
  },
  {
   "cell_type": "code",
   "execution_count": 74,
   "id": "8457172c",
   "metadata": {},
   "outputs": [
    {
     "name": "stdout",
     "output_type": "stream",
     "text": [
      "Thirty days of python\n"
     ]
    }
   ],
   "source": [
    "original_string = 'Thirty days of python'\n",
    "replacement_string = 'coding for day'\n",
    "\n",
    "result_string = original_string.replace('coding for day', replacement_string)\n",
    "print(result_string)"
   ]
  },
  {
   "cell_type": "code",
   "execution_count": 75,
   "id": "8dc4f371",
   "metadata": {},
   "outputs": [],
   "source": [
    "string1 = \"Thirty Days of Python\""
   ]
  },
  {
   "cell_type": "code",
   "execution_count": 76,
   "id": "25b0084e",
   "metadata": {},
   "outputs": [],
   "source": [
    "string2 = \"Coding of All\""
   ]
  },
  {
   "cell_type": "code",
   "execution_count": 77,
   "id": "a9158e07",
   "metadata": {},
   "outputs": [
    {
     "name": "stdout",
     "output_type": "stream",
     "text": [
      "13\n"
     ]
    }
   ],
   "source": [
    "print(len(string2))"
   ]
  },
  {
   "cell_type": "code",
   "execution_count": 78,
   "id": "b7a5e064",
   "metadata": {},
   "outputs": [
    {
     "data": {
      "text/plain": [
       "'CODING OF ALL'"
      ]
     },
     "execution_count": 78,
     "metadata": {},
     "output_type": "execute_result"
    }
   ],
   "source": [
    "string2.upper()"
   ]
  },
  {
   "cell_type": "code",
   "execution_count": 79,
   "id": "1e063442",
   "metadata": {},
   "outputs": [
    {
     "data": {
      "text/plain": [
       "'coding of all'"
      ]
     },
     "execution_count": 79,
     "metadata": {},
     "output_type": "execute_result"
    }
   ],
   "source": [
    "string2.lower()"
   ]
  },
  {
   "cell_type": "code",
   "execution_count": 80,
   "id": "f7920369",
   "metadata": {},
   "outputs": [
    {
     "data": {
      "text/plain": [
       "'Coding Of All'"
      ]
     },
     "execution_count": 80,
     "metadata": {},
     "output_type": "execute_result"
    }
   ],
   "source": [
    "string2.title()"
   ]
  },
  {
   "cell_type": "code",
   "execution_count": 83,
   "id": "7fdd6bf6",
   "metadata": {},
   "outputs": [
    {
     "data": {
      "text/plain": [
       "'cODING OF aLL'"
      ]
     },
     "execution_count": 83,
     "metadata": {},
     "output_type": "execute_result"
    }
   ],
   "source": [
    "string2.swapcase()"
   ]
  },
  {
   "cell_type": "code",
   "execution_count": 91,
   "id": "6c54f31e",
   "metadata": {},
   "outputs": [
    {
     "data": {
      "text/plain": [
       "'C'"
      ]
     },
     "execution_count": 91,
     "metadata": {},
     "output_type": "execute_result"
    }
   ],
   "source": [
    "string2 = \"Coding for all\"\n",
    "string2[-14]"
   ]
  },
  {
   "cell_type": "code",
   "execution_count": 92,
   "id": "507a7353",
   "metadata": {},
   "outputs": [
    {
     "data": {
      "text/plain": [
       "'C'"
      ]
     },
     "execution_count": 92,
     "metadata": {},
     "output_type": "execute_result"
    }
   ],
   "source": [
    "string2[0]"
   ]
  },
  {
   "cell_type": "code",
   "execution_count": 97,
   "id": "348e19c1",
   "metadata": {},
   "outputs": [
    {
     "data": {
      "text/plain": [
       "' '"
      ]
     },
     "execution_count": 97,
     "metadata": {},
     "output_type": "execute_result"
    }
   ],
   "source": [
    "string2[10]"
   ]
  },
  {
   "cell_type": "code",
   "execution_count": 90,
   "id": "47db5d33",
   "metadata": {},
   "outputs": [
    {
     "data": {
      "text/plain": [
       "'Facebook,Google,Microsoft,Apple,IBM,Oracle,Amazon'"
      ]
     },
     "execution_count": 90,
     "metadata": {},
     "output_type": "execute_result"
    }
   ],
   "source": [
    "string23 = \"Facebook,Google,Microsoft,Apple,IBM,Oracle,Amazon\"\n",
    "string23"
   ]
  },
  {
   "cell_type": "code",
   "execution_count": null,
   "id": "7219ffbb",
   "metadata": {},
   "outputs": [],
   "source": [
    "string2[]"
   ]
  }
 ],
 "metadata": {
  "kernelspec": {
   "display_name": "Python 3 (ipykernel)",
   "language": "python",
   "name": "python3"
  },
  "language_info": {
   "codemirror_mode": {
    "name": "ipython",
    "version": 3
   },
   "file_extension": ".py",
   "mimetype": "text/x-python",
   "name": "python",
   "nbconvert_exporter": "python",
   "pygments_lexer": "ipython3",
   "version": "3.10.9"
  }
 },
 "nbformat": 4,
 "nbformat_minor": 5
}

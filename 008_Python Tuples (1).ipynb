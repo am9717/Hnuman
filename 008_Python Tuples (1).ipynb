{
 "cells": [
  {
   "cell_type": "markdown",
   "id": "85ff3f5d",
   "metadata": {},
   "source": [
    "# Python Tuples\n",
    "\n",
    "- Tuples are just like lists except that they are immutable like strings i.e. you cannot modify tuples.\n",
    "\n",
    "- Tuples are defined by specifying items separated by commas within a pair of parentheses. T\n",
    "\n",
    "## Some important features of Tuples include:\n",
    "\n",
    "\n",
    "- **Immutability:** Once created, tuples cannot be changed. This means you can’t add, remove, or modify the elements in a tuple.\n",
    "\n",
    "- **Order preservation:** Like lists, tuples keep the order of elements intact. This allows us to access elements by their position in the tuple.\n",
    "\n",
    "- **Indexing:** Elements in a tuple can be accessed using their positions, starting from 0.\n",
    "\n",
    "- **Versatility:** Tuples can contain different data types, making them useful for grouping related information.\n",
    "\n",
    "- **Data integrity:** Since tuples are immutable, the data stored in a tuple remains unchanged throughout the program. This guarantees the integrity of your data.\n",
    "\n",
    "- **Function return values:** Tuples are commonly used to return multiple values from a function. Each value corresponds to an element within the tuple.\n",
    "\n",
    "- **Memory efficiency:** Tuples are generally more memory-efficient than lists. This makes them a good choice when you don’t need to modify the data.\n",
    "\n",
    "# Real-Life Applications of Tuple in Python\n",
    "\n",
    "**Here are a few everyday applications of tuples:**\n",
    "\n",
    "- Tuples can be used to store multiple items in a single variable – for example, storing coordinates of a point in a 2D space (x, y) or in a 3D space (x, y, z).\n",
    "\n",
    "- Tuples are often used in dictionary keys in Python, as they are immutable, ensuring the integrity of the key-value pairs in the dictionary.\n",
    "\n",
    "- They are commonly used where an immutable sequence of data is required, such as a week of days or a set of system-defined colors.\n",
    "\n",
    "- In database operations, tuples are used for handling returned rows of data since each row typically contains multiple fields.\n",
    "\n",
    "- Function arguments and return values often use tuples to transport multiple values or grouped data."
   ]
  },
  {
   "cell_type": "markdown",
   "id": "07c9eeaf",
   "metadata": {},
   "source": [
    "### Creating a Tuple\n",
    "\n",
    "<div>\n",
    "<img src=\"img/t0.png\" width=\"500\"/>\n",
    "</div>\n",
    "\n",
    "**The tuple can be created:**\n",
    "\n",
    "1. Using parenthesis ()\n",
    "2. Using tuple() Constructor\n",
    "\n",
    "### 1. Paranthesis () method:"
   ]
  },
  {
   "cell_type": "code",
   "execution_count": 5,
   "id": "a4763fa3",
   "metadata": {},
   "outputs": [
    {
     "name": "stdout",
     "output_type": "stream",
     "text": [
      "(23, 56, 78)\n",
      "('hi', 'hello')\n",
      "(1.2, 67, 8j, 'python')\n"
     ]
    }
   ],
   "source": [
    "# create a tuple using ()\n",
    "# number tuple\n",
    "myTuple = (23,56,78)\n",
    "print(myTuple)\n",
    "\n",
    "# string tuple\n",
    "myTuple = ('hi','hello')\n",
    "print(myTuple)\n",
    "\n",
    "# mixed type tuple\n",
    "myTuple = (1.2,67,8j,'python')\n",
    "print(myTuple)"
   ]
  },
  {
   "cell_type": "markdown",
   "id": "8be27c54",
   "metadata": {},
   "source": [
    "### 2. tuple() constructor method:"
   ]
  },
  {
   "cell_type": "code",
   "execution_count": 6,
   "id": "3f674ead",
   "metadata": {},
   "outputs": [
    {
     "data": {
      "text/plain": [
       "(1, 2, 3, 4)"
      ]
     },
     "execution_count": 6,
     "metadata": {},
     "output_type": "execute_result"
    }
   ],
   "source": [
    "# create a tuple using tuple() constructor\n",
    "\n",
    "myTuple = tuple({1,2,3,4})\n",
    "myTuple"
   ]
  },
  {
   "cell_type": "markdown",
   "id": "7a13e284",
   "metadata": {},
   "source": [
    "### Length of a Tuple\n",
    "\n",
    "To determine how many items a tuple has, use the len() function:\n",
    "\n",
    "#### Example:"
   ]
  },
  {
   "cell_type": "code",
   "execution_count": 7,
   "id": "64ac8998",
   "metadata": {},
   "outputs": [
    {
     "data": {
      "text/plain": [
       "4"
      ]
     },
     "execution_count": 7,
     "metadata": {},
     "output_type": "execute_result"
    }
   ],
   "source": [
    "len(myTuple)"
   ]
  },
  {
   "cell_type": "markdown",
   "id": "0a79cff1",
   "metadata": {},
   "source": [
    "### Create a tuple with a single item\n",
    "\n",
    "To create a tuple with only one item, you have to add a comma after the item, otherwise Python will not recognize it as a tuple.\n",
    "\n",
    "#### Example:"
   ]
  },
  {
   "cell_type": "code",
   "execution_count": 11,
   "id": "45ce693e",
   "metadata": {},
   "outputs": [
    {
     "name": "stdout",
     "output_type": "stream",
     "text": [
      "(45,)\n"
     ]
    }
   ],
   "source": [
    "myTuple = (45,)\n",
    "print(myTuple)"
   ]
  },
  {
   "cell_type": "code",
   "execution_count": 9,
   "id": "a7e6a63c-9d03-421a-98c0-4e56f5743ca9",
   "metadata": {},
   "outputs": [
    {
     "name": "stdout",
     "output_type": "stream",
     "text": [
      "i'm manoj\n"
     ]
    }
   ],
   "source": [
    "print('i\\'m manoj')"
   ]
  },
  {
   "cell_type": "code",
   "execution_count": null,
   "id": "b3c38c01-d639-4638-9bfa-754d11257eaa",
   "metadata": {},
   "outputs": [],
   "source": [
    "(1+2)*5"
   ]
  },
  {
   "cell_type": "markdown",
   "id": "6d6b697a",
   "metadata": {},
   "source": [
    "### type()\n",
    "\n",
    "From Python's perspective, tuples are defined as objects with the data type 'tuple':\n",
    "\n",
    "    <class 'tuple'>\n",
    "\n",
    "#### Example\n",
    "\n",
    "What is the data type of a tuple?"
   ]
  },
  {
   "cell_type": "code",
   "execution_count": 12,
   "id": "1529359b",
   "metadata": {},
   "outputs": [
    {
     "data": {
      "text/plain": [
       "tuple"
      ]
     },
     "execution_count": 12,
     "metadata": {},
     "output_type": "execute_result"
    }
   ],
   "source": [
    "type(myTuple)"
   ]
  },
  {
   "cell_type": "markdown",
   "id": "a846c201",
   "metadata": {},
   "source": [
    "### Accessing items of a Tuple\n",
    "\n",
    "Tuple can be accessed through indexing and slicing. This section will guide you by accessing tuple using the following two ways\n",
    "\n",
    "- Using indexing, we can access any item from a tuple using its index number\n",
    "- Using slicing, we can access a range of items from a tuple\n",
    "\n",
    "### Indexing\n",
    "\n",
    "#### Example"
   ]
  },
  {
   "cell_type": "code",
   "execution_count": 18,
   "id": "3fcab1e4",
   "metadata": {},
   "outputs": [
    {
     "data": {
      "text/plain": [
       "(9, 8, 7, 6)"
      ]
     },
     "execution_count": 18,
     "metadata": {},
     "output_type": "execute_result"
    }
   ],
   "source": [
    "# Create a tuple of 10 items range from 1-10\n",
    "\n",
    "myTuple = tuple(range(1,11))\n",
    "\n",
    "myTuple[-2:-6:-1]"
   ]
  },
  {
   "cell_type": "code",
   "execution_count": null,
   "id": "15ae7d5d",
   "metadata": {},
   "outputs": [],
   "source": []
  },
  {
   "cell_type": "markdown",
   "id": "494d483a",
   "metadata": {},
   "source": [
    "### slicing \n",
    "\n",
    "#### Example"
   ]
  },
  {
   "cell_type": "code",
   "execution_count": null,
   "id": "d86464ca",
   "metadata": {},
   "outputs": [],
   "source": []
  },
  {
   "cell_type": "markdown",
   "id": "24459ddb",
   "metadata": {},
   "source": [
    "### Adding and changing items in a Tuple"
   ]
  },
  {
   "cell_type": "code",
   "execution_count": 20,
   "id": "7699f49e",
   "metadata": {},
   "outputs": [
    {
     "ename": "TypeError",
     "evalue": "'tuple' object does not support item assignment",
     "output_type": "error",
     "traceback": [
      "\u001b[1;31m---------------------------------------------------------------------------\u001b[0m",
      "\u001b[1;31mTypeError\u001b[0m                                 Traceback (most recent call last)",
      "Cell \u001b[1;32mIn[20], line 1\u001b[0m\n\u001b[1;32m----> 1\u001b[0m myTuple[\u001b[38;5;241m0\u001b[39m] \u001b[38;5;241m=\u001b[39m \u001b[38;5;241m11\u001b[39m\n",
      "\u001b[1;31mTypeError\u001b[0m: 'tuple' object does not support item assignment"
     ]
    }
   ],
   "source": [
    "myTuple[0] = 11"
   ]
  },
  {
   "cell_type": "code",
   "execution_count": null,
   "id": "0fecb0b4",
   "metadata": {},
   "outputs": [],
   "source": []
  },
  {
   "cell_type": "markdown",
   "id": "b54f6c3a",
   "metadata": {},
   "source": [
    "### Modify nested items of a tuple"
   ]
  },
  {
   "cell_type": "code",
   "execution_count": 21,
   "id": "f40bc8a7",
   "metadata": {},
   "outputs": [
    {
     "data": {
      "text/plain": [
       "(1, 2, [1, 2, 3])"
      ]
     },
     "execution_count": 21,
     "metadata": {},
     "output_type": "execute_result"
    }
   ],
   "source": [
    "tu = (1,2,[1,2,3])\n",
    "tu"
   ]
  },
  {
   "cell_type": "code",
   "execution_count": 23,
   "id": "51eba11b",
   "metadata": {},
   "outputs": [
    {
     "data": {
      "text/plain": [
       "(1, 2, [1, 22, 3])"
      ]
     },
     "execution_count": 23,
     "metadata": {},
     "output_type": "execute_result"
    }
   ],
   "source": [
    "tu[2][1] = 22\n",
    "tu"
   ]
  },
  {
   "cell_type": "markdown",
   "id": "99e96143",
   "metadata": {},
   "source": [
    "### Removing items from a tuple\n",
    "\n",
    "- Using del keyword\n",
    "- By converting it into a list"
   ]
  },
  {
   "cell_type": "code",
   "execution_count": 24,
   "id": "f33c99b7",
   "metadata": {},
   "outputs": [
    {
     "ename": "TypeError",
     "evalue": "'tuple' object doesn't support item deletion",
     "output_type": "error",
     "traceback": [
      "\u001b[1;31m---------------------------------------------------------------------------\u001b[0m",
      "\u001b[1;31mTypeError\u001b[0m                                 Traceback (most recent call last)",
      "Cell \u001b[1;32mIn[24], line 1\u001b[0m\n\u001b[1;32m----> 1\u001b[0m \u001b[38;5;28;01mdel\u001b[39;00m tu[\u001b[38;5;241m1\u001b[39m]\n",
      "\u001b[1;31mTypeError\u001b[0m: 'tuple' object doesn't support item deletion"
     ]
    }
   ],
   "source": [
    "del tu[1]"
   ]
  },
  {
   "cell_type": "code",
   "execution_count": null,
   "id": "507e1e50",
   "metadata": {},
   "outputs": [],
   "source": []
  },
  {
   "cell_type": "markdown",
   "id": "1e961cf6",
   "metadata": {},
   "source": [
    "### Concatenating two Tuples"
   ]
  },
  {
   "cell_type": "code",
   "execution_count": 25,
   "id": "08e8bde8",
   "metadata": {},
   "outputs": [
    {
     "name": "stdout",
     "output_type": "stream",
     "text": [
      "(1, 2, 3, 1, 2, 3)\n"
     ]
    }
   ],
   "source": [
    "print((1,2,3)+(1,2,3))"
   ]
  },
  {
   "cell_type": "markdown",
   "id": "5c7c3c70",
   "metadata": {},
   "source": [
    "### Multiply Tuples"
   ]
  },
  {
   "cell_type": "code",
   "execution_count": 28,
   "id": "0041429b",
   "metadata": {},
   "outputs": [
    {
     "data": {
      "text/plain": [
       "(1, 2, 3, 1, 2, 3)"
      ]
     },
     "execution_count": 28,
     "metadata": {},
     "output_type": "execute_result"
    }
   ],
   "source": [
    "tu1 = (1,2,3)\n",
    "combined = tu1+tu1\n",
    "combined"
   ]
  },
  {
   "cell_type": "code",
   "execution_count": 27,
   "id": "e08fdf4e",
   "metadata": {},
   "outputs": [
    {
     "data": {
      "text/plain": [
       "(1, 2, 3)"
      ]
     },
     "execution_count": 27,
     "metadata": {},
     "output_type": "execute_result"
    }
   ],
   "source": [
    "tu1"
   ]
  },
  {
   "cell_type": "code",
   "execution_count": null,
   "id": "f04cbf09",
   "metadata": {},
   "outputs": [],
   "source": []
  },
  {
   "attachments": {
    "24b348c2-9c05-404a-9452-249a3769cb04.png": {
     "image/png": "[encoded data removed]"
    }
   },
   "cell_type": "markdown",
   "id": "3bf14eb1-4c12-427f-9b62-d3f428d64a21",
   "metadata": {},
   "source": [
    "# List Vs. Tuple\n",
    "\n",
    "![image.png](attachment:24b348c2-9c05-404a-9452-249a3769cb04.png)"
   ]
  },
  {
   "cell_type": "markdown",
   "id": "6985debd-5da5-4b12-8d77-e0908ed98a7f",
   "metadata": {},
   "source": [
    "## Why Tuple takes lesser storage"
   ]
  },
  {
   "cell_type": "code",
   "execution_count": null,
   "id": "89ad52d6-b8e9-4a64-b399-b720d674bfc2",
   "metadata": {},
   "outputs": [],
   "source": []
  },
  {
   "cell_type": "code",
   "execution_count": null,
   "id": "d3567a65-64b9-4e1b-8164-5b025cb0f603",
   "metadata": {},
   "outputs": [],
   "source": []
  }
 ],
 "metadata": {
  "kernelspec": {
   "display_name": "Python 3 (ipykernel)",
   "language": "python",
   "name": "python3"
  },
  "language_info": {
   "codemirror_mode": {
    "name": "ipython",
    "version": 3
   },
   "file_extension": ".py",
   "mimetype": "text/x-python",
   "name": "python",
   "nbconvert_exporter": "python",
   "pygments_lexer": "ipython3",
   "version": "3.10.9"
  }
 },
 "nbformat": 4,
 "nbformat_minor": 5
}

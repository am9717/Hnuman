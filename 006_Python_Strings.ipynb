{
 "cells": [
  {
   "cell_type": "markdown",
   "id": "334c609a",
   "metadata": {},
   "source": [
    "## Python String\n",
    "\n",
    "\n",
    "### Introduction to Python string\n",
    "\n",
    "A string is a series of characters. In Python, anything inside quotes is a string. And you can use either single or double quotes. For example:"
   ]
  },
  {
   "cell_type": "code",
   "execution_count": 4,
   "id": "33ab86a6",
   "metadata": {},
   "outputs": [
    {
     "name": "stdout",
     "output_type": "stream",
     "text": [
      "I'm a string\n"
     ]
    }
   ],
   "source": [
    "myString = 'I\\'m a string' \"\\\" Escape character/sequence \n",
    "print(myString)"
   ]
  },
  {
   "cell_type": "code",
   "execution_count": 6,
   "id": "7aa8af00-3052-41d9-8451-7f7e2e4e2ec9",
   "metadata": {},
   "outputs": [
    {
     "name": "stdout",
     "output_type": "stream",
     "text": [
      "c:\\myfolder\\myfile\n"
     ]
    }
   ],
   "source": [
    "# c:\\myfolder\\myfile\n",
    "x = 'c:\\myfolder\\myfile'\n",
    "print(x)"
   ]
  },
  {
   "cell_type": "markdown",
   "id": "d775bb38",
   "metadata": {},
   "source": [
    "#### If a string contains a single quote, you should place it in double-quotes like this:"
   ]
  },
  {
   "cell_type": "code",
   "execution_count": 8,
   "id": "aadc340c",
   "metadata": {},
   "outputs": [
    {
     "data": {
      "text/plain": [
       "\"I'm a string\""
      ]
     },
     "execution_count": 8,
     "metadata": {},
     "output_type": "execute_result"
    }
   ],
   "source": [
    "myString = \"I'm a string\"\n",
    "myString"
   ]
  },
  {
   "cell_type": "markdown",
   "id": "07c3585c",
   "metadata": {},
   "source": [
    "#### And when a string contains double quotes, you can use the single quotes:"
   ]
  },
  {
   "cell_type": "code",
   "execution_count": 9,
   "id": "864c3c1a",
   "metadata": {},
   "outputs": [
    {
     "name": "stdout",
     "output_type": "stream",
     "text": [
      "I am \"James\"\n"
     ]
    }
   ],
   "source": [
    "# I am \"James\"\n",
    "\n",
    "print('I am \"James\"')"
   ]
  },
  {
   "cell_type": "markdown",
   "id": "639e29b4",
   "metadata": {},
   "source": [
    "#### To escape the quotes, you use the backslash (\\). For example:"
   ]
  },
  {
   "cell_type": "code",
   "execution_count": 10,
   "id": "9a57ed76",
   "metadata": {},
   "outputs": [
    {
     "name": "stdout",
     "output_type": "stream",
     "text": [
      "I am \"James\"\n"
     ]
    }
   ],
   "source": [
    "print(\"I am \\\"James\\\"\")"
   ]
  },
  {
   "cell_type": "markdown",
   "id": "7e45e0c8",
   "metadata": {},
   "source": [
    ">**The Python interpreter will treat the backslash character (\\) special. If you don’t want it to do so, you can use raw strings by adding the letter r before the first quote. For example:**"
   ]
  },
  {
   "cell_type": "code",
   "execution_count": 11,
   "id": "340ae9ca",
   "metadata": {},
   "outputs": [
    {
     "name": "stdout",
     "output_type": "stream",
     "text": [
      "C:\\pythoin\n"
     ]
    }
   ],
   "source": [
    "message = 'C:\\python\\bin'\n",
    "print(message)"
   ]
  },
  {
   "cell_type": "code",
   "execution_count": 14,
   "id": "8a990d52-5e6d-4209-8311-512f4098c7c5",
   "metadata": {},
   "outputs": [
    {
     "name": "stdout",
     "output_type": "stream",
     "text": [
      "C:\\Users\\kk\\Desktop\\Text Files\\mytext.txt\n"
     ]
    }
   ],
   "source": [
    "print(r\"C:\\Users\\kk\\Desktop\\Text Files\\mytext.txt\")"
   ]
  },
  {
   "cell_type": "markdown",
   "id": "67a66f53",
   "metadata": {},
   "source": [
    "### Creating multiline strings\n",
    "\n",
    "To span a string multiple lines, you use triple-quotes “””…””” or ”’…”’. For example:"
   ]
  },
  {
   "cell_type": "markdown",
   "id": "29f3047c-a13f-4928-ae7d-c2bf867109fc",
   "metadata": {},
   "source": [
    "```\n",
    "What are Python files?\n",
    "\n",
    "Files are data or information that exist in the computer’s storage devices. These units of information are used to permanently keep data on a hard disk. By using files, we can keep data for future use.\n",
    "\n",
    "As a computer user, you certainly know about music files, video files, and text files. Well, Python allows you to manipulate these files.\n",
    "\n",
    "    What is file handling in Python?\n",
    "\n",
    "Having files is not enough — we need to be able to manipulate them either by opening, closing, writing, or deleting them.\n",
    "\n",
    "Python makes file handling very simple and straightforward. It has a number of built-in file I/O methods to do file operations such as open, read, write, tell, seek, remove, etc.\n",
    "```"
   ]
  },
  {
   "cell_type": "code",
   "execution_count": 19,
   "id": "330f321b-4757-46ef-a366-f031a9f55eb9",
   "metadata": {},
   "outputs": [
    {
     "name": "stdout",
     "output_type": "stream",
     "text": [
      "What are Python files?\n",
      "\n",
      "Files are data or information that exist in the computer’s storage devices. These units of information are used to permanently keep data on a hard disk. By using files, we can keep data for future use. As a computer user, you certainly know about music files, video files, and text files. Well, Python allows you to manipulate these files. What is file handling in Python? Having files is not enough — we need to be able to manipulate them either by opening, closing, writing, or deleting them. Python makes file handling very simple and straightforward. It has a number of built-in file I/O methods to do file operations such as open, read, write, tell, seek, remove, etc.\n"
     ]
    }
   ],
   "source": [
    "print(\"What are Python files?\\n\\nFiles are data or information that exist in the computer’s storage devices. These units of information are used to permanently keep data on a hard disk. By using files, we can keep data for future use. As a computer user, you certainly know about music files, video files, and text files. Well, Python allows you to manipulate these files. What is file handling in Python? Having files is not enough — we need to be able to manipulate them either by opening, closing, writing, or deleting them. Python makes file handling very simple and straightforward. It has a number of built-in file I/O methods to do file operations such as open, read, write, tell, seek, remove, etc.\")"
   ]
  },
  {
   "cell_type": "code",
   "execution_count": 20,
   "id": "0658b4d1-0443-4d49-a965-fcc549dc51e0",
   "metadata": {},
   "outputs": [
    {
     "name": "stdout",
     "output_type": "stream",
     "text": [
      "\n",
      "What are Python files?\n",
      "\n",
      "Files are data or information that exist in the computer’s storage devices. These units of information are used to permanently keep data on a hard disk. By using files, we can keep data for future use.\n",
      "\n",
      "As a computer user, you certainly know about music files, video files, and text files. Well, Python allows you to manipulate these files.\n",
      "\n",
      "    What is file handling in Python?\n",
      "\n",
      "Having files is not enough — we need to be able to manipulate them either by opening, closing, writing, or deleting them.\n",
      "\n",
      "Python makes file handling very simple and straightforward. It has a number of built-in file I/O methods to do file operations such as open, read, write, tell, seek, remove, etc.\n",
      "\n"
     ]
    }
   ],
   "source": [
    "x = \"\"\"\n",
    "What are Python files?\n",
    "\n",
    "Files are data or information that exist in the computer’s storage devices. These units of information are used to permanently keep data on a hard disk. By using files, we can keep data for future use.\n",
    "\n",
    "As a computer user, you certainly know about music files, video files, and text files. Well, Python allows you to manipulate these files.\n",
    "\n",
    "    What is file handling in Python?\n",
    "\n",
    "Having files is not enough — we need to be able to manipulate them either by opening, closing, writing, or deleting them.\n",
    "\n",
    "Python makes file handling very simple and straightforward. It has a number of built-in file I/O methods to do file operations such as open, read, write, tell, seek, remove, etc.\n",
    "\"\"\"\n",
    "print(x)"
   ]
  },
  {
   "cell_type": "markdown",
   "id": "7d5f5b02",
   "metadata": {},
   "source": [
    "### Using variables in Python strings with the f-strings\n",
    "\n",
    "Sometimes, you want to use the values of variables in a string.\n",
    "\n",
    "For example, you may want to use the value of the name variable inside the message string variable:"
   ]
  },
  {
   "cell_type": "code",
   "execution_count": 21,
   "id": "a9b286d1",
   "metadata": {},
   "outputs": [
    {
     "data": {
      "text/plain": [
       "{'name': 'anil', 'age': 45, 'city': 'delhi', 'country': 'india'}"
      ]
     },
     "execution_count": 21,
     "metadata": {},
     "output_type": "execute_result"
    }
   ],
   "source": [
    "person = {\n",
    "    'name':'anil',\n",
    "    'age':45,\n",
    "    'city':'delhi',\n",
    "    'country':'india'\n",
    "}\n",
    "person"
   ]
  },
  {
   "cell_type": "markdown",
   "id": "0fae3f1e",
   "metadata": {},
   "source": [
    ">**To do it, you place the letter f before the opening quotation mark and put the brace around the variable name:**"
   ]
  },
  {
   "cell_type": "code",
   "execution_count": null,
   "id": "4568849a",
   "metadata": {},
   "outputs": [],
   "source": []
  },
  {
   "cell_type": "markdown",
   "id": "561a3b4a",
   "metadata": {},
   "source": [
    "**Python will replace the {name} by the value of the name variable. The code will show the following on the screen:**"
   ]
  },
  {
   "cell_type": "markdown",
   "id": "9f7fb8ba",
   "metadata": {},
   "source": [
    "### Concatenating Python strings\n",
    "\n",
    "When you place the string literals next to each other, Python automatically concatenates them into one string. For example:"
   ]
  },
  {
   "cell_type": "code",
   "execution_count": null,
   "id": "9d6cbbb7",
   "metadata": {},
   "outputs": [],
   "source": []
  },
  {
   "cell_type": "markdown",
   "id": "07263226",
   "metadata": {},
   "source": [
    "#### To concatenate two string variables, you use the operator +:"
   ]
  },
  {
   "cell_type": "code",
   "execution_count": null,
   "id": "2d504765",
   "metadata": {},
   "outputs": [],
   "source": []
  },
  {
   "cell_type": "markdown",
   "id": "b715eef2",
   "metadata": {},
   "source": [
    "## Accessing string elements\n",
    "\n",
    "Since a string is a sequence of characters, you can access its elements using an index. The first character in the string has an index of zero.\n",
    "\n",
    "The following example shows how to access elements using an index:"
   ]
  },
  {
   "cell_type": "code",
   "execution_count": 22,
   "id": "57436f06",
   "metadata": {},
   "outputs": [
    {
     "name": "stdout",
     "output_type": "stream",
     "text": [
      "FRIDAY\n"
     ]
    }
   ],
   "source": [
    "myString = \"FRIDAY\"\n",
    "print(myString)"
   ]
  },
  {
   "cell_type": "markdown",
   "id": "2ea758d4-045a-42b4-b057-caa69c08bdcf",
   "metadata": {},
   "source": [
    "```\n",
    "+------------------------------+\n",
    "| F  | R  | I  | D  | A  | Y   |\n",
    "+------------------------------+\n",
    "| 0  | 1  | 2  | 3  | 4  | 5   | Positive/Forward Indexing \n",
    "+-----------------------------+\n",
    "| -6 | -5 | -4 | -3 | -2 | -1 |  Negative/Backward Indexing \n",
    "+-----------------------------+\n",
    "```"
   ]
  },
  {
   "cell_type": "markdown",
   "id": "75c59710",
   "metadata": {},
   "source": [
    ">**If you use a negative index, Python returns the character starting from the end of the string. For example:**"
   ]
  },
  {
   "cell_type": "code",
   "execution_count": 24,
   "id": "901b3977",
   "metadata": {},
   "outputs": [
    {
     "name": "stdout",
     "output_type": "stream",
     "text": [
      "D\n",
      "D\n"
     ]
    }
   ],
   "source": [
    "# Extract \"D\" from the string\n",
    "\n",
    "print(myString[3]) # Positive Indexing\n",
    "print(myString[-3]) # Negative Indexing"
   ]
  },
  {
   "cell_type": "markdown",
   "id": "ffe4aac3",
   "metadata": {},
   "source": [
    "#### The following illustrates the indexes of the string \"Python String\":"
   ]
  },
  {
   "cell_type": "markdown",
   "id": "057251d8",
   "metadata": {},
   "source": [
    "```\n",
    "+---+---+---+---+---+---+---+---+---+---+---+---+---+\n",
    "| P | y | t | h | o | n |   | S | t | r | i | n | g | \n",
    "+---+---+---+---+---+---+---+---+---+---+---+---+---+\n",
    "  0   1   2   3   4   5   6   7   8   9   10  11  12\n",
    "-13  -12  -11  -10 -9  -8  -7  -6  -5  -4  -3  -2  -1 \n",
    "```"
   ]
  },
  {
   "cell_type": "code",
   "execution_count": 26,
   "id": "81d08326-3065-476d-9795-9f7f433b591d",
   "metadata": {},
   "outputs": [
    {
     "name": "stdout",
     "output_type": "stream",
     "text": [
      "th\n"
     ]
    }
   ],
   "source": [
    "myString = \"Python String\"\n",
    "print(myString[2]+myString[3])"
   ]
  },
  {
   "cell_type": "code",
   "execution_count": 28,
   "id": "eb19f541-ff66-463b-ad35-1ecc8317137a",
   "metadata": {},
   "outputs": [
    {
     "name": "stdout",
     "output_type": "stream",
     "text": [
      "String\n"
     ]
    }
   ],
   "source": [
    "mystring = \"Python String\"\n",
    "print(mystring[-6]+mystring[-5]+mystring[-4]+mystring[-3]+mystring[-2]+mystring[-1])"
   ]
  },
  {
   "cell_type": "markdown",
   "id": "749c0e78",
   "metadata": {},
   "source": [
    "### Slicing strings\n",
    "\n",
    "Slicing allows you to get a substring from a string.\n",
    "\n",
    "**The syntax for slicing is as follows:**\n",
    "\n",
    "    string[start:end:increment]\n",
    "    # if starting index is skipped, default value is 0\n",
    "    # if ending index is skipped, default value is length of string\n",
    "    # ending index is always excluded\n",
    "    # if incrementing index is skipped, default value is 1\n",
    "\n",
    ">**The substring always includes the character at the start and excludes the string at the end.**\n",
    "\n",
    "The start and end are optional. If you omit the start, it defaults to zero. If you omit the end, it defaults to the string’s length.\n",
    "\n",
    "#### Examples:"
   ]
  },
  {
   "cell_type": "code",
   "execution_count": 29,
   "id": "b3a548b0-a53b-4f5c-acd8-a31d4fc69605",
   "metadata": {},
   "outputs": [
    {
     "data": {
      "text/plain": [
       "'Python String'"
      ]
     },
     "execution_count": 29,
     "metadata": {},
     "output_type": "execute_result"
    }
   ],
   "source": [
    "mystring[:]"
   ]
  },
  {
   "cell_type": "code",
   "execution_count": 31,
   "id": "447bb3f2",
   "metadata": {},
   "outputs": [
    {
     "name": "stdout",
     "output_type": "stream",
     "text": [
      "String\n"
     ]
    }
   ],
   "source": [
    "print(mystring[-6:])"
   ]
  },
  {
   "cell_type": "code",
   "execution_count": 32,
   "id": "c6d93a08-3a03-4c95-b59c-fbd8d59ac080",
   "metadata": {},
   "outputs": [
    {
     "name": "stdout",
     "output_type": "stream",
     "text": [
      "Python\n"
     ]
    }
   ],
   "source": [
    "print(mystring[:6])"
   ]
  },
  {
   "cell_type": "code",
   "execution_count": null,
   "id": "ec8c8c25-1c78-4acd-a85c-d6defc8596e2",
   "metadata": {},
   "outputs": [],
   "source": [
    "print(mystring[:6])"
   ]
  },
  {
   "cell_type": "code",
   "execution_count": 35,
   "id": "db6966c5-81ec-4470-b9d0-fcc2af905f5e",
   "metadata": {},
   "outputs": [
    {
     "name": "stdout",
     "output_type": "stream",
     "text": [
      "Pto tig\n"
     ]
    }
   ],
   "source": [
    "print(mystring[::2])"
   ]
  },
  {
   "cell_type": "markdown",
   "id": "358b2ff5",
   "metadata": {},
   "source": [
    "### Getting the length of a string\n",
    "\n",
    "To get the length of a string, you use the len() function. For example:"
   ]
  },
  {
   "cell_type": "code",
   "execution_count": 1,
   "id": "841eb090",
   "metadata": {},
   "outputs": [
    {
     "name": "stdout",
     "output_type": "stream",
     "text": [
      "Length of the string: 48\n"
     ]
    }
   ],
   "source": [
    "myString = \"if starting index is skipped, default value is 0\"\n",
    "print(\"Length of the string:\", len(myString))"
   ]
  },
  {
   "cell_type": "code",
   "execution_count": null,
   "id": "51204850-59b9-47e8-9917-10bf93a26748",
   "metadata": {},
   "outputs": [],
   "source": [
    "# First character\n",
    "# Middle character/s\n",
    "# Last character"
   ]
  },
  {
   "cell_type": "code",
   "execution_count": 2,
   "id": "512fc611-a4cf-4f2d-bdd6-e46c8ab0e02f",
   "metadata": {},
   "outputs": [
    {
     "name": "stdout",
     "output_type": "stream",
     "text": [
      "first i\n",
      "last 0\n",
      "middles i p\n"
     ]
    }
   ],
   "source": [
    "first = myString[0]\n",
    "last = myString[-1]\n",
    "middle_f = myString[(len(myString)//2)-1] \n",
    "middle_s = myString[(len(myString)//2)] \n",
    "print(\"first\",first)\n",
    "print(\"last\", last)\n",
    "print(\"middles\",middle_f,middle_s)"
   ]
  },
  {
   "cell_type": "code",
   "execution_count": 5,
   "id": "f8b72737-0bf8-485c-b8f8-781103e3df79",
   "metadata": {},
   "outputs": [
    {
     "data": {
      "text/plain": [
       "'p'"
      ]
     },
     "execution_count": 5,
     "metadata": {},
     "output_type": "execute_result"
    }
   ],
   "source": [
    "myString[len(myString)//2]"
   ]
  },
  {
   "cell_type": "markdown",
   "id": "b40bf717",
   "metadata": {},
   "source": [
    "### Python strings are immutable\n",
    "\n",
    "Python strings are immutable. It means that you cannot change the string. For example, you’ll get an error if you update one or more characters in a string:"
   ]
  },
  {
   "cell_type": "code",
   "execution_count": 6,
   "id": "f76c52f9",
   "metadata": {},
   "outputs": [
    {
     "data": {
      "text/plain": [
       "'if starting index is skipped, default value is 0'"
      ]
     },
     "execution_count": 6,
     "metadata": {},
     "output_type": "execute_result"
    }
   ],
   "source": [
    "myString"
   ]
  },
  {
   "cell_type": "code",
   "execution_count": 8,
   "id": "15c87146-906b-4cc1-8458-48cdd39dabf7",
   "metadata": {},
   "outputs": [
    {
     "ename": "TypeError",
     "evalue": "'str' object does not support item assignment",
     "output_type": "error",
     "traceback": [
      "\u001b[1;31m---------------------------------------------------------------------------\u001b[0m",
      "\u001b[1;31mTypeError\u001b[0m                                 Traceback (most recent call last)",
      "Cell \u001b[1;32mIn[8], line 1\u001b[0m\n\u001b[1;32m----> 1\u001b[0m myString[\u001b[38;5;241m3\u001b[39m] \u001b[38;5;241m=\u001b[39m \u001b[38;5;124m'\u001b[39m\u001b[38;5;124mX\u001b[39m\u001b[38;5;124m'\u001b[39m\n",
      "\u001b[1;31mTypeError\u001b[0m: 'str' object does not support item assignment"
     ]
    }
   ],
   "source": [
    "myString[3] = 'X'"
   ]
  },
  {
   "cell_type": "markdown",
   "id": "940bd668-788d-42f4-9b33-a7fcdeaf8068",
   "metadata": {},
   "source": [
    "# Methods in String"
   ]
  },
  {
   "cell_type": "code",
   "execution_count": 9,
   "id": "17a18be3-8ea2-4260-ab0f-2eb2a6ac3902",
   "metadata": {},
   "outputs": [
    {
     "name": "stdout",
     "output_type": "stream",
     "text": [
      "Welcome to python\n"
     ]
    }
   ],
   "source": [
    "myString = \"welcome to python\"\n",
    "\n",
    "# Welcome to python\n",
    "# Welcome To Python\n",
    "# WELCOME TO PYTHON\n",
    "\n",
    "# 1.\n",
    "x = myString.capitalize()\n",
    "print(x)"
   ]
  },
  {
   "cell_type": "code",
   "execution_count": 10,
   "id": "a9e14ac5-3bfb-4078-8088-86528fc59604",
   "metadata": {},
   "outputs": [
    {
     "name": "stdout",
     "output_type": "stream",
     "text": [
      "Welcome To Python\n"
     ]
    }
   ],
   "source": [
    "# 2. \n",
    "print(myString.title())"
   ]
  },
  {
   "cell_type": "code",
   "execution_count": 11,
   "id": "0c59ab72-4404-4f3f-8425-242f2478e20b",
   "metadata": {},
   "outputs": [
    {
     "name": "stdout",
     "output_type": "stream",
     "text": [
      "WELCOME TO PYTHON\n"
     ]
    }
   ],
   "source": [
    "# 3.\n",
    "\n",
    "print(myString.upper())"
   ]
  },
  {
   "cell_type": "code",
   "execution_count": 14,
   "id": "f8f8037a-6170-4c02-9e7e-98072f50acda",
   "metadata": {},
   "outputs": [
    {
     "name": "stdout",
     "output_type": "stream",
     "text": [
      "wELCOME TO PYTHON\n"
     ]
    }
   ],
   "source": [
    "# 4. swapcase\n",
    "\n",
    "print(x.swapcase())"
   ]
  },
  {
   "cell_type": "code",
   "execution_count": 16,
   "id": "7c416b40-7958-4d24-b260-e0eeaedef1e7",
   "metadata": {},
   "outputs": [
    {
     "data": {
      "text/plain": [
       "'WELCOME TO PYTHON'"
      ]
     },
     "execution_count": 16,
     "metadata": {},
     "output_type": "execute_result"
    }
   ],
   "source": [
    "myString = myString.upper()\n",
    "myString"
   ]
  },
  {
   "cell_type": "code",
   "execution_count": 17,
   "id": "410e6a5c-91d1-4ba7-96c1-92aca803fcc7",
   "metadata": {},
   "outputs": [
    {
     "data": {
      "text/plain": [
       "'WELCOME TO PYTHON'"
      ]
     },
     "execution_count": 17,
     "metadata": {},
     "output_type": "execute_result"
    }
   ],
   "source": [
    "myString"
   ]
  },
  {
   "cell_type": "code",
   "execution_count": 19,
   "id": "8500946b-a9ec-4b3d-9842-60b0005b04d9",
   "metadata": {},
   "outputs": [
    {
     "name": "stdout",
     "output_type": "stream",
     "text": [
      "1926467128624\n",
      "---------------\n",
      "1926520552880\n"
     ]
    }
   ],
   "source": [
    "str1 = 'python'\n",
    "print(id(str1))\n",
    "print(\"-\"*15)\n",
    "print(id(str1.upper()))"
   ]
  },
  {
   "cell_type": "code",
   "execution_count": null,
   "id": "8b791f25-70a1-447d-9265-971f908441be",
   "metadata": {},
   "outputs": [],
   "source": [
    "str1.upper()"
   ]
  },
  {
   "cell_type": "code",
   "execution_count": 20,
   "id": "b6a5d724-bfd2-43b7-964d-28c051120809",
   "metadata": {},
   "outputs": [
    {
     "data": {
      "text/plain": [
       "'Python strings are immutable. It means that you cannot change the string.'"
      ]
     },
     "execution_count": 20,
     "metadata": {},
     "output_type": "execute_result"
    }
   ],
   "source": [
    "str2 = \"Python strings are immutable. It means that you cannot change the string.\"\n",
    "str2"
   ]
  },
  {
   "cell_type": "code",
   "execution_count": 23,
   "id": "08a561fd-6721-45eb-8645-a37705b10af8",
   "metadata": {},
   "outputs": [
    {
     "data": {
      "text/plain": [
       "'immutable.'"
      ]
     },
     "execution_count": 23,
     "metadata": {},
     "output_type": "execute_result"
    }
   ],
   "source": [
    "str2[19:29]"
   ]
  },
  {
   "cell_type": "code",
   "execution_count": 31,
   "id": "6b9d8117-7e8d-4b9d-8a2c-db82c0e859dd",
   "metadata": {},
   "outputs": [
    {
     "data": {
      "text/plain": [
       "'immutable.'"
      ]
     },
     "execution_count": 31,
     "metadata": {},
     "output_type": "execute_result"
    }
   ],
   "source": [
    "# find() method\n",
    "\n",
    "str2[str2.find('i',str2.find(\"i\")+1):str2.find('.')+1]"
   ]
  },
  {
   "cell_type": "code",
   "execution_count": 26,
   "id": "d4828005-7853-4273-acf3-57a9d8b30de3",
   "metadata": {},
   "outputs": [
    {
     "data": {
      "text/plain": [
       "10"
      ]
     },
     "execution_count": 26,
     "metadata": {},
     "output_type": "execute_result"
    }
   ],
   "source": [
    "str2.find(\"i\")"
   ]
  },
  {
   "cell_type": "code",
   "execution_count": 29,
   "id": "b45a931c-dcab-487e-b6c4-80ae06849bf8",
   "metadata": {},
   "outputs": [
    {
     "data": {
      "text/plain": [
       "19"
      ]
     },
     "execution_count": 29,
     "metadata": {},
     "output_type": "execute_result"
    }
   ],
   "source": [
    "str2.find(\"i\",str2.find(\"i\")+1)"
   ]
  },
  {
   "cell_type": "code",
   "execution_count": null,
   "id": "42098aae-83e2-475b-97d7-c3b867727188",
   "metadata": {},
   "outputs": [],
   "source": [
    "str2.find(\"i\",str2.find(\"i\")+1)"
   ]
  },
  {
   "cell_type": "code",
   "execution_count": 30,
   "id": "c2c0ecf4-2653-4d18-b048-2cd3651eb893",
   "metadata": {},
   "outputs": [
    {
     "name": "stdout",
     "output_type": "stream",
     "text": [
      "10 19 69\n"
     ]
    }
   ],
   "source": [
    "f_i = str2.find(\"i\")\n",
    "s_i = str2.find(\"i\",f_i+1)\n",
    "t_i = str2.find(\"i\",s_i+1)\n",
    "print(f_i,s_i,t_i)"
   ]
  },
  {
   "cell_type": "code",
   "execution_count": 33,
   "id": "9ef0eca4-41fa-406e-9316-27816ac38d76",
   "metadata": {},
   "outputs": [
    {
     "data": {
      "text/plain": [
       "'Python strings are immutable. It means that you cannot change the string.'"
      ]
     },
     "execution_count": 33,
     "metadata": {},
     "output_type": "execute_result"
    }
   ],
   "source": [
    "str2"
   ]
  },
  {
   "cell_type": "code",
   "execution_count": 34,
   "id": "885701c2-13c3-433c-81ac-b9bf323b4463",
   "metadata": {},
   "outputs": [
    {
     "data": {
      "text/plain": [
       "'string.'"
      ]
     },
     "execution_count": 34,
     "metadata": {},
     "output_type": "execute_result"
    }
   ],
   "source": [
    "str2[str2.rfind(\"s\"):]"
   ]
  },
  {
   "cell_type": "code",
   "execution_count": 36,
   "id": "4d76b4c8-8c08-4951-b572-76483a889cbb",
   "metadata": {},
   "outputs": [
    {
     "name": "stdout",
     "output_type": "stream",
     "text": [
      "['Python', 'strings', 'are', 'immutable.', 'It', 'means', 'that', 'you', 'cannot', 'change', 'the', 'string.']\n"
     ]
    }
   ],
   "source": [
    "# split() \n",
    "\n",
    "print(str2.split())"
   ]
  },
  {
   "cell_type": "code",
   "execution_count": 37,
   "id": "6f62feeb-2440-42e4-a816-8599cd43cf50",
   "metadata": {},
   "outputs": [
    {
     "data": {
      "text/plain": [
       "'string.'"
      ]
     },
     "execution_count": 37,
     "metadata": {},
     "output_type": "execute_result"
    }
   ],
   "source": [
    "str2.split()[-1]"
   ]
  },
  {
   "cell_type": "code",
   "execution_count": 38,
   "id": "c0d4dae0-77b8-472e-ae50-0a1bf6f8e20a",
   "metadata": {},
   "outputs": [
    {
     "name": "stdin",
     "output_type": "stream",
     "text": [
      "Enter list items separated by a space!  1 2 3 4 5 6 7 8 9\n"
     ]
    },
    {
     "name": "stdout",
     "output_type": "stream",
     "text": [
      "['1', '2', '3', '4', '5', '6', '7', '8', '9']\n"
     ]
    }
   ],
   "source": [
    "items = input(\"Enter list items separated by a space! \")\n",
    "li = items.split()\n",
    "print(li)"
   ]
  },
  {
   "cell_type": "code",
   "execution_count": 39,
   "id": "5ff9e0f3-5581-492e-9d45-45f592c7df91",
   "metadata": {},
   "outputs": [
    {
     "name": "stdin",
     "output_type": "stream",
     "text": [
      "Enter list items separated by a comma!  1,2,3,4\n"
     ]
    },
    {
     "name": "stdout",
     "output_type": "stream",
     "text": [
      "['1', '2', '3', '4']\n"
     ]
    }
   ],
   "source": [
    "items = input(\"Enter list items separated by a comma! \")\n",
    "li = items.split(\",\")\n",
    "print(li)"
   ]
  },
  {
   "cell_type": "code",
   "execution_count": 43,
   "id": "d10fb7e7-9ec3-4f34-87b1-afcd370e4e47",
   "metadata": {},
   "outputs": [
    {
     "data": {
      "text/plain": [
       "['welcome', 'to', 'python', 'class']"
      ]
     },
     "execution_count": 43,
     "metadata": {},
     "output_type": "execute_result"
    }
   ],
   "source": [
    "# join() method\n",
    "\n",
    "str2 = \"welcome to python class\"\n",
    "str2.split()"
   ]
  },
  {
   "cell_type": "code",
   "execution_count": 44,
   "id": "eef54def-4bde-401b-be07-3586e2f32d02",
   "metadata": {},
   "outputs": [
    {
     "data": {
      "text/plain": [
       "'    amita    kumari           '"
      ]
     },
     "execution_count": 44,
     "metadata": {},
     "output_type": "execute_result"
    }
   ],
   "source": [
    "name = \"    amita    kumari           \"\n",
    "name"
   ]
  },
  {
   "cell_type": "code",
   "execution_count": 45,
   "id": "9997b59f-d67e-41c3-b71c-e8d445cb2d9a",
   "metadata": {},
   "outputs": [
    {
     "data": {
      "text/plain": [
       "'amita    kumari           '"
      ]
     },
     "execution_count": 45,
     "metadata": {},
     "output_type": "execute_result"
    }
   ],
   "source": [
    "name.lstrip()"
   ]
  },
  {
   "cell_type": "code",
   "execution_count": 46,
   "id": "d3e5d265-6482-44ea-9cf8-793910de0128",
   "metadata": {},
   "outputs": [
    {
     "data": {
      "text/plain": [
       "'    amita    kumari'"
      ]
     },
     "execution_count": 46,
     "metadata": {},
     "output_type": "execute_result"
    }
   ],
   "source": [
    "# using Rstrip using \n",
    "name.rstrip()"
   ]
  },
  {
   "cell_type": "code",
   "execution_count": 47,
   "id": "66424e16-e546-4525-9071-a5dbe3ce288e",
   "metadata": {},
   "outputs": [
    {
     "data": {
      "text/plain": [
       "'amita    kumari'"
      ]
     },
     "execution_count": 47,
     "metadata": {},
     "output_type": "execute_result"
    }
   ],
   "source": [
    "# using Strip\n",
    "name.strip()"
   ]
  },
  {
   "cell_type": "code",
   "execution_count": 48,
   "id": "43bea021-7254-4a52-a9e7-2ac871ef13cc",
   "metadata": {},
   "outputs": [
    {
     "data": {
      "text/plain": [
       "['amita', 'kumari']"
      ]
     },
     "execution_count": 48,
     "metadata": {},
     "output_type": "execute_result"
    }
   ],
   "source": [
    "# use split\n",
    "name.split()"
   ]
  },
  {
   "cell_type": "code",
   "execution_count": 49,
   "id": "af2bbc16-735f-46ca-ba1e-e45efd8f2aa0",
   "metadata": {},
   "outputs": [
    {
     "data": {
      "text/plain": [
       "'amita kumari'"
      ]
     },
     "execution_count": 49,
     "metadata": {},
     "output_type": "execute_result"
    }
   ],
   "source": [
    "\" \".join(name.split())"
   ]
  },
  {
   "cell_type": "code",
   "execution_count": 54,
   "id": "a0392b00-ae1c-4e13-afca-beb2cdf78b9d",
   "metadata": {},
   "outputs": [
    {
     "name": "stdout",
     "output_type": "stream",
     "text": [
      "amita    kumari           \n"
     ]
    },
    {
     "data": {
      "text/plain": [
       "True"
      ]
     },
     "execution_count": 54,
     "metadata": {},
     "output_type": "execute_result"
    }
   ],
   "source": [
    "# startswith()\n",
    "name = name.lstrip()\n",
    "print(name)\n",
    "name.startswith('a')"
   ]
  },
  {
   "cell_type": "code",
   "execution_count": 53,
   "id": "2dcdf1dd-daa0-434f-9580-341a96f09971",
   "metadata": {},
   "outputs": [
    {
     "data": {
      "text/plain": [
       "True"
      ]
     },
     "execution_count": 53,
     "metadata": {},
     "output_type": "execute_result"
    }
   ],
   "source": [
    "name1 = 'amita singh'\n",
    "name1.startswith('a')"
   ]
  },
  {
   "cell_type": "code",
   "execution_count": 55,
   "id": "2c539399-a396-42a9-b013-c8604583cbba",
   "metadata": {},
   "outputs": [
    {
     "data": {
      "text/plain": [
       "True"
      ]
     },
     "execution_count": 55,
     "metadata": {},
     "output_type": "execute_result"
    }
   ],
   "source": [
    "name1.endswith('h')"
   ]
  },
  {
   "cell_type": "code",
   "execution_count": 56,
   "id": "211868d7-e9c8-4764-a773-e10faf304269",
   "metadata": {},
   "outputs": [
    {
     "name": "stdout",
     "output_type": "stream",
     "text": [
      "['__add__', '__class__', '__contains__', '__delattr__', '__dir__', '__doc__', '__eq__', '__format__', '__ge__', '__getattribute__', '__getitem__', '__getnewargs__', '__getstate__', '__gt__', '__hash__', '__init__', '__init_subclass__', '__iter__', '__le__', '__len__', '__lt__', '__mod__', '__mul__', '__ne__', '__new__', '__reduce__', '__reduce_ex__', '__repr__', '__rmod__', '__rmul__', '__setattr__', '__sizeof__', '__str__', '__subclasshook__', 'capitalize', 'casefold', 'center', 'count', 'encode', 'endswith', 'expandtabs', 'find', 'format', 'format_map', 'index', 'isalnum', 'isalpha', 'isascii', 'isdecimal', 'isdigit', 'isidentifier', 'islower', 'isnumeric', 'isprintable', 'isspace', 'istitle', 'isupper', 'join', 'ljust', 'lower', 'lstrip', 'maketrans', 'partition', 'removeprefix', 'removesuffix', 'replace', 'rfind', 'rindex', 'rjust', 'rpartition', 'rsplit', 'rstrip', 'split', 'splitlines', 'startswith', 'strip', 'swapcase', 'title', 'translate', 'upper', 'zfill']\n"
     ]
    }
   ],
   "source": [
    "print(dir(str))"
   ]
  },
  {
   "cell_type": "code",
   "execution_count": 57,
   "id": "d5ca9eb2-5792-4d30-a103-3e8a1348b4d0",
   "metadata": {},
   "outputs": [
    {
     "data": {
      "text/plain": [
       "'amita singh'"
      ]
     },
     "execution_count": 57,
     "metadata": {},
     "output_type": "execute_result"
    }
   ],
   "source": [
    "name1"
   ]
  },
  {
   "cell_type": "code",
   "execution_count": 58,
   "id": "c0c7da59-1aed-4b0e-b048-4ad29e0478ad",
   "metadata": {},
   "outputs": [
    {
     "data": {
      "text/plain": [
       "'amita kumari'"
      ]
     },
     "execution_count": 58,
     "metadata": {},
     "output_type": "execute_result"
    }
   ],
   "source": [
    "name1.replace(\"singh\",\"kumari\")"
   ]
  },
  {
   "cell_type": "code",
   "execution_count": 59,
   "id": "a2d48bb2-8677-4771-ab21-ccc9c8c050dd",
   "metadata": {},
   "outputs": [
    {
     "data": {
      "text/plain": [
       "'pYtHoN'"
      ]
     },
     "execution_count": 59,
     "metadata": {},
     "output_type": "execute_result"
    }
   ],
   "source": [
    "str3 = 'PyThOn'\n",
    "str3.swapcase()"
   ]
  },
  {
   "cell_type": "code",
   "execution_count": null,
   "id": "825c903e-62eb-4cfc-91dd-77036df698e1",
   "metadata": {},
   "outputs": [],
   "source": []
  }
 ],
 "metadata": {
  "kernelspec": {
   "display_name": "Python 3 (ipykernel)",
   "language": "python",
   "name": "python3"
  },
  "language_info": {
   "codemirror_mode": {
    "name": "ipython",
    "version": 3
   },
   "file_extension": ".py",
   "mimetype": "text/x-python",
   "name": "python",
   "nbconvert_exporter": "python",
   "pygments_lexer": "ipython3",
   "version": "3.10.9"
  }
 },
 "nbformat": 4,
 "nbformat_minor": 5
}

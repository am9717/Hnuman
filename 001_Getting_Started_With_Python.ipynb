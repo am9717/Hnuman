{
 "cells": [
  {
   "cell_type": "markdown",
   "id": "9ace864c",
   "metadata": {},
   "source": [
    "# The first program"
   ]
  },
  {
   "cell_type": "code",
   "execution_count": 1,
   "id": "f0e9baa3",
   "metadata": {},
   "outputs": [
    {
     "name": "stdout",
     "output_type": "stream",
     "text": [
      "Hello! World\n"
     ]
    }
   ],
   "source": [
    "# printing \"Hello! World\"\n",
    "\n",
    "print(\"Hello! World\") # print function: this function can be used to get output on display\n",
    "                      # string literal"
   ]
  },
  {
   "cell_type": "code",
   "execution_count": null,
   "id": "365c0813",
   "metadata": {},
   "outputs": [],
   "source": [
    "# To execute a code in jupyter notbook's cell\n",
    "# ctrl+enter: executes code in a cell\n",
    "# shift+enter: executes code in a cell and also creates a new cell to write another code"
   ]
  },
  {
   "cell_type": "code",
   "execution_count": 2,
   "id": "c3ef9e9a",
   "metadata": {},
   "outputs": [
    {
     "name": "stdout",
     "output_type": "stream",
     "text": [
      "Hello! World\n"
     ]
    }
   ],
   "source": [
    "print('Hello! World')"
   ]
  },
  {
   "cell_type": "code",
   "execution_count": 3,
   "id": "7cb12b75",
   "metadata": {},
   "outputs": [
    {
     "name": "stdout",
     "output_type": "stream",
     "text": [
      "45\n"
     ]
    }
   ],
   "source": [
    "print(45)"
   ]
  },
  {
   "cell_type": "markdown",
   "id": "ebabe41c",
   "metadata": {},
   "source": [
    "# Arithmetic operators\n",
    "\n",
    "- Python provides **operators**, which are special symbols that represent computations like addition and multiplication.\n",
    "\n",
    "- The operators +, -, and * perform addition, subtraction, and multiplication, as in the following examples:"
   ]
  },
  {
   "cell_type": "code",
   "execution_count": 8,
   "id": "4dfd0a1a",
   "metadata": {},
   "outputs": [
    {
     "name": "stdout",
     "output_type": "stream",
     "text": [
      "Addition of 12 & 34 is 46\n",
      "Subtraction of 12 & 34 is 22\n",
      "Multiplicaion of 12 & 34 is 408\n",
      "Division of 12 & 34 is 2.8333333333333335\n",
      "Integer Division of 12 & 34 is 2\n",
      "Modulus of 12 & 34 is 12\n",
      "Power of 12 to 4 is 20736\n"
     ]
    }
   ],
   "source": [
    "# Addition\n",
    "print(\"Addition of 12 & 34 is\",12+34)\n",
    "\n",
    "# Subtraction\n",
    "print(\"Subtraction of 12 & 34 is\",34-12)\n",
    "\n",
    "# Multiplicaion\n",
    "print(\"Multiplicaion of 12 & 34 is\",12*34)\n",
    "\n",
    "# Division\n",
    "print(\"Division of 12 & 34 is\",34/12) # Floating point number\n",
    "\n",
    "# Integer Division\n",
    "print(\"Integer Division of 12 & 34 is\",34//12) # Rounds down the result\n",
    "\n",
    "# Modulus\n",
    "print(\"Modulus of 12 & 34 is\",12%34) # Gives us remainder\n",
    "\n",
    "# Power/ Exponent\n",
    "print(\"Power of 12 to 4 is\",12**4) # Power"
   ]
  },
  {
   "cell_type": "markdown",
   "id": "a96c9988",
   "metadata": {},
   "source": [
    "**Things are calculated in the same order as in math. The parentheses(and) also work the same way.**"
   ]
  },
  {
   "cell_type": "code",
   "execution_count": 11,
   "id": "3c72d367",
   "metadata": {},
   "outputs": [
    {
     "data": {
      "text/plain": [
       "13.0"
      ]
     },
     "execution_count": 11,
     "metadata": {},
     "output_type": "execute_result"
    }
   ],
   "source": [
    "1+2+4/2*5"
   ]
  },
  {
   "cell_type": "code",
   "execution_count": 12,
   "id": "a36ddbfb",
   "metadata": {},
   "outputs": [
    {
     "data": {
      "text/plain": [
       "17.5"
      ]
     },
     "execution_count": 12,
     "metadata": {},
     "output_type": "execute_result"
    }
   ],
   "source": [
    "(1+2+4)/2*5"
   ]
  },
  {
   "cell_type": "code",
   "execution_count": null,
   "id": "18123620",
   "metadata": {},
   "outputs": [],
   "source": [
    "# PEMDAS"
   ]
  },
  {
   "cell_type": "code",
   "execution_count": 13,
   "id": "26772e32",
   "metadata": {},
   "outputs": [
    {
     "data": {
      "text/plain": [
       "15"
      ]
     },
     "execution_count": 13,
     "metadata": {},
     "output_type": "execute_result"
    }
   ],
   "source": [
    "(1+2)*5 "
   ]
  },
  {
   "cell_type": "code",
   "execution_count": 7,
   "id": "2bea1c52",
   "metadata": {},
   "outputs": [],
   "source": [
    "# Exception \n",
    "# Order of associativity\n",
    "# Exponentiation(**) & Assignment operator \"=\"\"\n",
    "\n",
    "# 2**3**2"
   ]
  },
  {
   "cell_type": "code",
   "execution_count": 14,
   "id": "daa30fad",
   "metadata": {},
   "outputs": [
    {
     "data": {
      "text/plain": [
       "2417851639229258349412352"
      ]
     },
     "execution_count": 14,
     "metadata": {},
     "output_type": "execute_result"
    }
   ],
   "source": [
    "2**3**2**2"
   ]
  },
  {
   "cell_type": "markdown",
   "id": "21986453",
   "metadata": {},
   "source": [
    "## Comments\n",
    "\n",
    "- A comment is basically a text note that gives an explanation about the source code. \n",
    "- They act as documentation in the source code. \n",
    "- Comments increases the readability of the program. \n",
    "- Comments make it easy for the programmer to remember the complex things added to the code. \n",
    "- They describe what a function does, or explain the working of a particular block of code.\n",
    "\n",
    "## Types of comments\n",
    "\n",
    "**1. Line Comments**\n",
    "\n",
    "These are basically the single-line comment.\n",
    "\n",
    "**2. Block Comments**\n",
    "\n",
    "These are the multi-line comment. \n",
    "\n",
    "## Writing comments in Python\n",
    "\n",
    "**In python, we use the # symbol for writing the comments**\n",
    "\n",
    "The single-line comments use a single # symbol. For example:"
   ]
  },
  {
   "cell_type": "code",
   "execution_count": 8,
   "id": "66467c73",
   "metadata": {},
   "outputs": [],
   "source": [
    "# hello python\n",
    "# ctrl+/\n",
    "# In python, we use the"
   ]
  },
  {
   "cell_type": "markdown",
   "id": "bdd37684",
   "metadata": {},
   "source": [
    "**The multi-line comments either use a single # symbol or string literal '''...'''/\"\"\"...\"\"\". For example:**"
   ]
  },
  {
   "cell_type": "code",
   "execution_count": 17,
   "id": "aa6578b5",
   "metadata": {},
   "outputs": [
    {
     "name": "stdout",
     "output_type": "stream",
     "text": [
      "example of a multiline comment\n"
     ]
    }
   ],
   "source": [
    "# A comment is basically a text note that gives an \n",
    "# explanation about the source code.\n",
    "# They act as documentation in the source code.\n",
    "# Comments increases the readability of the program.\n",
    "# Comments make it easy for the programmer to remember \n",
    "# the complex things added to the code.\n",
    "# They describe what a function does, or explain the \n",
    "# working of a particular block of code.\n",
    "\n",
    "print(\"example of a multiline comment\")"
   ]
  },
  {
   "cell_type": "code",
   "execution_count": 18,
   "id": "b87c452c-d02a-415d-b9d0-4cd20b805c8f",
   "metadata": {},
   "outputs": [
    {
     "name": "stdout",
     "output_type": "stream",
     "text": [
      "another example of a multiline comment\n"
     ]
    }
   ],
   "source": [
    "'''\n",
    "A comment is basically a text note that gives an \n",
    "explanation about the source code.\n",
    "They act as documentation in the source code.\n",
    "Comments increases the readability of the program.\n",
    "Comments make it easy for the programmer to remember \n",
    "the complex things added to the code.\n",
    "They describe what a function does, or explain the \n",
    "working of a particular block of code.\n",
    "'''\n",
    "\n",
    "print(\"another example of a multiline comment\")"
   ]
  },
  {
   "cell_type": "code",
   "execution_count": 14,
   "id": "f73e71ba",
   "metadata": {},
   "outputs": [],
   "source": [
    "# x = 'hello world'\n",
    "print(x)"
   ]
  },
  {
   "cell_type": "code",
   "execution_count": 15,
   "id": "0a48820a",
   "metadata": {},
   "outputs": [
    {
     "name": "stdout",
     "output_type": "stream",
     "text": [
      "hello world\n"
     ]
    }
   ],
   "source": [
    "print(x)"
   ]
  },
  {
   "cell_type": "markdown",
   "id": "a8ff1111",
   "metadata": {},
   "source": [
    "## Variables in Python\n",
    "\n",
    "- Think of variables as a box that we can store things in, such as numbers, strings, characters, and a whole lot more.\n",
    "\n",
    "- Variables can be created to store a particular value that we can add to overtime, but we can also completely replace it with something else if need be. \n",
    "\n",
    "- Variables are also useful because they can act as a name for the information that it is storing, and we can get access to that data whenever we use its name.\n",
    "\n",
    "## Assignment statements\n",
    "\n",
    "- An assignment statement creates a new variable and gives it a value."
   ]
  },
  {
   "cell_type": "markdown",
   "id": "7e4c30d0",
   "metadata": {},
   "source": [
    "#### Syntax:\n",
    "\n",
    "```\n",
    "variable_name = value\n",
    "```"
   ]
  },
  {
   "cell_type": "code",
   "execution_count": 19,
   "id": "136f086d",
   "metadata": {},
   "outputs": [
    {
     "name": "stdout",
     "output_type": "stream",
     "text": [
      "Addition of 12 & 34 is 46\n",
      "Subtraction of 12 & 34 is 22\n",
      "Multiplicaion of 12 & 34 is 408\n",
      "Division of 12 & 34 is 2.8333333333333335\n",
      "Integer Division of 12 & 34 is 2\n",
      "Modulus of 12 & 34 is 12\n",
      "Power of 12 to 4 is 20736\n"
     ]
    }
   ],
   "source": [
    "# creating two variables to store 12 and 34\n",
    "\n",
    "num1 = 12\n",
    "num2 = 34\n",
    "\n",
    "# Addition\n",
    "print(\"Addition of 12 & 34 is\",num1+num2)\n",
    "\n",
    "# Subtraction\n",
    "print(\"Subtraction of 12 & 34 is\",34-12)\n",
    "\n",
    "# Multiplicaion\n",
    "print(\"Multiplicaion of 12 & 34 is\",12*34)\n",
    "\n",
    "# Division\n",
    "print(\"Division of 12 & 34 is\",34/12) # Floating point number\n",
    "\n",
    "# Integer Division\n",
    "print(\"Integer Division of 12 & 34 is\",34//12) # Rounds down the result\n",
    "\n",
    "# Modulus\n",
    "print(\"Modulus of 12 & 34 is\",12%34) # Gives us remainder\n",
    "\n",
    "# Power/ Exponent\n",
    "print(\"Power of 12 to 4 is\",12**4) # Power"
   ]
  },
  {
   "cell_type": "markdown",
   "id": "cf10d14a",
   "metadata": {},
   "source": [
    "## Variable Naming Rules in Python\n",
    "\n",
    "1. Variable name should start with letter(a-zA-Z) or underscore (_).\n",
    "\n",
    "- Valid : age , _age , Age\n",
    "- Invalid : 1age\n",
    "\n",
    "2. In variable name, no special characters allowed other than underscore (_).\n",
    "\n",
    "- Valid : age_ , _age\n",
    "- Invalid : age_*\n",
    "\n",
    "3. Variables are case sensitive.\n",
    "\n",
    "- age and Age are different, since variable names are case sensitive.\n",
    "\n",
    "4. Variable name can have numbers but not at the beginning.\n",
    "\n",
    "- Example: Age1\n",
    "\n",
    "5. Variable name should not be a Python keyword.Keywords are also called as reserved words.\n",
    "\n",
    "- Example: pass, break, continue.. etc"
   ]
  },
  {
   "cell_type": "code",
   "execution_count": 20,
   "id": "42215c5d",
   "metadata": {},
   "outputs": [
    {
     "ename": "SyntaxError",
     "evalue": "invalid decimal literal (3904134033.py, line 1)",
     "output_type": "error",
     "traceback": [
      "\u001b[1;36m  Cell \u001b[1;32mIn[20], line 1\u001b[1;36m\u001b[0m\n\u001b[1;33m    1x = 34\u001b[0m\n\u001b[1;37m    ^\u001b[0m\n\u001b[1;31mSyntaxError\u001b[0m\u001b[1;31m:\u001b[0m invalid decimal literal\n"
     ]
    }
   ],
   "source": [
    "1x = 34"
   ]
  },
  {
   "cell_type": "code",
   "execution_count": 22,
   "id": "f7837d16",
   "metadata": {},
   "outputs": [
    {
     "name": "stdout",
     "output_type": "stream",
     "text": [
      "34\n"
     ]
    }
   ],
   "source": [
    "_1x = 34 # Valid\n",
    "print(_1x)"
   ]
  },
  {
   "cell_type": "code",
   "execution_count": 25,
   "id": "3cf32d07",
   "metadata": {},
   "outputs": [
    {
     "name": "stdout",
     "output_type": "stream",
     "text": [
      "-13\n"
     ]
    }
   ],
   "source": [
    "_ = -13\n",
    "print(_)"
   ]
  },
  {
   "cell_type": "code",
   "execution_count": 29,
   "id": "3ed9a3d4",
   "metadata": {},
   "outputs": [
    {
     "name": "stdout",
     "output_type": "stream",
     "text": [
      "\n",
      "Here is a list of the Python keywords.  Enter any keyword to get more help.\n",
      "\n",
      "False               class               from                or\n",
      "None                continue            global              pass\n",
      "True                def                 if                  raise\n",
      "and                 del                 import              return\n",
      "as                  elif                in                  try\n",
      "assert              else                is                  while\n",
      "async               except              lambda              with\n",
      "await               finally             nonlocal            yield\n",
      "break               for                 not                 \n",
      "\n"
     ]
    }
   ],
   "source": [
    "help(\"keywords\")"
   ]
  },
  {
   "cell_type": "code",
   "execution_count": 26,
   "id": "dfe84048",
   "metadata": {},
   "outputs": [
    {
     "data": {
      "text/plain": [
       "False"
      ]
     },
     "execution_count": 26,
     "metadata": {},
     "output_type": "execute_result"
    }
   ],
   "source": [
    "false = False\n",
    "false"
   ]
  },
  {
   "cell_type": "code",
   "execution_count": 27,
   "id": "c5975b71-03a8-4742-86e0-7fd9f04bd632",
   "metadata": {},
   "outputs": [
    {
     "ename": "SyntaxError",
     "evalue": "cannot assign to False (2794419304.py, line 1)",
     "output_type": "error",
     "traceback": [
      "\u001b[1;36m  Cell \u001b[1;32mIn[27], line 1\u001b[1;36m\u001b[0m\n\u001b[1;33m    False = 34\u001b[0m\n\u001b[1;37m    ^\u001b[0m\n\u001b[1;31mSyntaxError\u001b[0m\u001b[1;31m:\u001b[0m cannot assign to False\n"
     ]
    }
   ],
   "source": [
    "False = 34 # Invalid "
   ]
  },
  {
   "cell_type": "code",
   "execution_count": 30,
   "id": "0ac75222-7713-4d4b-93d6-723df9310707",
   "metadata": {},
   "outputs": [],
   "source": [
    "age = 12\n",
    "Age = 12\n",
    "AGE = 12"
   ]
  },
  {
   "cell_type": "code",
   "execution_count": 31,
   "id": "f7270c8a-bfa3-4e25-a99c-1bf17e1b81ca",
   "metadata": {},
   "outputs": [
    {
     "name": "stdout",
     "output_type": "stream",
     "text": [
      "140713963394184\n",
      "140713963394184\n",
      "140713963394184\n"
     ]
    }
   ],
   "source": [
    "print(id(age))\n",
    "print(id(Age))\n",
    "print(id(AGE))"
   ]
  },
  {
   "cell_type": "markdown",
   "id": "9c5e3743",
   "metadata": {},
   "source": [
    "### Good Variable Names\n",
    "\n",
    "```\n",
    "magic_number = 123\n",
    "greeting = \"Hello World!\"\n",
    "````\n",
    "\n",
    "### Bad Variable Names\n",
    "```\n",
    "magicNumber = 3.14          # looks weird\n",
    "Greeting = \"Hello there!\"   # also looks weird\n",
    "x = \"Hello again!\"          # what the heck is x?\n",
    "```"
   ]
  },
  {
   "cell_type": "code",
   "execution_count": null,
   "id": "9dd21124-f5b6-4a61-9e6f-2fa501c4f815",
   "metadata": {},
   "outputs": [],
   "source": []
  },
  {
   "cell_type": "markdown",
   "id": "fb959a3b",
   "metadata": {},
   "source": [
    "***Getting user input using the _input()_ built-in function. Let us assign the data we get from a user into first_name and age variables.***\n",
    "\n",
    "**Example:**"
   ]
  },
  {
   "cell_type": "code",
   "execution_count": null,
   "id": "f79b904a",
   "metadata": {},
   "outputs": [],
   "source": []
  },
  {
   "cell_type": "markdown",
   "id": "2a125193",
   "metadata": {},
   "source": [
    "## Data Types\n",
    "\n",
    "- Every value in Python has a datatype. Different data types in Python are Numbers, List, Tuple, Strings, Dictionary etc.\n",
    "\n",
    "## Checking Data types and Casting\n",
    "\n",
    "- Check Data types: To check the data type of certain data/variable we use the _type_\n",
    "\n",
    "**Example:**"
   ]
  },
  {
   "cell_type": "code",
   "execution_count": null,
   "id": "f7e1240a",
   "metadata": {},
   "outputs": [],
   "source": [
    "# Calculate area of a circle\n",
    "# pi*r**2\n",
    "# pi = 3.14"
   ]
  },
  {
   "cell_type": "code",
   "execution_count": 17,
   "id": "bb04bf59",
   "metadata": {},
   "outputs": [
    {
     "name": "stdout",
     "output_type": "stream",
     "text": [
      "3.141592653589793\n"
     ]
    }
   ],
   "source": [
    "import math\n",
    "print(math.pi)"
   ]
  },
  {
   "cell_type": "code",
   "execution_count": 18,
   "id": "4c8546b9",
   "metadata": {},
   "outputs": [
    {
     "data": {
      "text/plain": [
       "3.141592653589793"
      ]
     },
     "execution_count": 18,
     "metadata": {},
     "output_type": "execute_result"
    }
   ],
   "source": [
    "pi = 3.141592653589793  # Assignment statement\n",
    "pi"
   ]
  },
  {
   "cell_type": "code",
   "execution_count": null,
   "id": "afda3bba",
   "metadata": {},
   "outputs": [],
   "source": [
    "## C\n",
    "## Python\n",
    "# 5 variables : 5 \n",
    "a = 23\n",
    "b = 23\n",
    "c = 23\n",
    "d = 23\n",
    "e = 23"
   ]
  },
  {
   "cell_type": "code",
   "execution_count": 19,
   "id": "ffe52993",
   "metadata": {},
   "outputs": [],
   "source": [
    "# Python\n",
    "a = 23\n",
    "b = 23\n",
    "c = 23\n",
    "d = 23\n",
    "e = 23"
   ]
  },
  {
   "cell_type": "code",
   "execution_count": 20,
   "id": "c185b64f",
   "metadata": {},
   "outputs": [
    {
     "name": "stdout",
     "output_type": "stream",
     "text": [
      "140707579860456\n",
      "140707579860456\n",
      "140707579860456\n",
      "140707579860456\n",
      "140707579860456\n"
     ]
    }
   ],
   "source": [
    "print(id(a))\n",
    "print(id(b))\n",
    "print(id(c))\n",
    "print(id(d))\n",
    "print(id(e))"
   ]
  },
  {
   "cell_type": "code",
   "execution_count": null,
   "id": "dc171bea",
   "metadata": {},
   "outputs": [],
   "source": [
    "age = 35"
   ]
  },
  {
   "cell_type": "code",
   "execution_count": 21,
   "id": "e10464e0",
   "metadata": {},
   "outputs": [
    {
     "data": {
      "text/plain": [
       "'Getting User Input Using The Input() Built-In Function. Let Us Assign The Data We Get From A User Into First_Name And Age Variables.'"
      ]
     },
     "execution_count": 21,
     "metadata": {},
     "output_type": "execute_result"
    }
   ],
   "source": [
    "Getting user input using the input() built-in function. Let us assign the data we get from a user into first_name and age variables."
   ]
  },
  {
   "cell_type": "code",
   "execution_count": 23,
   "id": "b780c5a3",
   "metadata": {},
   "outputs": [
    {
     "data": {
      "text/plain": [
       "'GETTING USER INPUT USING THE INPUT() BUILT-IN FUNCTION. LET US ASSIGN THE DATA WE GET FROM A USER INTO FIRST_NAME AND AGE VARIABLES.'"
      ]
     },
     "execution_count": 23,
     "metadata": {},
     "output_type": "execute_result"
    }
   ],
   "source": [
    "\"Getting user input using the input() built-in function. Let us assign the data we get from a user into first_name and age variables.\".upper()"
   ]
  },
  {
   "cell_type": "code",
   "execution_count": 24,
   "id": "7f9f8da4",
   "metadata": {},
   "outputs": [
    {
     "data": {
      "text/plain": [
       "'gETTING USER INPUT USING THE INPUT() BUILT-IN FUNCTION. lET US ASSIGN THE DATA WE GET FROM A USER INTO FIRST_NAME AND AGE VARIABLES.'"
      ]
     },
     "execution_count": 24,
     "metadata": {},
     "output_type": "execute_result"
    }
   ],
   "source": [
    "\"Getting user input using the input() built-in function. Let us assign the data we get from a user into first_name and age variables.\".swapcase()"
   ]
  },
  {
   "cell_type": "code",
   "execution_count": null,
   "id": "dc609745",
   "metadata": {},
   "outputs": [],
   "source": []
  }
 ],
 "metadata": {
  "kernelspec": {
   "display_name": "Python 3 (ipykernel)",
   "language": "python",
   "name": "python3"
  },
  "language_info": {
   "codemirror_mode": {
    "name": "ipython",
    "version": 3
   },
   "file_extension": ".py",
   "mimetype": "text/x-python",
   "name": "python",
   "nbconvert_exporter": "python",
   "pygments_lexer": "ipython3",
   "version": "3.11.5"
  }
 },
 "nbformat": 4,
 "nbformat_minor": 5
}

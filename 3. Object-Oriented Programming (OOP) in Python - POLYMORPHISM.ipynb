{
 "cells": [
  {
   "cell_type": "markdown",
   "id": "9b307199",
   "metadata": {},
   "source": [
    "## What is Polymorphism?\n",
    "\n",
    "- Polymorphism is derived from the Greek words poly (meaning many) and morph (meaning form). Polymorphism, in a nutshell, means having multiple forms. To put it simply, polymorphism allows us to do the same activity in a variety of ways.\n",
    "\n",
    "## Polymorphism has the following advantages:\n",
    "\n",
    "- It is beneficial to reuse the codes.\n",
    "- The codes are simple to debug.\n",
    "- A single variable can store multiple data types.\n",
    "\n",
    "## Polymorphism may be used in one of the following ways in an object-oriented language:\n",
    "\n",
    "- Overloading of operators\n",
    "- Class Polymorphism in Python\n",
    "- Method overriding, also referred to as Run time Polymorphism\n",
    "- Method overloading, also known as Compile time Polymorphism"
   ]
  },
  {
   "cell_type": "code",
   "execution_count": null,
   "id": "b98e62b5",
   "metadata": {},
   "outputs": [],
   "source": [
    "# \"+\",\"*\""
   ]
  },
  {
   "cell_type": "code",
   "execution_count": 1,
   "id": "608ee6d9",
   "metadata": {},
   "outputs": [
    {
     "name": "stdout",
     "output_type": "stream",
     "text": [
      "5\n"
     ]
    }
   ],
   "source": [
    "print(2+3) # int"
   ]
  },
  {
   "cell_type": "code",
   "execution_count": 2,
   "id": "91e43681",
   "metadata": {},
   "outputs": [
    {
     "name": "stdout",
     "output_type": "stream",
     "text": [
      "23\n"
     ]
    }
   ],
   "source": [
    "print('2'+'3') # str "
   ]
  },
  {
   "cell_type": "code",
   "execution_count": 3,
   "id": "9e67ef75-623a-44e1-b62f-ab3ee9cc3483",
   "metadata": {},
   "outputs": [
    {
     "name": "stdout",
     "output_type": "stream",
     "text": [
      "6\n"
     ]
    }
   ],
   "source": [
    "print(2*3) # int"
   ]
  },
  {
   "cell_type": "code",
   "execution_count": 4,
   "id": "6ef2d191-a1d4-424b-afe3-9dcff2735497",
   "metadata": {},
   "outputs": [
    {
     "name": "stdout",
     "output_type": "stream",
     "text": [
      "222\n"
     ]
    }
   ],
   "source": [
    "print('2'*3) # str"
   ]
  },
  {
   "cell_type": "code",
   "execution_count": null,
   "id": "3beb9a7e-5812-44e7-8cda-023c171260eb",
   "metadata": {},
   "outputs": [],
   "source": [
    "# max,min,len"
   ]
  },
  {
   "cell_type": "code",
   "execution_count": 5,
   "id": "cb2aba80-f42e-4171-b1ab-d648dc5a7f22",
   "metadata": {},
   "outputs": [
    {
     "name": "stdout",
     "output_type": "stream",
     "text": [
      "7\n",
      "5\n",
      "6\n"
     ]
    }
   ],
   "source": [
    "l1 = [4,5,6,3,2,1,7]\n",
    "t1 = (45,67,89,98,54)\n",
    "s1 = {3,2,2,1,7,8,9}\n",
    "\n",
    "print(len(l1))\n",
    "print(len(t1))\n",
    "print(len(s1))"
   ]
  },
  {
   "cell_type": "markdown",
   "id": "f0b7ee78",
   "metadata": {},
   "source": [
    "## 1. Operator Overloading\n",
    "\n",
    "**What the operator does, depends on the objects it operates on. For example:**\n",
    "\n",
    "### Example:"
   ]
  },
  {
   "cell_type": "code",
   "execution_count": 6,
   "id": "aa28b248-2c96-47ed-9c2a-9c0a307b3dd3",
   "metadata": {},
   "outputs": [
    {
     "ename": "TypeError",
     "evalue": "unsupported operand type(s) for +: 'One' and 'One'",
     "output_type": "error",
     "traceback": [
      "\u001b[1;31m---------------------------------------------------------------------------\u001b[0m",
      "\u001b[1;31mTypeError\u001b[0m                                 Traceback (most recent call last)",
      "Cell \u001b[1;32mIn[6], line 8\u001b[0m\n\u001b[0;32m      6\u001b[0m n1 \u001b[38;5;241m=\u001b[39m One(\u001b[38;5;241m2\u001b[39m)\n\u001b[0;32m      7\u001b[0m n2 \u001b[38;5;241m=\u001b[39m One(\u001b[38;5;241m5\u001b[39m)\n\u001b[1;32m----> 8\u001b[0m \u001b[38;5;28mprint\u001b[39m(n1\u001b[38;5;241m+\u001b[39mn2)\n",
      "\u001b[1;31mTypeError\u001b[0m: unsupported operand type(s) for +: 'One' and 'One'"
     ]
    }
   ],
   "source": [
    "class One:\n",
    "    def __init__(self,x):\n",
    "        self.x=x\n",
    "\n",
    "# obj\n",
    "n1 = One(2)\n",
    "n2 = One(5)\n",
    "print(n1+n2)"
   ]
  },
  {
   "cell_type": "code",
   "execution_count": 7,
   "id": "47da7dea-5fa4-4b07-9f3e-05195e855253",
   "metadata": {},
   "outputs": [
    {
     "name": "stdout",
     "output_type": "stream",
     "text": [
      "7\n"
     ]
    }
   ],
   "source": [
    "class MyInt:\n",
    "    def __init__(self,x):\n",
    "        self.x=x\n",
    "\n",
    "    def __add__(self,other):\n",
    "        return self.x+other.x\n",
    "\n",
    "# obj\n",
    "n1 = One(2)\n",
    "n2 = One(5)\n",
    "print(n1+n2)\n",
    "print(n1-n2) # not suppoerted at the moment\n",
    "print(n1*n2) # not suppoerted at the moment\n",
    "print(n1/n2) # not suppoerted at the moment\n",
    "print(n1//n2) # not suppoerted at the moment\n",
    "print(n1**2) # not suppoerted at the moment\n",
    "print(n1%n2) # not suppoerted at the moment"
   ]
  },
  {
   "cell_type": "code",
   "execution_count": 23,
   "id": "961d1b65-08a5-4f02-95b7-89706166c085",
   "metadata": {},
   "outputs": [
    {
     "ename": "TypeError",
     "evalue": "unsupported operand type(s) for +: 'int' and 'One'",
     "output_type": "error",
     "traceback": [
      "\u001b[1;31m---------------------------------------------------------------------------\u001b[0m",
      "\u001b[1;31mTypeError\u001b[0m                                 Traceback (most recent call last)",
      "Cell \u001b[1;32mIn[23], line 12\u001b[0m\n\u001b[0;32m     10\u001b[0m n2 \u001b[38;5;241m=\u001b[39m One(\u001b[38;5;241m5\u001b[39m)\n\u001b[0;32m     11\u001b[0m n3 \u001b[38;5;241m=\u001b[39m One(\u001b[38;5;241m3\u001b[39m)\n\u001b[1;32m---> 12\u001b[0m n1\u001b[38;5;241m+\u001b[39mn2\u001b[38;5;241m+\u001b[39mn3\n",
      "\u001b[1;31mTypeError\u001b[0m: unsupported operand type(s) for +: 'int' and 'One'"
     ]
    }
   ],
   "source": [
    "class MyInt:\n",
    "    def __init__(self,x):\n",
    "        self.x=x\n",
    "\n",
    "    def __radd__(self,other):\n",
    "        return self.x+other.x\n",
    "\n",
    "# obj\n",
    "n1 = One(2)\n",
    "n2 = One(5)\n",
    "n3 = One(3)\n",
    "n1+n2+n3"
   ]
  },
  {
   "cell_type": "markdown",
   "id": "b7c7648d",
   "metadata": {},
   "source": [
    "***This is called operator overloading because the operation is overloaded with more than one \n",
    "meaning.***"
   ]
  },
  {
   "cell_type": "code",
   "execution_count": 20,
   "id": "23900d95",
   "metadata": {},
   "outputs": [
    {
     "name": "stdout",
     "output_type": "stream",
     "text": [
      "['__abs__', '__add__', '__and__', '__bool__', '__ceil__', '__class__', '__delattr__', '__dir__', '__divmod__', '__doc__', '__eq__', '__float__', '__floor__', '__floordiv__', '__format__', '__ge__', '__getattribute__', '__getnewargs__', '__getstate__', '__gt__', '__hash__', '__index__', '__init__', '__init_subclass__', '__int__', '__invert__', '__le__', '__lshift__', '__lt__', '__mod__', '__mul__', '__ne__', '__neg__', '__new__', '__or__', '__pos__', '__pow__', '__radd__', '__rand__', '__rdivmod__', '__reduce__', '__reduce_ex__', '__repr__', '__rfloordiv__', '__rlshift__', '__rmod__', '__rmul__', '__ror__', '__round__', '__rpow__', '__rrshift__', '__rshift__', '__rsub__', '__rtruediv__', '__rxor__', '__setattr__', '__sizeof__', '__str__', '__sub__', '__subclasshook__', '__truediv__', '__trunc__', '__xor__', 'as_integer_ratio', 'bit_count', 'bit_length', 'conjugate', 'denominator', 'from_bytes', 'imag', 'numerator', 'real', 'to_bytes']\n"
     ]
    }
   ],
   "source": [
    "print(dir(int))"
   ]
  },
  {
   "cell_type": "code",
   "execution_count": 13,
   "id": "81dd16fa",
   "metadata": {},
   "outputs": [
    {
     "name": "stdout",
     "output_type": "stream",
     "text": [
      "['__abs__', '__add__', '__bool__', '__ceil__', '__class__', '__delattr__', '__dir__', '__divmod__', '__doc__', '__eq__', '__float__', '__floor__', '__floordiv__', '__format__', '__ge__', '__getattribute__', '__getformat__', '__getnewargs__', '__getstate__', '__gt__', '__hash__', '__init__', '__init_subclass__', '__int__', '__le__', '__lt__', '__mod__', '__mul__', '__ne__', '__neg__', '__new__', '__pos__', '__pow__', '__radd__', '__rdivmod__', '__reduce__', '__reduce_ex__', '__repr__', '__rfloordiv__', '__rmod__', '__rmul__', '__round__', '__rpow__', '__rsub__', '__rtruediv__', '__setattr__', '__sizeof__', '__str__', '__sub__', '__subclasshook__', '__truediv__', '__trunc__', 'as_integer_ratio', 'conjugate', 'fromhex', 'hex', 'imag', 'is_integer', 'real']\n"
     ]
    }
   ],
   "source": [
    "print(dir(float))"
   ]
  },
  {
   "cell_type": "code",
   "execution_count": 21,
   "id": "f29f0117-3dc4-4eea-8cc4-ef51466a0c89",
   "metadata": {},
   "outputs": [
    {
     "name": "stdout",
     "output_type": "stream",
     "text": [
      "['__abs__', '__add__', '__bool__', '__class__', '__complex__', '__delattr__', '__dir__', '__doc__', '__eq__', '__format__', '__ge__', '__getattribute__', '__getnewargs__', '__getstate__', '__gt__', '__hash__', '__init__', '__init_subclass__', '__le__', '__lt__', '__mul__', '__ne__', '__neg__', '__new__', '__pos__', '__pow__', '__radd__', '__reduce__', '__reduce_ex__', '__repr__', '__rmul__', '__rpow__', '__rsub__', '__rtruediv__', '__setattr__', '__sizeof__', '__str__', '__sub__', '__subclasshook__', '__truediv__', 'conjugate', 'imag', 'real']\n"
     ]
    }
   ],
   "source": [
    "print(dir(complex))"
   ]
  },
  {
   "cell_type": "markdown",
   "id": "cd020a5b",
   "metadata": {},
   "source": [
    "## Method Overloading\n",
    "\n",
    "- Method overloading in Python refers to the ability to define multiple methods in the same class with the same name but with a different number or type of parameters. \n",
    "\n",
    "- Unlike some other programming languages, Python does not support method overloading in the traditional sense (having multiple methods with the same name but different signatures). \n",
    "\n",
    "- However, you can achieve a similar effect through default parameter values and variable-length argument lists.\n",
    "\n",
    "## Example:"
   ]
  },
  {
   "cell_type": "code",
   "execution_count": 9,
   "id": "d75003b1",
   "metadata": {},
   "outputs": [
    {
     "name": "stdout",
     "output_type": "stream",
     "text": [
      "1\n",
      "2\n",
      "6\n"
     ]
    }
   ],
   "source": [
    "class Sample:\n",
    "    def demo(self,a,b=None,c=None):\n",
    "        if b is not None and c is not None:\n",
    "            return a+b+c\n",
    "        elif b is not None:\n",
    "            return a*b\n",
    "\n",
    "        else:\n",
    "            return a\n",
    "\n",
    "s1 = Sample()\n",
    "result1 = s1.demo(1)\n",
    "result2 = s1.demo(1,2)\n",
    "result3 = s1.demo(1,2,3)\n",
    "print(result1)\n",
    "print(result2)\n",
    "print(result3)"
   ]
  },
  {
   "cell_type": "code",
   "execution_count": 12,
   "id": "90714069-925d-45ee-a6f9-f993c053b8af",
   "metadata": {},
   "outputs": [
    {
     "name": "stdin",
     "output_type": "stream",
     "text": [
      "enter number here>>>  6\n"
     ]
    },
    {
     "name": "stdout",
     "output_type": "stream",
     "text": [
      "Factorial of 6 is 720\n"
     ]
    }
   ],
   "source": [
    "class Sample:\n",
    "    def demo(self,a,b=None,c=None):\n",
    "        if b is not None and c is not None:\n",
    "            return a+b+c\n",
    "        elif b is not None:\n",
    "            return a*b\n",
    "\n",
    "        else:\n",
    "            import math\n",
    "\n",
    "            # entr input\n",
    "            n = int(input(\"enter number here>>> \"))\n",
    "            \n",
    "            if n <0:\n",
    "                print(\"Factorial of a negative number doesn't exist\")\n",
    "            elif n==0:\n",
    "                print(\"Factorail of 0 is 1\")\n",
    "            else:\n",
    "                print(f\"Factorial of {n} is {math.factorial(n)}\")\n",
    "\n",
    "s1 = Sample()\n",
    "result1 = s1.demo(6)\n",
    "result1"
   ]
  },
  {
   "cell_type": "code",
   "execution_count": 24,
   "id": "49452842-3f27-4ccb-9fdb-bab35efdf3ea",
   "metadata": {},
   "outputs": [
    {
     "name": "stdout",
     "output_type": "stream",
     "text": [
      "14\n"
     ]
    }
   ],
   "source": [
    "class Sample:\n",
    "    def demo(self,a,b,c):\n",
    "        if b is None and c is None:\n",
    "            return a*a\n",
    "        if b is not None and c is not None:\n",
    "            return a+b+c\n",
    "        if b is not None:\n",
    "            return a*b\n",
    "            \n",
    "s1 = Sample()\n",
    "\n",
    "s1 = Sample()\n",
    "result1 = s1.demo(5,5,4)\n",
    "print(result1)\n"
   ]
  },
  {
   "cell_type": "markdown",
   "id": "2e5bf780",
   "metadata": {},
   "source": [
    "``Alternatively, you can use variable-length argument lists (*args and **kwargs) to achieve a more flexible form of method overloading:``"
   ]
  },
  {
   "cell_type": "code",
   "execution_count": 29,
   "id": "cacdd893",
   "metadata": {},
   "outputs": [
    {
     "name": "stdout",
     "output_type": "stream",
     "text": [
      "1\n",
      "6\n",
      "6\n",
      "242\n"
     ]
    }
   ],
   "source": [
    "class Calc:\n",
    "    def add(self,*args):\n",
    "        return sum(args)\n",
    "\n",
    "# obj\n",
    "\n",
    "calculator = Calc()\n",
    "\n",
    "res1 = calculator.add(1)\n",
    "res2 = calculator.add(2,4)\n",
    "res3 = calculator.add(1,2,3)\n",
    "res4 = calculator.add(44,55,66,77)\n",
    "print(res1)\n",
    "print(res2)\n",
    "print(res3)\n",
    "print(res4)"
   ]
  },
  {
   "cell_type": "markdown",
   "id": "bda89cc1",
   "metadata": {},
   "source": [
    "## Method Overriding\n",
    "\n",
    "### Refer to Inheritence Topic."
   ]
  },
  {
   "cell_type": "code",
   "execution_count": 33,
   "id": "43c82bfd-a678-49f3-a87f-09d847263b0a",
   "metadata": {},
   "outputs": [
    {
     "name": "stdout",
     "output_type": "stream",
     "text": [
      "class Three Method\n"
     ]
    }
   ],
   "source": [
    "class One:\n",
    "    def method(self):\n",
    "        print(\"class One Method\")\n",
    "\n",
    "class Two:\n",
    "    def method(self):\n",
    "        print(\"class Two Method\")\n",
    "\n",
    "\n",
    "class Three(One,Two):\n",
    "    def method(self):\n",
    "        print(\"class Three Method\")\n",
    "\n",
    "t1 = One()\n",
    "t1.method()"
   ]
  },
  {
   "cell_type": "code",
   "execution_count": null,
   "id": "10934aff-2a7b-418f-b6dd-458a8fdcbe8e",
   "metadata": {},
   "outputs": [],
   "source": []
  }
 ],
 "metadata": {
  "kernelspec": {
   "display_name": "Python 3 (ipykernel)",
   "language": "python",
   "name": "python3"
  },
  "language_info": {
   "codemirror_mode": {
    "name": "ipython",
    "version": 3
   },
   "file_extension": ".py",
   "mimetype": "text/x-python",
   "name": "python",
   "nbconvert_exporter": "python",
   "pygments_lexer": "ipython3",
   "version": "3.11.5"
  }
 },
 "nbformat": 4,
 "nbformat_minor": 5
}
